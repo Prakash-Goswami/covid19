{
 "cells": [
  {
   "cell_type": "markdown",
   "metadata": {},
   "source": [
    "Some exploration and preprocessing to create one dataframe and export it as .csv.\n",
    "\n",
    "Adjusted to data from 2020-05-01."
   ]
  },
  {
   "cell_type": "markdown",
   "metadata": {},
   "source": [
    "# Load Packages"
   ]
  },
  {
   "cell_type": "code",
   "execution_count": 1,
   "metadata": {
    "_cell_guid": "79c7e3d0-c299-4dcb-8224-4455121ee9b0",
    "_kg_hide-input": true,
    "_uuid": "d629ff2d2480ee46fbb7e2d37f6b5fab8052498a"
   },
   "outputs": [],
   "source": [
    "import numpy as np \n",
    "import pandas as pd\n",
    "\n",
    "import glob\n",
    "import json"
   ]
  },
  {
   "cell_type": "markdown",
   "metadata": {},
   "source": [
    "# Load and Prepare Data"
   ]
  },
  {
   "cell_type": "markdown",
   "metadata": {},
   "source": [
    "To read the JSON files we follow [COVID EDA: Initial Exploration Tool](https://www.kaggle.com/ivanegapratama/covid-eda-initial-exploration-tool)."
   ]
  },
  {
   "cell_type": "code",
   "execution_count": 2,
   "metadata": {},
   "outputs": [
    {
     "name": "stderr",
     "output_type": "stream",
     "text": [
      "/opt/conda/lib/python3.6/site-packages/IPython/core/interactiveshell.py:3063: DtypeWarning: Columns (14) have mixed types. Specify dtype option on import or set low_memory=False.\n",
      "  interactivity=interactivity, compiler=compiler, result=result)\n"
     ]
    },
    {
     "data": {
      "text/html": [
       "<div>\n",
       "<style scoped>\n",
       "    .dataframe tbody tr th:only-of-type {\n",
       "        vertical-align: middle;\n",
       "    }\n",
       "\n",
       "    .dataframe tbody tr th {\n",
       "        vertical-align: top;\n",
       "    }\n",
       "\n",
       "    .dataframe thead th {\n",
       "        text-align: right;\n",
       "    }\n",
       "</style>\n",
       "<table border=\"1\" class=\"dataframe\">\n",
       "  <thead>\n",
       "    <tr style=\"text-align: right;\">\n",
       "      <th></th>\n",
       "      <th>cord_uid</th>\n",
       "      <th>sha</th>\n",
       "      <th>source_x</th>\n",
       "      <th>title</th>\n",
       "      <th>doi</th>\n",
       "      <th>pmcid</th>\n",
       "      <th>pubmed_id</th>\n",
       "      <th>license</th>\n",
       "      <th>abstract</th>\n",
       "      <th>publish_time</th>\n",
       "      <th>authors</th>\n",
       "      <th>journal</th>\n",
       "      <th>Microsoft Academic Paper ID</th>\n",
       "      <th>WHO #Covidence</th>\n",
       "      <th>arxiv_id</th>\n",
       "      <th>has_pdf_parse</th>\n",
       "      <th>has_pmc_xml_parse</th>\n",
       "      <th>full_text_file</th>\n",
       "      <th>url</th>\n",
       "    </tr>\n",
       "  </thead>\n",
       "  <tbody>\n",
       "    <tr>\n",
       "      <th>0</th>\n",
       "      <td>zjufx4fo</td>\n",
       "      <td>b2897e1277f56641193a6db73825f707eed3e4c9</td>\n",
       "      <td>PMC</td>\n",
       "      <td>Sequence requirements for RNA strand transfer ...</td>\n",
       "      <td>10.1093/emboj/20.24.7220</td>\n",
       "      <td>PMC125340</td>\n",
       "      <td>11742998</td>\n",
       "      <td>unk</td>\n",
       "      <td>Nidovirus subgenomic mRNAs contain a leader se...</td>\n",
       "      <td>2001-12-17</td>\n",
       "      <td>Pasternak, Alexander O.; van den Born, Erwin; ...</td>\n",
       "      <td>The EMBO Journal</td>\n",
       "      <td>NaN</td>\n",
       "      <td>NaN</td>\n",
       "      <td>NaN</td>\n",
       "      <td>True</td>\n",
       "      <td>True</td>\n",
       "      <td>custom_license</td>\n",
       "      <td>http://europepmc.org/articles/pmc125340?pdf=re...</td>\n",
       "    </tr>\n",
       "    <tr>\n",
       "      <th>1</th>\n",
       "      <td>ymceytj3</td>\n",
       "      <td>e3d0d482ebd9a8ba81c254cc433f314142e72174</td>\n",
       "      <td>PMC</td>\n",
       "      <td>Crystal structure of murine sCEACAM1a[1,4]: a ...</td>\n",
       "      <td>10.1093/emboj/21.9.2076</td>\n",
       "      <td>PMC125375</td>\n",
       "      <td>11980704</td>\n",
       "      <td>unk</td>\n",
       "      <td>CEACAM1 is a member of the carcinoembryonic an...</td>\n",
       "      <td>2002-05-01</td>\n",
       "      <td>Tan, Kemin; Zelus, Bruce D.; Meijers, Rob; Liu...</td>\n",
       "      <td>The EMBO Journal</td>\n",
       "      <td>NaN</td>\n",
       "      <td>NaN</td>\n",
       "      <td>NaN</td>\n",
       "      <td>True</td>\n",
       "      <td>True</td>\n",
       "      <td>custom_license</td>\n",
       "      <td>http://europepmc.org/articles/pmc125375?pdf=re...</td>\n",
       "    </tr>\n",
       "  </tbody>\n",
       "</table>\n",
       "</div>"
      ],
      "text/plain": [
       "   cord_uid                                       sha source_x  \\\n",
       "0  zjufx4fo  b2897e1277f56641193a6db73825f707eed3e4c9      PMC   \n",
       "1  ymceytj3  e3d0d482ebd9a8ba81c254cc433f314142e72174      PMC   \n",
       "\n",
       "                                               title  \\\n",
       "0  Sequence requirements for RNA strand transfer ...   \n",
       "1  Crystal structure of murine sCEACAM1a[1,4]: a ...   \n",
       "\n",
       "                        doi      pmcid pubmed_id license  \\\n",
       "0  10.1093/emboj/20.24.7220  PMC125340  11742998     unk   \n",
       "1   10.1093/emboj/21.9.2076  PMC125375  11980704     unk   \n",
       "\n",
       "                                            abstract publish_time  \\\n",
       "0  Nidovirus subgenomic mRNAs contain a leader se...   2001-12-17   \n",
       "1  CEACAM1 is a member of the carcinoembryonic an...   2002-05-01   \n",
       "\n",
       "                                             authors           journal  \\\n",
       "0  Pasternak, Alexander O.; van den Born, Erwin; ...  The EMBO Journal   \n",
       "1  Tan, Kemin; Zelus, Bruce D.; Meijers, Rob; Liu...  The EMBO Journal   \n",
       "\n",
       "  Microsoft Academic Paper ID WHO #Covidence arxiv_id  has_pdf_parse  \\\n",
       "0                         NaN            NaN      NaN           True   \n",
       "1                         NaN            NaN      NaN           True   \n",
       "\n",
       "   has_pmc_xml_parse  full_text_file  \\\n",
       "0               True  custom_license   \n",
       "1               True  custom_license   \n",
       "\n",
       "                                                 url  \n",
       "0  http://europepmc.org/articles/pmc125340?pdf=re...  \n",
       "1  http://europepmc.org/articles/pmc125375?pdf=re...  "
      ]
     },
     "execution_count": 2,
     "metadata": {},
     "output_type": "execute_result"
    }
   ],
   "source": [
    "root_path = '/kaggle/input/CORD-19-research-challenge/'\n",
    "metadata_path = f'{root_path}/metadata.csv'\n",
    "meta_df = pd.read_csv(metadata_path, dtype={\n",
    "    'pubmed_id': str,\n",
    "    'Microsoft Academic Paper ID': str, \n",
    "    'doi': str\n",
    "})\n",
    "meta_df.head(2)"
   ]
  },
  {
   "cell_type": "code",
   "execution_count": 3,
   "metadata": {},
   "outputs": [
    {
     "data": {
      "text/plain": [
       "14124"
      ]
     },
     "execution_count": 3,
     "metadata": {},
     "output_type": "execute_result"
    }
   ],
   "source": [
    "len(meta_df) - meta_df.has_pdf_parse.sum()"
   ]
  },
  {
   "cell_type": "code",
   "execution_count": 4,
   "metadata": {},
   "outputs": [
    {
     "data": {
      "text/plain": [
       "cord_uid                           0\n",
       "sha                            14124\n",
       "source_x                           0\n",
       "title                            163\n",
       "doi                             4086\n",
       "pmcid                          11748\n",
       "pubmed_id                      18559\n",
       "license                            0\n",
       "abstract                       11130\n",
       "publish_time                       8\n",
       "authors                         2591\n",
       "journal                         7059\n",
       "Microsoft Academic Paper ID    58923\n",
       "WHO #Covidence                 58119\n",
       "arxiv_id                       59211\n",
       "has_pdf_parse                      0\n",
       "has_pmc_xml_parse                  0\n",
       "full_text_file                  8461\n",
       "url                              440\n",
       "dtype: int64"
      ]
     },
     "execution_count": 4,
     "metadata": {},
     "output_type": "execute_result"
    }
   ],
   "source": [
    "meta_df.isnull().sum()"
   ]
  },
  {
   "cell_type": "code",
   "execution_count": 5,
   "metadata": {},
   "outputs": [
    {
     "data": {
      "text/plain": [
       "59851"
      ]
     },
     "execution_count": 5,
     "metadata": {},
     "output_type": "execute_result"
    }
   ],
   "source": [
    "meta_df.cord_uid.nunique()"
   ]
  },
  {
   "cell_type": "code",
   "execution_count": 6,
   "metadata": {},
   "outputs": [
    {
     "data": {
      "text/plain": [
       "45748"
      ]
     },
     "execution_count": 6,
     "metadata": {},
     "output_type": "execute_result"
    }
   ],
   "source": [
    "meta_df.sha.nunique()"
   ]
  },
  {
   "cell_type": "code",
   "execution_count": 7,
   "metadata": {},
   "outputs": [
    {
     "data": {
      "text/plain": [
       "58676"
      ]
     },
     "execution_count": 7,
     "metadata": {},
     "output_type": "execute_result"
    }
   ],
   "source": [
    "meta_df.title.nunique()"
   ]
  },
  {
   "cell_type": "code",
   "execution_count": 8,
   "metadata": {},
   "outputs": [
    {
     "data": {
      "text/plain": [
       "48409"
      ]
     },
     "execution_count": 8,
     "metadata": {},
     "output_type": "execute_result"
    }
   ],
   "source": [
    "all_json = glob.glob(f'{root_path}/**/pdf_json/*.json', recursive=True)\n",
    "len(all_json)"
   ]
  },
  {
   "cell_type": "code",
   "execution_count": 9,
   "metadata": {},
   "outputs": [
    {
     "data": {
      "text/plain": [
       "22851"
      ]
     },
     "execution_count": 9,
     "metadata": {},
     "output_type": "execute_result"
    }
   ],
   "source": [
    "all_json_pmc = glob.glob(f'{root_path}/**/pmc_json/*.json', recursive=True)\n",
    "len(all_json_pmc)"
   ]
  },
  {
   "cell_type": "markdown",
   "metadata": {},
   "source": [
    "# pdf_json"
   ]
  },
  {
   "cell_type": "code",
   "execution_count": 10,
   "metadata": {},
   "outputs": [],
   "source": [
    "methods = ['methods','method','statistical methods','materials','materials and methods',\n",
    "                'data collection','the study','study design','experimental design','objective',\n",
    "                'objectives','procedures','data collection and analysis', 'methodology',\n",
    "                'material and methods','the model','experimental procedures','main text']"
   ]
  },
  {
   "cell_type": "code",
   "execution_count": 11,
   "metadata": {
    "_kg_hide-input": true
   },
   "outputs": [],
   "source": [
    "# [''.join(x.lower() for x in m if x.isalpha()) for m in methods]\n",
    "\n",
    "# for m in methods:\n",
    "#     print(''.join(x.lower() for x in m if x.isalpha()))"
   ]
  },
  {
   "cell_type": "code",
   "execution_count": 12,
   "metadata": {},
   "outputs": [
    {
     "name": "stdout",
     "output_type": "stream",
     "text": [
      "3cdc48bb9e40afd30a59463b7872761a726998c8: House ßies, Musca domestica L. (Diptera: Muscidae), were examined for their ability to harbor and transmit Newcastle disease virus (family Paramyxoviridae, genus Avulavirus, NDV) by using a mesogenic ... Newcastle disease (ND) is an emerging disease affecting the poultry industry worldwide. The nature of the international poultry industry facilitates the movement of poultry products, equipment, and pe...\n"
     ]
    }
   ],
   "source": [
    "class FileReader:\n",
    "    def __init__(self, file_path):\n",
    "        with open(file_path) as file:\n",
    "            content = json.load(file)\n",
    "            self.paper_id = content['paper_id']\n",
    "            self.abstract = []\n",
    "            self.body_text = []\n",
    "            self.methods = []\n",
    "            self.results = []\n",
    "\n",
    "            # Abstract\n",
    "            for entry in content['abstract']:\n",
    "                self.abstract.append(entry['text'])\n",
    "            # Body text\n",
    "            for entry in content['body_text']:\n",
    "                self.body_text.append(entry['text'])\n",
    "            # Methods\n",
    "            methods = ['methods','method','statistical methods','materials','materials and methods',\n",
    "                'data collection','the study','study design','experimental design','objective',\n",
    "                'objectives','procedures','data collection and analysis', 'methodology',\n",
    "                'material and methods','the model','experimental procedures','main text']\n",
    "            for entry in content['body_text']:\n",
    "                section_title = ''.join(x.lower() for x in entry['section'] if x.isalpha()) #remove numbers and spaces\n",
    "                if any(m in section_title for m in [''.join(x.lower() for x in m if x.isalpha()) for m in methods]) : \n",
    "                    self.methods.append(entry['text'])\n",
    "            # Results\n",
    "            results_synonyms = ['result']\n",
    "            for entry in content['body_text']:\n",
    "                section_title = ''.join(x.lower() for x in entry['section'] if x.isalpha())\n",
    "                if any(r in section_title for r in results_synonyms) :\n",
    "                    self.results.append(entry['text'])\n",
    "                    \n",
    "            self.abstract = '\\n'.join(self.abstract)\n",
    "            self.body_text = '\\n'.join(self.body_text)\n",
    "            self.methods = '\\n'.join(self.methods)\n",
    "            self.results = '\\n'.join(self.results)\n",
    "\n",
    "    def __repr__(self):\n",
    "        return f'{self.paper_id}: {self.abstract[:200]}... {self.body_text[:200]}...'\n",
    "first_row = FileReader(all_json[0])\n",
    "print(first_row)"
   ]
  },
  {
   "cell_type": "code",
   "execution_count": 13,
   "metadata": {},
   "outputs": [
    {
     "name": "stdout",
     "output_type": "stream",
     "text": [
      "Processing index: 0 of 48409\n",
      "Processing index: 4840 of 48409\n",
      "Processing index: 9680 of 48409\n",
      "Processing index: 14520 of 48409\n",
      "Processing index: 19360 of 48409\n",
      "Processing index: 24200 of 48409\n",
      "Processing index: 29040 of 48409\n",
      "Processing index: 33880 of 48409\n",
      "Processing index: 38720 of 48409\n",
      "Processing index: 43560 of 48409\n",
      "Processing index: 48400 of 48409\n"
     ]
    }
   ],
   "source": [
    "dict_ = {'paper_id': [], 'abstract': [], 'body_text': [], 'methods': [], 'results': []}\n",
    "for idx, entry in enumerate(all_json):\n",
    "    if idx % (len(all_json) // 10) == 0:\n",
    "        print(f'Processing index: {idx} of {len(all_json)}')\n",
    "    content = FileReader(entry)\n",
    "    dict_['paper_id'].append(content.paper_id)\n",
    "    dict_['abstract'].append(content.abstract)\n",
    "    dict_['body_text'].append(content.body_text)\n",
    "    dict_['methods'].append(content.methods)\n",
    "    dict_['results'].append(content.results)"
   ]
  },
  {
   "cell_type": "code",
   "execution_count": 14,
   "metadata": {},
   "outputs": [
    {
     "data": {
      "text/html": [
       "<div>\n",
       "<style scoped>\n",
       "    .dataframe tbody tr th:only-of-type {\n",
       "        vertical-align: middle;\n",
       "    }\n",
       "\n",
       "    .dataframe tbody tr th {\n",
       "        vertical-align: top;\n",
       "    }\n",
       "\n",
       "    .dataframe thead th {\n",
       "        text-align: right;\n",
       "    }\n",
       "</style>\n",
       "<table border=\"1\" class=\"dataframe\">\n",
       "  <thead>\n",
       "    <tr style=\"text-align: right;\">\n",
       "      <th></th>\n",
       "      <th>paper_id</th>\n",
       "      <th>abstract</th>\n",
       "      <th>body_text</th>\n",
       "      <th>methods</th>\n",
       "      <th>results</th>\n",
       "    </tr>\n",
       "  </thead>\n",
       "  <tbody>\n",
       "    <tr>\n",
       "      <th>0</th>\n",
       "      <td>3cdc48bb9e40afd30a59463b7872761a726998c8</td>\n",
       "      <td>House ßies, Musca domestica L. (Diptera: Musci...</td>\n",
       "      <td>Newcastle disease (ND) is an emerging disease ...</td>\n",
       "      <td>ND Virus Culture. NDV (Roakin strain) was obta...</td>\n",
       "      <td>Experiment 1. Adult house ßies harbored Newcas...</td>\n",
       "    </tr>\n",
       "    <tr>\n",
       "      <th>1</th>\n",
       "      <td>d99acb4e99be7852aa61a688c9fbd38d44b5a252</td>\n",
       "      <td>Live attenuated recombinant measles vaccine vi...</td>\n",
       "      <td>Live attenuated viruses have been developed an...</td>\n",
       "      <td>Viruses and cells. RSV A2 strain was obtained ...</td>\n",
       "      <td></td>\n",
       "    </tr>\n",
       "    <tr>\n",
       "      <th>2</th>\n",
       "      <td>748d4c57fe1acc8d9d97cf574f7dea5296f9386c</td>\n",
       "      <td>Ebola virus (EBOV) makes extensive and intrica...</td>\n",
       "      <td>occurs primarily through a macropinocytosis-li...</td>\n",
       "      <td>Cells. U2OS human osteosarcoma cells were cult...</td>\n",
       "      <td></td>\n",
       "    </tr>\n",
       "    <tr>\n",
       "      <th>3</th>\n",
       "      <td>b891efc6e1419713b05ff7d89b26d260478c28df</td>\n",
       "      <td>China has the world's second largest tuberculo...</td>\n",
       "      <td>The goal of the present study was to investiga...</td>\n",
       "      <td></td>\n",
       "      <td></td>\n",
       "    </tr>\n",
       "    <tr>\n",
       "      <th>4</th>\n",
       "      <td>353852971069ad5794445e5c1ab6077ce23da75d</td>\n",
       "      <td></td>\n",
       "      <td>Coronavirus disease 2019 (COVID-19) has spread...</td>\n",
       "      <td></td>\n",
       "      <td></td>\n",
       "    </tr>\n",
       "  </tbody>\n",
       "</table>\n",
       "</div>"
      ],
      "text/plain": [
       "                                   paper_id  \\\n",
       "0  3cdc48bb9e40afd30a59463b7872761a726998c8   \n",
       "1  d99acb4e99be7852aa61a688c9fbd38d44b5a252   \n",
       "2  748d4c57fe1acc8d9d97cf574f7dea5296f9386c   \n",
       "3  b891efc6e1419713b05ff7d89b26d260478c28df   \n",
       "4  353852971069ad5794445e5c1ab6077ce23da75d   \n",
       "\n",
       "                                            abstract  \\\n",
       "0  House ßies, Musca domestica L. (Diptera: Musci...   \n",
       "1  Live attenuated recombinant measles vaccine vi...   \n",
       "2  Ebola virus (EBOV) makes extensive and intrica...   \n",
       "3  China has the world's second largest tuberculo...   \n",
       "4                                                      \n",
       "\n",
       "                                           body_text  \\\n",
       "0  Newcastle disease (ND) is an emerging disease ...   \n",
       "1  Live attenuated viruses have been developed an...   \n",
       "2  occurs primarily through a macropinocytosis-li...   \n",
       "3  The goal of the present study was to investiga...   \n",
       "4  Coronavirus disease 2019 (COVID-19) has spread...   \n",
       "\n",
       "                                             methods  \\\n",
       "0  ND Virus Culture. NDV (Roakin strain) was obta...   \n",
       "1  Viruses and cells. RSV A2 strain was obtained ...   \n",
       "2  Cells. U2OS human osteosarcoma cells were cult...   \n",
       "3                                                      \n",
       "4                                                      \n",
       "\n",
       "                                             results  \n",
       "0  Experiment 1. Adult house ßies harbored Newcas...  \n",
       "1                                                     \n",
       "2                                                     \n",
       "3                                                     \n",
       "4                                                     "
      ]
     },
     "execution_count": 14,
     "metadata": {},
     "output_type": "execute_result"
    }
   ],
   "source": [
    "papers = pd.DataFrame(dict_, columns=['paper_id', 'abstract', 'body_text', 'methods', 'results'])\n",
    "papers.head()"
   ]
  },
  {
   "cell_type": "code",
   "execution_count": 15,
   "metadata": {},
   "outputs": [
    {
     "data": {
      "text/plain": [
       "(18591, 5)"
      ]
     },
     "execution_count": 15,
     "metadata": {},
     "output_type": "execute_result"
    }
   ],
   "source": [
    "papers[(papers.results.str.len() != 0) | (papers.methods.str.len() != 0)].shape"
   ]
  },
  {
   "cell_type": "code",
   "execution_count": 16,
   "metadata": {},
   "outputs": [],
   "source": [
    "df = pd.merge(papers, meta_df, left_on='paper_id', right_on='sha', how='left').drop('sha', axis=1)"
   ]
  },
  {
   "cell_type": "code",
   "execution_count": 17,
   "metadata": {},
   "outputs": [
    {
     "data": {
      "text/plain": [
       "Index(['paper_id', 'abstract_x', 'body_text', 'methods', 'results', 'cord_uid',\n",
       "       'source_x', 'title', 'doi', 'pmcid', 'pubmed_id', 'license',\n",
       "       'abstract_y', 'publish_time', 'authors', 'journal',\n",
       "       'Microsoft Academic Paper ID', 'WHO #Covidence', 'arxiv_id',\n",
       "       'has_pdf_parse', 'has_pmc_xml_parse', 'full_text_file', 'url'],\n",
       "      dtype='object')"
      ]
     },
     "execution_count": 17,
     "metadata": {},
     "output_type": "execute_result"
    }
   ],
   "source": [
    "df.columns"
   ]
  },
  {
   "cell_type": "markdown",
   "metadata": {},
   "source": [
    "# pmc_json"
   ]
  },
  {
   "cell_type": "markdown",
   "metadata": {},
   "source": [
    "This only contains the full text - no abstracts!"
   ]
  },
  {
   "cell_type": "code",
   "execution_count": 18,
   "metadata": {},
   "outputs": [
    {
     "name": "stdout",
     "output_type": "stream",
     "text": [
      "PMC6254639: Human rhinoviruses (HRV) are positive single-stranded RNA viruses belonging to the family Piconaviridae. HRV infection in humans usually causes common cold and mild illnesses, but is sometimes associa...\n"
     ]
    }
   ],
   "source": [
    "class FileReader:\n",
    "    def __init__(self, file_path):\n",
    "        with open(file_path) as file:\n",
    "            content = json.load(file)\n",
    "            self.paper_id = content['paper_id']\n",
    "            self.body_text = []\n",
    "            self.methods = []\n",
    "            self.results = []\n",
    "\n",
    "            # Body text\n",
    "            for entry in content['body_text']:\n",
    "                self.body_text.append(entry['text'])\n",
    "            # Methods\n",
    "            methods = ['methods','method','statistical methods','materials','materials and methods',\n",
    "                'data collection','the study','study design','experimental design','objective',\n",
    "                'objectives','procedures','data collection and analysis', 'methodology',\n",
    "                'material and methods','the model','experimental procedures','main text']\n",
    "            for entry in content['body_text']:\n",
    "                section_title = ''.join(x.lower() for x in entry['section'] if x.isalpha()) #remove numbers and spaces\n",
    "                if any(m in section_title for m in [''.join(x.lower() for x in m if x.isalpha()) for m in methods]) : \n",
    "                    self.methods.append(entry['text'])\n",
    "            # Results\n",
    "            results_synonyms = ['result']\n",
    "            for entry in content['body_text']:\n",
    "                section_title = ''.join(x.lower() for x in entry['section'] if x.isalpha())\n",
    "                if any(r in section_title for r in results_synonyms) :\n",
    "                    self.results.append(entry['text'])\n",
    "                    \n",
    "            self.body_text = '\\n'.join(self.body_text)\n",
    "            self.methods = '\\n'.join(self.methods)\n",
    "            self.results = '\\n'.join(self.results)\n",
    "\n",
    "    def __repr__(self):\n",
    "        return f'{self.paper_id}: {self.body_text[:200]}...'\n",
    "first_row = FileReader(all_json_pmc[0])\n",
    "print(first_row)"
   ]
  },
  {
   "cell_type": "code",
   "execution_count": 19,
   "metadata": {},
   "outputs": [
    {
     "name": "stdout",
     "output_type": "stream",
     "text": [
      "Processing index: 0 of 22851\n",
      "Processing index: 2285 of 22851\n",
      "Processing index: 4570 of 22851\n",
      "Processing index: 6855 of 22851\n",
      "Processing index: 9140 of 22851\n",
      "Processing index: 11425 of 22851\n",
      "Processing index: 13710 of 22851\n",
      "Processing index: 15995 of 22851\n",
      "Processing index: 18280 of 22851\n",
      "Processing index: 20565 of 22851\n",
      "Processing index: 22850 of 22851\n"
     ]
    }
   ],
   "source": [
    "dict_ = {'paper_id': [], 'body_text': [], 'methods': [], 'results': []}\n",
    "for idx, entry in enumerate(all_json_pmc):\n",
    "    if idx % (len(all_json_pmc) // 10) == 0:\n",
    "        print(f'Processing index: {idx} of {len(all_json_pmc)}')\n",
    "    content = FileReader(entry)\n",
    "    dict_['paper_id'].append(content.paper_id)\n",
    "    dict_['body_text'].append(content.body_text)\n",
    "    dict_['methods'].append(content.methods)\n",
    "    dict_['results'].append(content.results)"
   ]
  },
  {
   "cell_type": "code",
   "execution_count": 20,
   "metadata": {},
   "outputs": [
    {
     "data": {
      "text/html": [
       "<div>\n",
       "<style scoped>\n",
       "    .dataframe tbody tr th:only-of-type {\n",
       "        vertical-align: middle;\n",
       "    }\n",
       "\n",
       "    .dataframe tbody tr th {\n",
       "        vertical-align: top;\n",
       "    }\n",
       "\n",
       "    .dataframe thead th {\n",
       "        text-align: right;\n",
       "    }\n",
       "</style>\n",
       "<table border=\"1\" class=\"dataframe\">\n",
       "  <thead>\n",
       "    <tr style=\"text-align: right;\">\n",
       "      <th></th>\n",
       "      <th>paper_id</th>\n",
       "      <th>body_text</th>\n",
       "      <th>methods</th>\n",
       "      <th>results</th>\n",
       "    </tr>\n",
       "  </thead>\n",
       "  <tbody>\n",
       "    <tr>\n",
       "      <th>0</th>\n",
       "      <td>PMC6254639</td>\n",
       "      <td>Human rhinoviruses (HRV) are positive single-s...</td>\n",
       "      <td>Pochonin D was synthesized and purified as rec...</td>\n",
       "      <td>To identify the anti-HRV1B effect of pochonin ...</td>\n",
       "    </tr>\n",
       "    <tr>\n",
       "      <th>1</th>\n",
       "      <td>PMC4713849</td>\n",
       "      <td>On May 20, 2015, Middle East respiratory syndr...</td>\n",
       "      <td>The study population consisted of clinical lab...</td>\n",
       "      <td>The number of MERS-CoV rRT-PCR tests performed...</td>\n",
       "    </tr>\n",
       "    <tr>\n",
       "      <th>2</th>\n",
       "      <td>PMC6294899</td>\n",
       "      <td>The first quantities generally investigated in...</td>\n",
       "      <td>The model considers a weighted multiplex netwo...</td>\n",
       "      <td>The first quantities generally investigated in...</td>\n",
       "    </tr>\n",
       "    <tr>\n",
       "      <th>3</th>\n",
       "      <td>PMC7142029</td>\n",
       "      <td>Fever is a common cause of patient visits in p...</td>\n",
       "      <td>Ethical approval for this study was obtained f...</td>\n",
       "      <td>During the study period, 610 febrile infants a...</td>\n",
       "    </tr>\n",
       "    <tr>\n",
       "      <th>4</th>\n",
       "      <td>PMC5404251</td>\n",
       "      <td>Multiple stockpiles and releasing models were ...</td>\n",
       "      <td></td>\n",
       "      <td></td>\n",
       "    </tr>\n",
       "  </tbody>\n",
       "</table>\n",
       "</div>"
      ],
      "text/plain": [
       "     paper_id                                          body_text  \\\n",
       "0  PMC6254639  Human rhinoviruses (HRV) are positive single-s...   \n",
       "1  PMC4713849  On May 20, 2015, Middle East respiratory syndr...   \n",
       "2  PMC6294899  The first quantities generally investigated in...   \n",
       "3  PMC7142029  Fever is a common cause of patient visits in p...   \n",
       "4  PMC5404251  Multiple stockpiles and releasing models were ...   \n",
       "\n",
       "                                             methods  \\\n",
       "0  Pochonin D was synthesized and purified as rec...   \n",
       "1  The study population consisted of clinical lab...   \n",
       "2  The model considers a weighted multiplex netwo...   \n",
       "3  Ethical approval for this study was obtained f...   \n",
       "4                                                      \n",
       "\n",
       "                                             results  \n",
       "0  To identify the anti-HRV1B effect of pochonin ...  \n",
       "1  The number of MERS-CoV rRT-PCR tests performed...  \n",
       "2  The first quantities generally investigated in...  \n",
       "3  During the study period, 610 febrile infants a...  \n",
       "4                                                     "
      ]
     },
     "execution_count": 20,
     "metadata": {},
     "output_type": "execute_result"
    }
   ],
   "source": [
    "pmc_text = pd.DataFrame(dict_, columns=['paper_id', 'body_text', 'methods', 'results'])\n",
    "pmc_text.head()"
   ]
  },
  {
   "cell_type": "code",
   "execution_count": 21,
   "metadata": {},
   "outputs": [
    {
     "data": {
      "text/plain": [
       "(22851, 4)"
      ]
     },
     "execution_count": 21,
     "metadata": {},
     "output_type": "execute_result"
    }
   ],
   "source": [
    "pmc_text.shape"
   ]
  },
  {
   "cell_type": "markdown",
   "metadata": {},
   "source": [
    "Careful, some of the new texts are empty strings!"
   ]
  },
  {
   "cell_type": "code",
   "execution_count": 22,
   "metadata": {},
   "outputs": [
    {
     "data": {
      "text/html": [
       "<div>\n",
       "<style scoped>\n",
       "    .dataframe tbody tr th:only-of-type {\n",
       "        vertical-align: middle;\n",
       "    }\n",
       "\n",
       "    .dataframe tbody tr th {\n",
       "        vertical-align: top;\n",
       "    }\n",
       "\n",
       "    .dataframe thead th {\n",
       "        text-align: right;\n",
       "    }\n",
       "</style>\n",
       "<table border=\"1\" class=\"dataframe\">\n",
       "  <thead>\n",
       "    <tr style=\"text-align: right;\">\n",
       "      <th></th>\n",
       "      <th>paper_id</th>\n",
       "      <th>body_text</th>\n",
       "      <th>methods</th>\n",
       "      <th>results</th>\n",
       "    </tr>\n",
       "  </thead>\n",
       "  <tbody>\n",
       "    <tr>\n",
       "      <th>12</th>\n",
       "      <td>PMC6735695</td>\n",
       "      <td></td>\n",
       "      <td></td>\n",
       "      <td></td>\n",
       "    </tr>\n",
       "    <tr>\n",
       "      <th>43</th>\n",
       "      <td>PMC2115513</td>\n",
       "      <td></td>\n",
       "      <td></td>\n",
       "      <td></td>\n",
       "    </tr>\n",
       "    <tr>\n",
       "      <th>50</th>\n",
       "      <td>PMC7088696</td>\n",
       "      <td></td>\n",
       "      <td></td>\n",
       "      <td></td>\n",
       "    </tr>\n",
       "    <tr>\n",
       "      <th>61</th>\n",
       "      <td>PMC2119890</td>\n",
       "      <td></td>\n",
       "      <td></td>\n",
       "      <td></td>\n",
       "    </tr>\n",
       "    <tr>\n",
       "      <th>77</th>\n",
       "      <td>PMC2200014</td>\n",
       "      <td></td>\n",
       "      <td></td>\n",
       "      <td></td>\n",
       "    </tr>\n",
       "    <tr>\n",
       "      <th>...</th>\n",
       "      <td>...</td>\n",
       "      <td>...</td>\n",
       "      <td>...</td>\n",
       "      <td>...</td>\n",
       "    </tr>\n",
       "    <tr>\n",
       "      <th>22376</th>\n",
       "      <td>PMC3680036</td>\n",
       "      <td></td>\n",
       "      <td></td>\n",
       "      <td></td>\n",
       "    </tr>\n",
       "    <tr>\n",
       "      <th>22464</th>\n",
       "      <td>PMC7117791</td>\n",
       "      <td></td>\n",
       "      <td></td>\n",
       "      <td></td>\n",
       "    </tr>\n",
       "    <tr>\n",
       "      <th>22696</th>\n",
       "      <td>PMC7089550</td>\n",
       "      <td></td>\n",
       "      <td></td>\n",
       "      <td></td>\n",
       "    </tr>\n",
       "    <tr>\n",
       "      <th>22715</th>\n",
       "      <td>PMC1808101</td>\n",
       "      <td></td>\n",
       "      <td></td>\n",
       "      <td></td>\n",
       "    </tr>\n",
       "    <tr>\n",
       "      <th>22799</th>\n",
       "      <td>PMC7089205</td>\n",
       "      <td></td>\n",
       "      <td></td>\n",
       "      <td></td>\n",
       "    </tr>\n",
       "  </tbody>\n",
       "</table>\n",
       "<p>2411 rows × 4 columns</p>\n",
       "</div>"
      ],
      "text/plain": [
       "         paper_id body_text methods results\n",
       "12     PMC6735695                          \n",
       "43     PMC2115513                          \n",
       "50     PMC7088696                          \n",
       "61     PMC2119890                          \n",
       "77     PMC2200014                          \n",
       "...           ...       ...     ...     ...\n",
       "22376  PMC3680036                          \n",
       "22464  PMC7117791                          \n",
       "22696  PMC7089550                          \n",
       "22715  PMC1808101                          \n",
       "22799  PMC7089205                          \n",
       "\n",
       "[2411 rows x 4 columns]"
      ]
     },
     "execution_count": 22,
     "metadata": {},
     "output_type": "execute_result"
    }
   ],
   "source": [
    "pmc_text[pmc_text.body_text == '']"
   ]
  },
  {
   "cell_type": "code",
   "execution_count": 23,
   "metadata": {},
   "outputs": [],
   "source": [
    "pmc_text = pmc_text[pmc_text.body_text != '']"
   ]
  },
  {
   "cell_type": "code",
   "execution_count": 24,
   "metadata": {},
   "outputs": [
    {
     "data": {
      "text/plain": [
       "(20440, 4)"
      ]
     },
     "execution_count": 24,
     "metadata": {},
     "output_type": "execute_result"
    }
   ],
   "source": [
    "pmc_text.shape"
   ]
  },
  {
   "cell_type": "code",
   "execution_count": 25,
   "metadata": {},
   "outputs": [
    {
     "data": {
      "text/html": [
       "<div>\n",
       "<style scoped>\n",
       "    .dataframe tbody tr th:only-of-type {\n",
       "        vertical-align: middle;\n",
       "    }\n",
       "\n",
       "    .dataframe tbody tr th {\n",
       "        vertical-align: top;\n",
       "    }\n",
       "\n",
       "    .dataframe thead th {\n",
       "        text-align: right;\n",
       "    }\n",
       "</style>\n",
       "<table border=\"1\" class=\"dataframe\">\n",
       "  <thead>\n",
       "    <tr style=\"text-align: right;\">\n",
       "      <th></th>\n",
       "      <th>paper_id</th>\n",
       "      <th>abstract_x</th>\n",
       "      <th>body_text</th>\n",
       "      <th>methods</th>\n",
       "      <th>results</th>\n",
       "      <th>cord_uid</th>\n",
       "      <th>source_x</th>\n",
       "      <th>title</th>\n",
       "      <th>doi</th>\n",
       "      <th>pmcid</th>\n",
       "      <th>...</th>\n",
       "      <th>publish_time</th>\n",
       "      <th>authors</th>\n",
       "      <th>journal</th>\n",
       "      <th>Microsoft Academic Paper ID</th>\n",
       "      <th>WHO #Covidence</th>\n",
       "      <th>arxiv_id</th>\n",
       "      <th>has_pdf_parse</th>\n",
       "      <th>has_pmc_xml_parse</th>\n",
       "      <th>full_text_file</th>\n",
       "      <th>url</th>\n",
       "    </tr>\n",
       "  </thead>\n",
       "  <tbody>\n",
       "    <tr>\n",
       "      <th>0</th>\n",
       "      <td>3cdc48bb9e40afd30a59463b7872761a726998c8</td>\n",
       "      <td>House ßies, Musca domestica L. (Diptera: Musci...</td>\n",
       "      <td>Newcastle disease (ND) is an emerging disease ...</td>\n",
       "      <td>ND Virus Culture. NDV (Roakin strain) was obta...</td>\n",
       "      <td>Experiment 1. Adult house ßies harbored Newcas...</td>\n",
       "      <td>66ecksxm</td>\n",
       "      <td>PMC</td>\n",
       "      <td>Experimental Evaluation of Musca domestica (Di...</td>\n",
       "      <td>10.1093/jmedent/44.4.666</td>\n",
       "      <td>PMC7107465</td>\n",
       "      <td>...</td>\n",
       "      <td>2007-07-01</td>\n",
       "      <td>Watson, D. Wes; Niño, Elina L.; Rochon, Katery...</td>\n",
       "      <td>J Med Entomol</td>\n",
       "      <td>NaN</td>\n",
       "      <td>NaN</td>\n",
       "      <td>NaN</td>\n",
       "      <td>True</td>\n",
       "      <td>True</td>\n",
       "      <td>noncomm_use_subset</td>\n",
       "      <td>https://www.ncbi.nlm.nih.gov/pmc/articles/PMC7...</td>\n",
       "    </tr>\n",
       "    <tr>\n",
       "      <th>1</th>\n",
       "      <td>d99acb4e99be7852aa61a688c9fbd38d44b5a252</td>\n",
       "      <td>Live attenuated recombinant measles vaccine vi...</td>\n",
       "      <td>Live attenuated viruses have been developed an...</td>\n",
       "      <td>Viruses and cells. RSV A2 strain was obtained ...</td>\n",
       "      <td></td>\n",
       "      <td>3qdjmb2j</td>\n",
       "      <td>PMC</td>\n",
       "      <td>Evaluation of Measles Vaccine Virus as a Vecto...</td>\n",
       "      <td>10.2174/1874357901206010012</td>\n",
       "      <td>PMC3286841</td>\n",
       "      <td>...</td>\n",
       "      <td>2012-02-16</td>\n",
       "      <td>Mok, Hoyin; Cheng, Xing; Xu, Qi; Zengel, James...</td>\n",
       "      <td>Open Virol J</td>\n",
       "      <td>NaN</td>\n",
       "      <td>NaN</td>\n",
       "      <td>NaN</td>\n",
       "      <td>True</td>\n",
       "      <td>True</td>\n",
       "      <td>noncomm_use_subset</td>\n",
       "      <td>https://www.ncbi.nlm.nih.gov/pmc/articles/PMC3...</td>\n",
       "    </tr>\n",
       "    <tr>\n",
       "      <th>2</th>\n",
       "      <td>748d4c57fe1acc8d9d97cf574f7dea5296f9386c</td>\n",
       "      <td>Ebola virus (EBOV) makes extensive and intrica...</td>\n",
       "      <td>occurs primarily through a macropinocytosis-li...</td>\n",
       "      <td>Cells. U2OS human osteosarcoma cells were cult...</td>\n",
       "      <td></td>\n",
       "      <td>tnaizwxo</td>\n",
       "      <td>PMC</td>\n",
       "      <td>Direct Visualization of Ebola Virus Fusion Tri...</td>\n",
       "      <td>10.1128/mbio.01857-15</td>\n",
       "      <td>PMC4752599</td>\n",
       "      <td>...</td>\n",
       "      <td>2016-02-09</td>\n",
       "      <td>Spence, Jennifer S.; Krause, Tyler B.; Mittler...</td>\n",
       "      <td>mBio</td>\n",
       "      <td>NaN</td>\n",
       "      <td>NaN</td>\n",
       "      <td>NaN</td>\n",
       "      <td>True</td>\n",
       "      <td>True</td>\n",
       "      <td>noncomm_use_subset</td>\n",
       "      <td>https://www.ncbi.nlm.nih.gov/pmc/articles/PMC4...</td>\n",
       "    </tr>\n",
       "    <tr>\n",
       "      <th>3</th>\n",
       "      <td>b891efc6e1419713b05ff7d89b26d260478c28df</td>\n",
       "      <td>China has the world's second largest tuberculo...</td>\n",
       "      <td>The goal of the present study was to investiga...</td>\n",
       "      <td></td>\n",
       "      <td></td>\n",
       "      <td>qxsj2zud</td>\n",
       "      <td>PMC</td>\n",
       "      <td>Tuberculosis prevention in healthcare workers ...</td>\n",
       "      <td>10.1183/23120541.00015-2015</td>\n",
       "      <td>PMC5005135</td>\n",
       "      <td>...</td>\n",
       "      <td>2015-08-21</td>\n",
       "      <td>Deng, Yunfeng; Li, Yan; Wang, Fengtian; Gao, D...</td>\n",
       "      <td>ERJ Open Res</td>\n",
       "      <td>NaN</td>\n",
       "      <td>NaN</td>\n",
       "      <td>NaN</td>\n",
       "      <td>True</td>\n",
       "      <td>True</td>\n",
       "      <td>noncomm_use_subset</td>\n",
       "      <td>https://www.ncbi.nlm.nih.gov/pmc/articles/PMC5...</td>\n",
       "    </tr>\n",
       "    <tr>\n",
       "      <th>4</th>\n",
       "      <td>353852971069ad5794445e5c1ab6077ce23da75d</td>\n",
       "      <td></td>\n",
       "      <td>Coronavirus disease 2019 (COVID-19) has spread...</td>\n",
       "      <td></td>\n",
       "      <td></td>\n",
       "      <td>NaN</td>\n",
       "      <td>NaN</td>\n",
       "      <td>NaN</td>\n",
       "      <td>NaN</td>\n",
       "      <td>NaN</td>\n",
       "      <td>...</td>\n",
       "      <td>NaN</td>\n",
       "      <td>NaN</td>\n",
       "      <td>NaN</td>\n",
       "      <td>NaN</td>\n",
       "      <td>NaN</td>\n",
       "      <td>NaN</td>\n",
       "      <td>NaN</td>\n",
       "      <td>NaN</td>\n",
       "      <td>NaN</td>\n",
       "      <td>NaN</td>\n",
       "    </tr>\n",
       "  </tbody>\n",
       "</table>\n",
       "<p>5 rows × 23 columns</p>\n",
       "</div>"
      ],
      "text/plain": [
       "                                   paper_id  \\\n",
       "0  3cdc48bb9e40afd30a59463b7872761a726998c8   \n",
       "1  d99acb4e99be7852aa61a688c9fbd38d44b5a252   \n",
       "2  748d4c57fe1acc8d9d97cf574f7dea5296f9386c   \n",
       "3  b891efc6e1419713b05ff7d89b26d260478c28df   \n",
       "4  353852971069ad5794445e5c1ab6077ce23da75d   \n",
       "\n",
       "                                          abstract_x  \\\n",
       "0  House ßies, Musca domestica L. (Diptera: Musci...   \n",
       "1  Live attenuated recombinant measles vaccine vi...   \n",
       "2  Ebola virus (EBOV) makes extensive and intrica...   \n",
       "3  China has the world's second largest tuberculo...   \n",
       "4                                                      \n",
       "\n",
       "                                           body_text  \\\n",
       "0  Newcastle disease (ND) is an emerging disease ...   \n",
       "1  Live attenuated viruses have been developed an...   \n",
       "2  occurs primarily through a macropinocytosis-li...   \n",
       "3  The goal of the present study was to investiga...   \n",
       "4  Coronavirus disease 2019 (COVID-19) has spread...   \n",
       "\n",
       "                                             methods  \\\n",
       "0  ND Virus Culture. NDV (Roakin strain) was obta...   \n",
       "1  Viruses and cells. RSV A2 strain was obtained ...   \n",
       "2  Cells. U2OS human osteosarcoma cells were cult...   \n",
       "3                                                      \n",
       "4                                                      \n",
       "\n",
       "                                             results  cord_uid source_x  \\\n",
       "0  Experiment 1. Adult house ßies harbored Newcas...  66ecksxm      PMC   \n",
       "1                                                     3qdjmb2j      PMC   \n",
       "2                                                     tnaizwxo      PMC   \n",
       "3                                                     qxsj2zud      PMC   \n",
       "4                                                          NaN      NaN   \n",
       "\n",
       "                                               title  \\\n",
       "0  Experimental Evaluation of Musca domestica (Di...   \n",
       "1  Evaluation of Measles Vaccine Virus as a Vecto...   \n",
       "2  Direct Visualization of Ebola Virus Fusion Tri...   \n",
       "3  Tuberculosis prevention in healthcare workers ...   \n",
       "4                                                NaN   \n",
       "\n",
       "                           doi       pmcid  ... publish_time  \\\n",
       "0     10.1093/jmedent/44.4.666  PMC7107465  ...   2007-07-01   \n",
       "1  10.2174/1874357901206010012  PMC3286841  ...   2012-02-16   \n",
       "2        10.1128/mbio.01857-15  PMC4752599  ...   2016-02-09   \n",
       "3  10.1183/23120541.00015-2015  PMC5005135  ...   2015-08-21   \n",
       "4                          NaN         NaN  ...          NaN   \n",
       "\n",
       "                                             authors        journal  \\\n",
       "0  Watson, D. Wes; Niño, Elina L.; Rochon, Katery...  J Med Entomol   \n",
       "1  Mok, Hoyin; Cheng, Xing; Xu, Qi; Zengel, James...   Open Virol J   \n",
       "2  Spence, Jennifer S.; Krause, Tyler B.; Mittler...           mBio   \n",
       "3  Deng, Yunfeng; Li, Yan; Wang, Fengtian; Gao, D...   ERJ Open Res   \n",
       "4                                                NaN            NaN   \n",
       "\n",
       "  Microsoft Academic Paper ID WHO #Covidence arxiv_id has_pdf_parse  \\\n",
       "0                         NaN            NaN      NaN          True   \n",
       "1                         NaN            NaN      NaN          True   \n",
       "2                         NaN            NaN      NaN          True   \n",
       "3                         NaN            NaN      NaN          True   \n",
       "4                         NaN            NaN      NaN           NaN   \n",
       "\n",
       "  has_pmc_xml_parse      full_text_file  \\\n",
       "0              True  noncomm_use_subset   \n",
       "1              True  noncomm_use_subset   \n",
       "2              True  noncomm_use_subset   \n",
       "3              True  noncomm_use_subset   \n",
       "4               NaN                 NaN   \n",
       "\n",
       "                                                 url  \n",
       "0  https://www.ncbi.nlm.nih.gov/pmc/articles/PMC7...  \n",
       "1  https://www.ncbi.nlm.nih.gov/pmc/articles/PMC3...  \n",
       "2  https://www.ncbi.nlm.nih.gov/pmc/articles/PMC4...  \n",
       "3  https://www.ncbi.nlm.nih.gov/pmc/articles/PMC5...  \n",
       "4                                                NaN  \n",
       "\n",
       "[5 rows x 23 columns]"
      ]
     },
     "execution_count": 25,
     "metadata": {},
     "output_type": "execute_result"
    }
   ],
   "source": [
    "df.head()"
   ]
  },
  {
   "cell_type": "code",
   "execution_count": 26,
   "metadata": {},
   "outputs": [],
   "source": [
    "df = pd.merge(df, pmc_text, left_on='pmcid', right_on='paper_id', how='left').drop('paper_id_y', axis=1)"
   ]
  },
  {
   "cell_type": "code",
   "execution_count": 27,
   "metadata": {},
   "outputs": [
    {
     "data": {
      "text/html": [
       "<div>\n",
       "<style scoped>\n",
       "    .dataframe tbody tr th:only-of-type {\n",
       "        vertical-align: middle;\n",
       "    }\n",
       "\n",
       "    .dataframe tbody tr th {\n",
       "        vertical-align: top;\n",
       "    }\n",
       "\n",
       "    .dataframe thead th {\n",
       "        text-align: right;\n",
       "    }\n",
       "</style>\n",
       "<table border=\"1\" class=\"dataframe\">\n",
       "  <thead>\n",
       "    <tr style=\"text-align: right;\">\n",
       "      <th></th>\n",
       "      <th>paper_id_x</th>\n",
       "      <th>abstract_x</th>\n",
       "      <th>body_text_x</th>\n",
       "      <th>methods_x</th>\n",
       "      <th>results_x</th>\n",
       "      <th>cord_uid</th>\n",
       "      <th>source_x</th>\n",
       "      <th>title</th>\n",
       "      <th>doi</th>\n",
       "      <th>pmcid</th>\n",
       "      <th>...</th>\n",
       "      <th>Microsoft Academic Paper ID</th>\n",
       "      <th>WHO #Covidence</th>\n",
       "      <th>arxiv_id</th>\n",
       "      <th>has_pdf_parse</th>\n",
       "      <th>has_pmc_xml_parse</th>\n",
       "      <th>full_text_file</th>\n",
       "      <th>url</th>\n",
       "      <th>body_text_y</th>\n",
       "      <th>methods_y</th>\n",
       "      <th>results_y</th>\n",
       "    </tr>\n",
       "  </thead>\n",
       "  <tbody>\n",
       "    <tr>\n",
       "      <th>0</th>\n",
       "      <td>3cdc48bb9e40afd30a59463b7872761a726998c8</td>\n",
       "      <td>House ßies, Musca domestica L. (Diptera: Musci...</td>\n",
       "      <td>Newcastle disease (ND) is an emerging disease ...</td>\n",
       "      <td>ND Virus Culture. NDV (Roakin strain) was obta...</td>\n",
       "      <td>Experiment 1. Adult house ßies harbored Newcas...</td>\n",
       "      <td>66ecksxm</td>\n",
       "      <td>PMC</td>\n",
       "      <td>Experimental Evaluation of Musca domestica (Di...</td>\n",
       "      <td>10.1093/jmedent/44.4.666</td>\n",
       "      <td>PMC7107465</td>\n",
       "      <td>...</td>\n",
       "      <td>NaN</td>\n",
       "      <td>NaN</td>\n",
       "      <td>NaN</td>\n",
       "      <td>True</td>\n",
       "      <td>True</td>\n",
       "      <td>noncomm_use_subset</td>\n",
       "      <td>https://www.ncbi.nlm.nih.gov/pmc/articles/PMC7...</td>\n",
       "      <td>NDV (Roakin strain) was obtained from Dr. D. J...</td>\n",
       "      <td>NDV (Roakin strain) was obtained from Dr. D. J...</td>\n",
       "      <td>Adult house flies harbored Newcastle Disease v...</td>\n",
       "    </tr>\n",
       "    <tr>\n",
       "      <th>1</th>\n",
       "      <td>d99acb4e99be7852aa61a688c9fbd38d44b5a252</td>\n",
       "      <td>Live attenuated recombinant measles vaccine vi...</td>\n",
       "      <td>Live attenuated viruses have been developed an...</td>\n",
       "      <td>Viruses and cells. RSV A2 strain was obtained ...</td>\n",
       "      <td></td>\n",
       "      <td>3qdjmb2j</td>\n",
       "      <td>PMC</td>\n",
       "      <td>Evaluation of Measles Vaccine Virus as a Vecto...</td>\n",
       "      <td>10.2174/1874357901206010012</td>\n",
       "      <td>PMC3286841</td>\n",
       "      <td>...</td>\n",
       "      <td>NaN</td>\n",
       "      <td>NaN</td>\n",
       "      <td>NaN</td>\n",
       "      <td>True</td>\n",
       "      <td>True</td>\n",
       "      <td>noncomm_use_subset</td>\n",
       "      <td>https://www.ncbi.nlm.nih.gov/pmc/articles/PMC3...</td>\n",
       "      <td>Live attenuated viruses have been developed an...</td>\n",
       "      <td>RSV A2 strain was obtained from ATCC (Manassas...</td>\n",
       "      <td>The reverse genetics system for measles Edmons...</td>\n",
       "    </tr>\n",
       "    <tr>\n",
       "      <th>2</th>\n",
       "      <td>748d4c57fe1acc8d9d97cf574f7dea5296f9386c</td>\n",
       "      <td>Ebola virus (EBOV) makes extensive and intrica...</td>\n",
       "      <td>occurs primarily through a macropinocytosis-li...</td>\n",
       "      <td>Cells. U2OS human osteosarcoma cells were cult...</td>\n",
       "      <td></td>\n",
       "      <td>tnaizwxo</td>\n",
       "      <td>PMC</td>\n",
       "      <td>Direct Visualization of Ebola Virus Fusion Tri...</td>\n",
       "      <td>10.1128/mbio.01857-15</td>\n",
       "      <td>PMC4752599</td>\n",
       "      <td>...</td>\n",
       "      <td>NaN</td>\n",
       "      <td>NaN</td>\n",
       "      <td>NaN</td>\n",
       "      <td>True</td>\n",
       "      <td>True</td>\n",
       "      <td>noncomm_use_subset</td>\n",
       "      <td>https://www.ncbi.nlm.nih.gov/pmc/articles/PMC4...</td>\n",
       "      <td>Ebola virus (EBOV) and other members of the fa...</td>\n",
       "      <td>U2OS human osteosarcoma cells were cultured in...</td>\n",
       "      <td>For evaluating EBOV GP triggering under biosaf...</td>\n",
       "    </tr>\n",
       "  </tbody>\n",
       "</table>\n",
       "<p>3 rows × 26 columns</p>\n",
       "</div>"
      ],
      "text/plain": [
       "                                 paper_id_x  \\\n",
       "0  3cdc48bb9e40afd30a59463b7872761a726998c8   \n",
       "1  d99acb4e99be7852aa61a688c9fbd38d44b5a252   \n",
       "2  748d4c57fe1acc8d9d97cf574f7dea5296f9386c   \n",
       "\n",
       "                                          abstract_x  \\\n",
       "0  House ßies, Musca domestica L. (Diptera: Musci...   \n",
       "1  Live attenuated recombinant measles vaccine vi...   \n",
       "2  Ebola virus (EBOV) makes extensive and intrica...   \n",
       "\n",
       "                                         body_text_x  \\\n",
       "0  Newcastle disease (ND) is an emerging disease ...   \n",
       "1  Live attenuated viruses have been developed an...   \n",
       "2  occurs primarily through a macropinocytosis-li...   \n",
       "\n",
       "                                           methods_x  \\\n",
       "0  ND Virus Culture. NDV (Roakin strain) was obta...   \n",
       "1  Viruses and cells. RSV A2 strain was obtained ...   \n",
       "2  Cells. U2OS human osteosarcoma cells were cult...   \n",
       "\n",
       "                                           results_x  cord_uid source_x  \\\n",
       "0  Experiment 1. Adult house ßies harbored Newcas...  66ecksxm      PMC   \n",
       "1                                                     3qdjmb2j      PMC   \n",
       "2                                                     tnaizwxo      PMC   \n",
       "\n",
       "                                               title  \\\n",
       "0  Experimental Evaluation of Musca domestica (Di...   \n",
       "1  Evaluation of Measles Vaccine Virus as a Vecto...   \n",
       "2  Direct Visualization of Ebola Virus Fusion Tri...   \n",
       "\n",
       "                           doi       pmcid  ... Microsoft Academic Paper ID  \\\n",
       "0     10.1093/jmedent/44.4.666  PMC7107465  ...                         NaN   \n",
       "1  10.2174/1874357901206010012  PMC3286841  ...                         NaN   \n",
       "2        10.1128/mbio.01857-15  PMC4752599  ...                         NaN   \n",
       "\n",
       "  WHO #Covidence arxiv_id has_pdf_parse has_pmc_xml_parse      full_text_file  \\\n",
       "0            NaN      NaN          True              True  noncomm_use_subset   \n",
       "1            NaN      NaN          True              True  noncomm_use_subset   \n",
       "2            NaN      NaN          True              True  noncomm_use_subset   \n",
       "\n",
       "                                                 url  \\\n",
       "0  https://www.ncbi.nlm.nih.gov/pmc/articles/PMC7...   \n",
       "1  https://www.ncbi.nlm.nih.gov/pmc/articles/PMC3...   \n",
       "2  https://www.ncbi.nlm.nih.gov/pmc/articles/PMC4...   \n",
       "\n",
       "                                         body_text_y  \\\n",
       "0  NDV (Roakin strain) was obtained from Dr. D. J...   \n",
       "1  Live attenuated viruses have been developed an...   \n",
       "2  Ebola virus (EBOV) and other members of the fa...   \n",
       "\n",
       "                                           methods_y  \\\n",
       "0  NDV (Roakin strain) was obtained from Dr. D. J...   \n",
       "1  RSV A2 strain was obtained from ATCC (Manassas...   \n",
       "2  U2OS human osteosarcoma cells were cultured in...   \n",
       "\n",
       "                                           results_y  \n",
       "0  Adult house flies harbored Newcastle Disease v...  \n",
       "1  The reverse genetics system for measles Edmons...  \n",
       "2  For evaluating EBOV GP triggering under biosaf...  \n",
       "\n",
       "[3 rows x 26 columns]"
      ]
     },
     "execution_count": 27,
     "metadata": {},
     "output_type": "execute_result"
    }
   ],
   "source": [
    "df.head(3)"
   ]
  },
  {
   "cell_type": "code",
   "execution_count": 28,
   "metadata": {},
   "outputs": [
    {
     "data": {
      "text/plain": [
       "Index(['paper_id_x', 'abstract_x', 'body_text_x', 'methods_x', 'results_x',\n",
       "       'cord_uid', 'source_x', 'title', 'doi', 'pmcid', 'pubmed_id', 'license',\n",
       "       'abstract_y', 'publish_time', 'authors', 'journal',\n",
       "       'Microsoft Academic Paper ID', 'WHO #Covidence', 'arxiv_id',\n",
       "       'has_pdf_parse', 'has_pmc_xml_parse', 'full_text_file', 'url',\n",
       "       'body_text_y', 'methods_y', 'results_y'],\n",
       "      dtype='object')"
      ]
     },
     "execution_count": 28,
     "metadata": {},
     "output_type": "execute_result"
    }
   ],
   "source": [
    "df.columns"
   ]
  },
  {
   "cell_type": "code",
   "execution_count": 29,
   "metadata": {},
   "outputs": [],
   "source": [
    "df.drop(columns=['has_pdf_parse', 'has_pmc_xml_parse', 'Microsoft Academic Paper ID', 'WHO #Covidence'], inplace=True)"
   ]
  },
  {
   "cell_type": "code",
   "execution_count": 30,
   "metadata": {},
   "outputs": [
    {
     "data": {
      "text/html": [
       "<div>\n",
       "<style scoped>\n",
       "    .dataframe tbody tr th:only-of-type {\n",
       "        vertical-align: middle;\n",
       "    }\n",
       "\n",
       "    .dataframe tbody tr th {\n",
       "        vertical-align: top;\n",
       "    }\n",
       "\n",
       "    .dataframe thead th {\n",
       "        text-align: right;\n",
       "    }\n",
       "</style>\n",
       "<table border=\"1\" class=\"dataframe\">\n",
       "  <thead>\n",
       "    <tr style=\"text-align: right;\">\n",
       "      <th></th>\n",
       "      <th>paper_id_x</th>\n",
       "      <th>abstract_x</th>\n",
       "      <th>body_text_x</th>\n",
       "      <th>methods_x</th>\n",
       "      <th>results_x</th>\n",
       "      <th>cord_uid</th>\n",
       "      <th>source_x</th>\n",
       "      <th>title</th>\n",
       "      <th>doi</th>\n",
       "      <th>pmcid</th>\n",
       "      <th>...</th>\n",
       "      <th>abstract_y</th>\n",
       "      <th>publish_time</th>\n",
       "      <th>authors</th>\n",
       "      <th>journal</th>\n",
       "      <th>arxiv_id</th>\n",
       "      <th>full_text_file</th>\n",
       "      <th>url</th>\n",
       "      <th>body_text_y</th>\n",
       "      <th>methods_y</th>\n",
       "      <th>results_y</th>\n",
       "    </tr>\n",
       "  </thead>\n",
       "  <tbody>\n",
       "    <tr>\n",
       "      <th>0</th>\n",
       "      <td>3cdc48bb9e40afd30a59463b7872761a726998c8</td>\n",
       "      <td>House ßies, Musca domestica L. (Diptera: Musci...</td>\n",
       "      <td>Newcastle disease (ND) is an emerging disease ...</td>\n",
       "      <td>ND Virus Culture. NDV (Roakin strain) was obta...</td>\n",
       "      <td>Experiment 1. Adult house ßies harbored Newcas...</td>\n",
       "      <td>66ecksxm</td>\n",
       "      <td>PMC</td>\n",
       "      <td>Experimental Evaluation of Musca domestica (Di...</td>\n",
       "      <td>10.1093/jmedent/44.4.666</td>\n",
       "      <td>PMC7107465</td>\n",
       "      <td>...</td>\n",
       "      <td>House flies, Musca domestica L. (Diptera: Musc...</td>\n",
       "      <td>2007-07-01</td>\n",
       "      <td>Watson, D. Wes; Niño, Elina L.; Rochon, Katery...</td>\n",
       "      <td>J Med Entomol</td>\n",
       "      <td>NaN</td>\n",
       "      <td>noncomm_use_subset</td>\n",
       "      <td>https://www.ncbi.nlm.nih.gov/pmc/articles/PMC7...</td>\n",
       "      <td>NDV (Roakin strain) was obtained from Dr. D. J...</td>\n",
       "      <td>NDV (Roakin strain) was obtained from Dr. D. J...</td>\n",
       "      <td>Adult house flies harbored Newcastle Disease v...</td>\n",
       "    </tr>\n",
       "    <tr>\n",
       "      <th>1</th>\n",
       "      <td>d99acb4e99be7852aa61a688c9fbd38d44b5a252</td>\n",
       "      <td>Live attenuated recombinant measles vaccine vi...</td>\n",
       "      <td>Live attenuated viruses have been developed an...</td>\n",
       "      <td>Viruses and cells. RSV A2 strain was obtained ...</td>\n",
       "      <td></td>\n",
       "      <td>3qdjmb2j</td>\n",
       "      <td>PMC</td>\n",
       "      <td>Evaluation of Measles Vaccine Virus as a Vecto...</td>\n",
       "      <td>10.2174/1874357901206010012</td>\n",
       "      <td>PMC3286841</td>\n",
       "      <td>...</td>\n",
       "      <td>Live attenuated recombinant measles vaccine vi...</td>\n",
       "      <td>2012-02-16</td>\n",
       "      <td>Mok, Hoyin; Cheng, Xing; Xu, Qi; Zengel, James...</td>\n",
       "      <td>Open Virol J</td>\n",
       "      <td>NaN</td>\n",
       "      <td>noncomm_use_subset</td>\n",
       "      <td>https://www.ncbi.nlm.nih.gov/pmc/articles/PMC3...</td>\n",
       "      <td>Live attenuated viruses have been developed an...</td>\n",
       "      <td>RSV A2 strain was obtained from ATCC (Manassas...</td>\n",
       "      <td>The reverse genetics system for measles Edmons...</td>\n",
       "    </tr>\n",
       "  </tbody>\n",
       "</table>\n",
       "<p>2 rows × 22 columns</p>\n",
       "</div>"
      ],
      "text/plain": [
       "                                 paper_id_x  \\\n",
       "0  3cdc48bb9e40afd30a59463b7872761a726998c8   \n",
       "1  d99acb4e99be7852aa61a688c9fbd38d44b5a252   \n",
       "\n",
       "                                          abstract_x  \\\n",
       "0  House ßies, Musca domestica L. (Diptera: Musci...   \n",
       "1  Live attenuated recombinant measles vaccine vi...   \n",
       "\n",
       "                                         body_text_x  \\\n",
       "0  Newcastle disease (ND) is an emerging disease ...   \n",
       "1  Live attenuated viruses have been developed an...   \n",
       "\n",
       "                                           methods_x  \\\n",
       "0  ND Virus Culture. NDV (Roakin strain) was obta...   \n",
       "1  Viruses and cells. RSV A2 strain was obtained ...   \n",
       "\n",
       "                                           results_x  cord_uid source_x  \\\n",
       "0  Experiment 1. Adult house ßies harbored Newcas...  66ecksxm      PMC   \n",
       "1                                                     3qdjmb2j      PMC   \n",
       "\n",
       "                                               title  \\\n",
       "0  Experimental Evaluation of Musca domestica (Di...   \n",
       "1  Evaluation of Measles Vaccine Virus as a Vecto...   \n",
       "\n",
       "                           doi       pmcid  ...  \\\n",
       "0     10.1093/jmedent/44.4.666  PMC7107465  ...   \n",
       "1  10.2174/1874357901206010012  PMC3286841  ...   \n",
       "\n",
       "                                          abstract_y publish_time  \\\n",
       "0  House flies, Musca domestica L. (Diptera: Musc...   2007-07-01   \n",
       "1  Live attenuated recombinant measles vaccine vi...   2012-02-16   \n",
       "\n",
       "                                             authors        journal arxiv_id  \\\n",
       "0  Watson, D. Wes; Niño, Elina L.; Rochon, Katery...  J Med Entomol      NaN   \n",
       "1  Mok, Hoyin; Cheng, Xing; Xu, Qi; Zengel, James...   Open Virol J      NaN   \n",
       "\n",
       "       full_text_file                                                url  \\\n",
       "0  noncomm_use_subset  https://www.ncbi.nlm.nih.gov/pmc/articles/PMC7...   \n",
       "1  noncomm_use_subset  https://www.ncbi.nlm.nih.gov/pmc/articles/PMC3...   \n",
       "\n",
       "                                         body_text_y  \\\n",
       "0  NDV (Roakin strain) was obtained from Dr. D. J...   \n",
       "1  Live attenuated viruses have been developed an...   \n",
       "\n",
       "                                           methods_y  \\\n",
       "0  NDV (Roakin strain) was obtained from Dr. D. J...   \n",
       "1  RSV A2 strain was obtained from ATCC (Manassas...   \n",
       "\n",
       "                                           results_y  \n",
       "0  Adult house flies harbored Newcastle Disease v...  \n",
       "1  The reverse genetics system for measles Edmons...  \n",
       "\n",
       "[2 rows x 22 columns]"
      ]
     },
     "execution_count": 30,
     "metadata": {},
     "output_type": "execute_result"
    }
   ],
   "source": [
    "df.head(2)"
   ]
  },
  {
   "cell_type": "markdown",
   "metadata": {},
   "source": [
    "# Exploration/Cleaning"
   ]
  },
  {
   "cell_type": "markdown",
   "metadata": {},
   "source": [
    "### Different Abstract in Metadata and JSON files"
   ]
  },
  {
   "cell_type": "markdown",
   "metadata": {},
   "source": [
    "abstract_x from json, abstract_y from metadata"
   ]
  },
  {
   "cell_type": "code",
   "execution_count": 31,
   "metadata": {},
   "outputs": [
    {
     "data": {
      "text/plain": [
       "(44677, 22)"
      ]
     },
     "execution_count": 31,
     "metadata": {},
     "output_type": "execute_result"
    }
   ],
   "source": [
    "df[df.abstract_x != df.abstract_y].shape"
   ]
  },
  {
   "cell_type": "code",
   "execution_count": 32,
   "metadata": {},
   "outputs": [
    {
     "data": {
      "text/html": [
       "<div>\n",
       "<style scoped>\n",
       "    .dataframe tbody tr th:only-of-type {\n",
       "        vertical-align: middle;\n",
       "    }\n",
       "\n",
       "    .dataframe tbody tr th {\n",
       "        vertical-align: top;\n",
       "    }\n",
       "\n",
       "    .dataframe thead th {\n",
       "        text-align: right;\n",
       "    }\n",
       "</style>\n",
       "<table border=\"1\" class=\"dataframe\">\n",
       "  <thead>\n",
       "    <tr style=\"text-align: right;\">\n",
       "      <th></th>\n",
       "      <th>abstract_x</th>\n",
       "      <th>abstract_y</th>\n",
       "      <th>url</th>\n",
       "    </tr>\n",
       "  </thead>\n",
       "  <tbody>\n",
       "    <tr>\n",
       "      <th>48412</th>\n",
       "      <td>The very first case of corona-virus illness wa...</td>\n",
       "      <td>The very first case of corona-virus illness wa...</td>\n",
       "      <td>NaN</td>\n",
       "    </tr>\n",
       "    <tr>\n",
       "      <th>48413</th>\n",
       "      <td>COVID-19 has infected more than 823,000 people...</td>\n",
       "      <td>COVID-19 has infected more than 823,000 people...</td>\n",
       "      <td>https://arxiv.org/abs/2003.07353</td>\n",
       "    </tr>\n",
       "    <tr>\n",
       "      <th>48414</th>\n",
       "      <td>The COVID-19 epidemic was listed as a public h...</td>\n",
       "      <td>The COVID-19 epidemic was listed as a public h...</td>\n",
       "      <td>https://arxiv.org/abs/2004.01479</td>\n",
       "    </tr>\n",
       "    <tr>\n",
       "      <th>48415</th>\n",
       "      <td></td>\n",
       "      <td>COVID-19 has spread from China across Europe a...</td>\n",
       "      <td>NaN</td>\n",
       "    </tr>\n",
       "    <tr>\n",
       "      <th>48416</th>\n",
       "      <td>The SARS-CoV-2 infectious outbreak has rapidly...</td>\n",
       "      <td>The SARS-CoV-2 infectious outbreak has rapidly...</td>\n",
       "      <td>https://arxiv.org/abs/2004.10376</td>\n",
       "    </tr>\n",
       "    <tr>\n",
       "      <th>48418</th>\n",
       "      <td>Presently, India bears amongst the highest bur...</td>\n",
       "      <td>Presently, India bears amongst the highest bur...</td>\n",
       "      <td>https://arxiv.org/abs/2004.06361</td>\n",
       "    </tr>\n",
       "    <tr>\n",
       "      <th>48419</th>\n",
       "      <td>This paper describes how mobile phone data can...</td>\n",
       "      <td>This paper describes how mobile phone data can...</td>\n",
       "      <td>https://arxiv.org/abs/2003.12347</td>\n",
       "    </tr>\n",
       "    <tr>\n",
       "      <th>48420</th>\n",
       "      <td>The coronavirus disease 2019 (COVID-19) caused...</td>\n",
       "      <td>The coronavirus disease 2019 (COVID-19) caused...</td>\n",
       "      <td>https://arxiv.org/abs/2003.00163</td>\n",
       "    </tr>\n",
       "    <tr>\n",
       "      <th>48421</th>\n",
       "      <td>Disease outbreaks, such as those of Severe Acu...</td>\n",
       "      <td>NaN</td>\n",
       "      <td>NaN</td>\n",
       "    </tr>\n",
       "    <tr>\n",
       "      <th>48423</th>\n",
       "      <td>We consider an age-structured epidemic model w...</td>\n",
       "      <td>We consider an age-structured epidemic model w...</td>\n",
       "      <td>https://arxiv.org/abs/1312.2120</td>\n",
       "    </tr>\n",
       "  </tbody>\n",
       "</table>\n",
       "</div>"
      ],
      "text/plain": [
       "                                              abstract_x  \\\n",
       "48412  The very first case of corona-virus illness wa...   \n",
       "48413  COVID-19 has infected more than 823,000 people...   \n",
       "48414  The COVID-19 epidemic was listed as a public h...   \n",
       "48415                                                      \n",
       "48416  The SARS-CoV-2 infectious outbreak has rapidly...   \n",
       "48418  Presently, India bears amongst the highest bur...   \n",
       "48419  This paper describes how mobile phone data can...   \n",
       "48420  The coronavirus disease 2019 (COVID-19) caused...   \n",
       "48421  Disease outbreaks, such as those of Severe Acu...   \n",
       "48423  We consider an age-structured epidemic model w...   \n",
       "\n",
       "                                              abstract_y  \\\n",
       "48412  The very first case of corona-virus illness wa...   \n",
       "48413  COVID-19 has infected more than 823,000 people...   \n",
       "48414  The COVID-19 epidemic was listed as a public h...   \n",
       "48415  COVID-19 has spread from China across Europe a...   \n",
       "48416  The SARS-CoV-2 infectious outbreak has rapidly...   \n",
       "48418  Presently, India bears amongst the highest bur...   \n",
       "48419  This paper describes how mobile phone data can...   \n",
       "48420  The coronavirus disease 2019 (COVID-19) caused...   \n",
       "48421                                                NaN   \n",
       "48423  We consider an age-structured epidemic model w...   \n",
       "\n",
       "                                    url  \n",
       "48412                               NaN  \n",
       "48413  https://arxiv.org/abs/2003.07353  \n",
       "48414  https://arxiv.org/abs/2004.01479  \n",
       "48415                               NaN  \n",
       "48416  https://arxiv.org/abs/2004.10376  \n",
       "48418  https://arxiv.org/abs/2004.06361  \n",
       "48419  https://arxiv.org/abs/2003.12347  \n",
       "48420  https://arxiv.org/abs/2003.00163  \n",
       "48421                               NaN  \n",
       "48423   https://arxiv.org/abs/1312.2120  "
      ]
     },
     "execution_count": 32,
     "metadata": {},
     "output_type": "execute_result"
    }
   ],
   "source": [
    "df[df.abstract_x != df.abstract_y][['abstract_x', 'abstract_y', 'url']].tail(10)"
   ]
  },
  {
   "cell_type": "code",
   "execution_count": 33,
   "metadata": {},
   "outputs": [
    {
     "data": {
      "text/plain": [
       "'https://arxiv.org/abs/1312.2120'"
      ]
     },
     "execution_count": 33,
     "metadata": {},
     "output_type": "execute_result"
    }
   ],
   "source": [
    "df[df.abstract_x != df.abstract_y][['abstract_x', 'abstract_y', 'url']].url.iloc[-1]"
   ]
  },
  {
   "cell_type": "markdown",
   "metadata": {},
   "source": [
    "Checking some of the files online, it seems that where the abstract is missing in the metadata, the abstract in the JSON file is simply the beginning of the text."
   ]
  },
  {
   "cell_type": "code",
   "execution_count": 34,
   "metadata": {},
   "outputs": [
    {
     "name": "stderr",
     "output_type": "stream",
     "text": [
      "/opt/conda/lib/python3.6/site-packages/ipykernel_launcher.py:2: UserWarning: Boolean Series key will be reindexed to match DataFrame index.\n",
      "  \n"
     ]
    },
    {
     "data": {
      "text/html": [
       "<div>\n",
       "<style scoped>\n",
       "    .dataframe tbody tr th:only-of-type {\n",
       "        vertical-align: middle;\n",
       "    }\n",
       "\n",
       "    .dataframe tbody tr th {\n",
       "        vertical-align: top;\n",
       "    }\n",
       "\n",
       "    .dataframe thead th {\n",
       "        text-align: right;\n",
       "    }\n",
       "</style>\n",
       "<table border=\"1\" class=\"dataframe\">\n",
       "  <thead>\n",
       "    <tr style=\"text-align: right;\">\n",
       "      <th></th>\n",
       "      <th>abstract_x</th>\n",
       "      <th>abstract_y</th>\n",
       "      <th>url</th>\n",
       "      <th>body_text_x</th>\n",
       "      <th>body_text_y</th>\n",
       "    </tr>\n",
       "  </thead>\n",
       "  <tbody>\n",
       "    <tr>\n",
       "      <th>256</th>\n",
       "      <td>Citation Alagaili AN, Briese T, Karesh WB, Das...</td>\n",
       "      <td>NaN</td>\n",
       "      <td>https://www.ncbi.nlm.nih.gov/pmc/articles/PMC4...</td>\n",
       "      <td>W e thank Samara and Abdoun for this opportuni...</td>\n",
       "      <td>We thank Samara and Abdoun for this opportunit...</td>\n",
       "    </tr>\n",
       "    <tr>\n",
       "      <th>403</th>\n",
       "      <td>In the recently published paper by Zhang et al...</td>\n",
       "      <td>NaN</td>\n",
       "      <td>https://www.ncbi.nlm.nih.gov/pmc/articles/PMC4...</td>\n",
       "      <td>In the recently published paper by Zhang et al...</td>\n",
       "      <td>Dear editor\\nIn the recently published paper b...</td>\n",
       "    </tr>\n",
       "    <tr>\n",
       "      <th>413</th>\n",
       "      <td>To cite: Rabinowitz PMacG, Pappaioanou M, Bard...</td>\n",
       "      <td>NaN</td>\n",
       "      <td>https://www.ncbi.nlm.nih.gov/pmc/articles/PMC6...</td>\n",
       "      <td>In 2015, the Rockefeller Foundation-Lancet Com...</td>\n",
       "      <td>In 2015, the Rockefeller Foundation-Lancet Com...</td>\n",
       "    </tr>\n",
       "    <tr>\n",
       "      <th>453</th>\n",
       "      <td>The past few months have yielded disconcerting...</td>\n",
       "      <td>NaN</td>\n",
       "      <td>https://www.ncbi.nlm.nih.gov/pmc/articles/PMC3...</td>\n",
       "      <td>Virologists have been surprised by a recent re...</td>\n",
       "      <td>Virologists have been surprised by a recent re...</td>\n",
       "    </tr>\n",
       "    <tr>\n",
       "      <th>545</th>\n",
       "      <td>Citation Fouchier RAM. 2015. Studies on influe...</td>\n",
       "      <td>NaN</td>\n",
       "      <td>https://www.ncbi.nlm.nih.gov/pmc/articles/PMC4...</td>\n",
       "      <td>L ipsitch and Inglesby recently estimated the ...</td>\n",
       "      <td>Initial calculations of the potential risks as...</td>\n",
       "    </tr>\n",
       "    <tr>\n",
       "      <th>...</th>\n",
       "      <td>...</td>\n",
       "      <td>...</td>\n",
       "      <td>...</td>\n",
       "      <td>...</td>\n",
       "      <td>...</td>\n",
       "    </tr>\n",
       "    <tr>\n",
       "      <th>46875</th>\n",
       "      <td>Positive-strand (+)RNA viruses are important a...</td>\n",
       "      <td>NaN</td>\n",
       "      <td>https://www.ncbi.nlm.nih.gov/pmc/articles/PMC5...</td>\n",
       "      <td>All +RNA viruses (e.g., poliovirus, hepatitis ...</td>\n",
       "      <td>All +RNA viruses (e.g., poliovirus, hepatitis ...</td>\n",
       "    </tr>\n",
       "    <tr>\n",
       "      <th>47054</th>\n",
       "      <td>We read with great interest the article by Kha...</td>\n",
       "      <td>NaN</td>\n",
       "      <td>https://www.ncbi.nlm.nih.gov/pmc/articles/PMC5...</td>\n",
       "      <td>of ACE2 via the MAS1 receptor (and not via the...</td>\n",
       "      <td>We read with great interest the article by Kha...</td>\n",
       "    </tr>\n",
       "    <tr>\n",
       "      <th>47253</th>\n",
       "      <td>Highly mutable, infinitely malleable, and all-...</td>\n",
       "      <td>NaN</td>\n",
       "      <td>https://www.ncbi.nlm.nih.gov/pmc/articles/PMC5...</td>\n",
       "      <td>Highly mutable, infinitely malleable, and all-...</td>\n",
       "      <td>Highly mutable, infinitely malleable, and all-...</td>\n",
       "    </tr>\n",
       "    <tr>\n",
       "      <th>47277</th>\n",
       "      <td>Health-Emergency Disaster Risk Management (Hea...</td>\n",
       "      <td>NaN</td>\n",
       "      <td>https://www.ncbi.nlm.nih.gov/pmc/articles/PMC7...</td>\n",
       "      <td>Health-Emergency Disaster Risk Management (Hea...</td>\n",
       "      <td>Health-Emergency Disaster Risk Management (Hea...</td>\n",
       "    </tr>\n",
       "    <tr>\n",
       "      <th>47565</th>\n",
       "      <td>Antibody-dependent enhancement (ADE) is a mech...</td>\n",
       "      <td>NaN</td>\n",
       "      <td>https://www.ncbi.nlm.nih.gov/pmc/articles/PMC3...</td>\n",
       "      <td>Antibody-dependent enhancement (ADE) is a mech...</td>\n",
       "      <td>Antibody-dependent enhancement (ADE) is a mech...</td>\n",
       "    </tr>\n",
       "  </tbody>\n",
       "</table>\n",
       "<p>851 rows × 5 columns</p>\n",
       "</div>"
      ],
      "text/plain": [
       "                                              abstract_x abstract_y  \\\n",
       "256    Citation Alagaili AN, Briese T, Karesh WB, Das...        NaN   \n",
       "403    In the recently published paper by Zhang et al...        NaN   \n",
       "413    To cite: Rabinowitz PMacG, Pappaioanou M, Bard...        NaN   \n",
       "453    The past few months have yielded disconcerting...        NaN   \n",
       "545    Citation Fouchier RAM. 2015. Studies on influe...        NaN   \n",
       "...                                                  ...        ...   \n",
       "46875  Positive-strand (+)RNA viruses are important a...        NaN   \n",
       "47054  We read with great interest the article by Kha...        NaN   \n",
       "47253  Highly mutable, infinitely malleable, and all-...        NaN   \n",
       "47277  Health-Emergency Disaster Risk Management (Hea...        NaN   \n",
       "47565  Antibody-dependent enhancement (ADE) is a mech...        NaN   \n",
       "\n",
       "                                                     url  \\\n",
       "256    https://www.ncbi.nlm.nih.gov/pmc/articles/PMC4...   \n",
       "403    https://www.ncbi.nlm.nih.gov/pmc/articles/PMC4...   \n",
       "413    https://www.ncbi.nlm.nih.gov/pmc/articles/PMC6...   \n",
       "453    https://www.ncbi.nlm.nih.gov/pmc/articles/PMC3...   \n",
       "545    https://www.ncbi.nlm.nih.gov/pmc/articles/PMC4...   \n",
       "...                                                  ...   \n",
       "46875  https://www.ncbi.nlm.nih.gov/pmc/articles/PMC5...   \n",
       "47054  https://www.ncbi.nlm.nih.gov/pmc/articles/PMC5...   \n",
       "47253  https://www.ncbi.nlm.nih.gov/pmc/articles/PMC5...   \n",
       "47277  https://www.ncbi.nlm.nih.gov/pmc/articles/PMC7...   \n",
       "47565  https://www.ncbi.nlm.nih.gov/pmc/articles/PMC3...   \n",
       "\n",
       "                                             body_text_x  \\\n",
       "256    W e thank Samara and Abdoun for this opportuni...   \n",
       "403    In the recently published paper by Zhang et al...   \n",
       "413    In 2015, the Rockefeller Foundation-Lancet Com...   \n",
       "453    Virologists have been surprised by a recent re...   \n",
       "545    L ipsitch and Inglesby recently estimated the ...   \n",
       "...                                                  ...   \n",
       "46875  All +RNA viruses (e.g., poliovirus, hepatitis ...   \n",
       "47054  of ACE2 via the MAS1 receptor (and not via the...   \n",
       "47253  Highly mutable, infinitely malleable, and all-...   \n",
       "47277  Health-Emergency Disaster Risk Management (Hea...   \n",
       "47565  Antibody-dependent enhancement (ADE) is a mech...   \n",
       "\n",
       "                                             body_text_y  \n",
       "256    We thank Samara and Abdoun for this opportunit...  \n",
       "403    Dear editor\\nIn the recently published paper b...  \n",
       "413    In 2015, the Rockefeller Foundation-Lancet Com...  \n",
       "453    Virologists have been surprised by a recent re...  \n",
       "545    Initial calculations of the potential risks as...  \n",
       "...                                                  ...  \n",
       "46875  All +RNA viruses (e.g., poliovirus, hepatitis ...  \n",
       "47054  We read with great interest the article by Kha...  \n",
       "47253  Highly mutable, infinitely malleable, and all-...  \n",
       "47277  Health-Emergency Disaster Risk Management (Hea...  \n",
       "47565  Antibody-dependent enhancement (ADE) is a mech...  \n",
       "\n",
       "[851 rows x 5 columns]"
      ]
     },
     "execution_count": 34,
     "metadata": {},
     "output_type": "execute_result"
    }
   ],
   "source": [
    "df[df.abstract_x != df.abstract_y][['abstract_x', 'abstract_y', 'url', 'body_text_x', 'body_text_y']][\n",
    "    (df.abstract_y.isnull()) & (df.abstract_x != '') & (~df.url.isnull())]"
   ]
  },
  {
   "cell_type": "markdown",
   "metadata": {},
   "source": [
    "body_text_x is from pdf, body_text_y from pmc"
   ]
  },
  {
   "cell_type": "code",
   "execution_count": 35,
   "metadata": {},
   "outputs": [
    {
     "data": {
      "text/plain": [
       "(48424, 22)"
      ]
     },
     "execution_count": 35,
     "metadata": {},
     "output_type": "execute_result"
    }
   ],
   "source": [
    "df.shape"
   ]
  },
  {
   "cell_type": "code",
   "execution_count": 36,
   "metadata": {},
   "outputs": [
    {
     "data": {
      "text/plain": [
       "(0, 13736)"
      ]
     },
     "execution_count": 36,
     "metadata": {},
     "output_type": "execute_result"
    }
   ],
   "source": [
    "df.abstract_x.isnull().sum(), (df.abstract_x =='').sum() # missing abstracts in json files"
   ]
  },
  {
   "cell_type": "code",
   "execution_count": 37,
   "metadata": {},
   "outputs": [
    {
     "data": {
      "text/plain": [
       "(10992, 0)"
      ]
     },
     "execution_count": 37,
     "metadata": {},
     "output_type": "execute_result"
    }
   ],
   "source": [
    "df.abstract_y.isnull().sum(), (df.abstract_y=='').sum() # missing abstracts in metadata"
   ]
  },
  {
   "cell_type": "markdown",
   "metadata": {},
   "source": [
    "Since the abstracts from the metadata seem more reliable we generally use these, but fill the missing values with the abstract from the extracted values from the JSON file."
   ]
  },
  {
   "cell_type": "code",
   "execution_count": 38,
   "metadata": {},
   "outputs": [],
   "source": [
    "df.loc[df.abstract_y.isnull() & (df.abstract_x != ''), 'abstract_y'] = df[(df.abstract_y.isnull()) & (df.abstract_x != '')].abstract_x"
   ]
  },
  {
   "cell_type": "code",
   "execution_count": 39,
   "metadata": {},
   "outputs": [
    {
     "data": {
      "text/plain": [
       "6514"
      ]
     },
     "execution_count": 39,
     "metadata": {},
     "output_type": "execute_result"
    }
   ],
   "source": [
    "df.abstract_y.isnull().sum()"
   ]
  },
  {
   "cell_type": "markdown",
   "metadata": {},
   "source": [
    "the remaining missing values are also empty in the json files"
   ]
  },
  {
   "cell_type": "code",
   "execution_count": 40,
   "metadata": {},
   "outputs": [
    {
     "data": {
      "text/plain": [
       "0"
      ]
     },
     "execution_count": 40,
     "metadata": {},
     "output_type": "execute_result"
    }
   ],
   "source": [
    "(df.abstract_y.isnull() & (df.abstract_x!='')).sum()"
   ]
  },
  {
   "cell_type": "code",
   "execution_count": 41,
   "metadata": {},
   "outputs": [],
   "source": [
    "df.rename(columns = {'abstract_y': 'abstract'}, inplace=True)\n",
    "df.drop('abstract_x', axis=1, inplace=True)"
   ]
  },
  {
   "cell_type": "code",
   "execution_count": 42,
   "metadata": {},
   "outputs": [
    {
     "data": {
      "text/plain": [
       "Index(['paper_id_x', 'body_text_x', 'methods_x', 'results_x', 'cord_uid',\n",
       "       'source_x', 'title', 'doi', 'pmcid', 'pubmed_id', 'license', 'abstract',\n",
       "       'publish_time', 'authors', 'journal', 'arxiv_id', 'full_text_file',\n",
       "       'url', 'body_text_y', 'methods_y', 'results_y'],\n",
       "      dtype='object')"
      ]
     },
     "execution_count": 42,
     "metadata": {},
     "output_type": "execute_result"
    }
   ],
   "source": [
    "df.columns"
   ]
  },
  {
   "cell_type": "markdown",
   "metadata": {},
   "source": [
    "We still have to compare the text body from pdf and pmc files."
   ]
  },
  {
   "cell_type": "code",
   "execution_count": 43,
   "metadata": {},
   "outputs": [
    {
     "data": {
      "text/plain": [
       "(48424, 21)"
      ]
     },
     "execution_count": 43,
     "metadata": {},
     "output_type": "execute_result"
    }
   ],
   "source": [
    "df.shape"
   ]
  },
  {
   "cell_type": "markdown",
   "metadata": {},
   "source": [
    "# Quick comparison of both texts"
   ]
  },
  {
   "cell_type": "code",
   "execution_count": 44,
   "metadata": {},
   "outputs": [
    {
     "data": {
      "text/plain": [
       "(48424, 21)"
      ]
     },
     "execution_count": 44,
     "metadata": {},
     "output_type": "execute_result"
    }
   ],
   "source": [
    "df.shape"
   ]
  },
  {
   "cell_type": "code",
   "execution_count": 45,
   "metadata": {},
   "outputs": [
    {
     "data": {
      "text/plain": [
       "48424"
      ]
     },
     "execution_count": 45,
     "metadata": {},
     "output_type": "execute_result"
    }
   ],
   "source": [
    "(df.body_text_x != df.body_text_y).sum()"
   ]
  },
  {
   "cell_type": "code",
   "execution_count": 46,
   "metadata": {},
   "outputs": [
    {
     "data": {
      "text/plain": [
       "'occurs primarily through a macropinocytosis-like process, and the virus traffics through the endocytic pathway (16) (17) (18) . Proteolytic cleavage of GP1 by a class of low-pH-activated proteases, cysteine cathepsins, removes the C-terminal glycan cap and mucin domain sequences (19) to reveal a receptor-binding domain. This newly exposed GP1 domain interacts with Niemann-Pick C1 (NPC1), which serves as an obligate intracellular receptor for filoviruses (20, 21) . While cathepsin cleavage and su'"
      ]
     },
     "execution_count": 46,
     "metadata": {},
     "output_type": "execute_result"
    }
   ],
   "source": [
    "df[(df.body_text_x != df.body_text_y) & df.body_text_y.notnull()][['body_text_x', 'body_text_y']].head(10).iloc[2].values[0][:500]"
   ]
  },
  {
   "cell_type": "code",
   "execution_count": 47,
   "metadata": {},
   "outputs": [
    {
     "data": {
      "text/plain": [
       "'Ebola virus (EBOV) and other members of the family Filoviridae of enveloped, negative-strand RNA viruses are associated with highly lethal disease for which no FDA-approved vaccines or treatments exist. Filovirus particles are characterized by a thread-like morphology, with infectious virions averaging 800 to 1,000 nm in length by 100 nm in diameter (1). The viral genome is encapsidated by several proteins, the nucleoprotein (NP), VP24, VP30, and VP35, to form the ribonucleocapsid, along with th'"
      ]
     },
     "execution_count": 47,
     "metadata": {},
     "output_type": "execute_result"
    }
   ],
   "source": [
    "df[(df.body_text_x != df.body_text_y) & df.body_text_y.notnull()][['body_text_x', 'body_text_y']].head(10).iloc[2].values[1][:500]"
   ]
  },
  {
   "cell_type": "code",
   "execution_count": 48,
   "metadata": {},
   "outputs": [
    {
     "data": {
      "text/html": [
       "<div>\n",
       "<style scoped>\n",
       "    .dataframe tbody tr th:only-of-type {\n",
       "        vertical-align: middle;\n",
       "    }\n",
       "\n",
       "    .dataframe tbody tr th {\n",
       "        vertical-align: top;\n",
       "    }\n",
       "\n",
       "    .dataframe thead th {\n",
       "        text-align: right;\n",
       "    }\n",
       "</style>\n",
       "<table border=\"1\" class=\"dataframe\">\n",
       "  <thead>\n",
       "    <tr style=\"text-align: right;\">\n",
       "      <th></th>\n",
       "      <th>paper_id_x</th>\n",
       "      <th>body_text_x</th>\n",
       "      <th>methods_x</th>\n",
       "      <th>results_x</th>\n",
       "      <th>cord_uid</th>\n",
       "      <th>source_x</th>\n",
       "      <th>title</th>\n",
       "      <th>doi</th>\n",
       "      <th>pmcid</th>\n",
       "      <th>pubmed_id</th>\n",
       "      <th>...</th>\n",
       "      <th>abstract</th>\n",
       "      <th>publish_time</th>\n",
       "      <th>authors</th>\n",
       "      <th>journal</th>\n",
       "      <th>arxiv_id</th>\n",
       "      <th>full_text_file</th>\n",
       "      <th>url</th>\n",
       "      <th>body_text_y</th>\n",
       "      <th>methods_y</th>\n",
       "      <th>results_y</th>\n",
       "    </tr>\n",
       "  </thead>\n",
       "  <tbody>\n",
       "    <tr>\n",
       "      <th>0</th>\n",
       "      <td>3cdc48bb9e40afd30a59463b7872761a726998c8</td>\n",
       "      <td>Newcastle disease (ND) is an emerging disease ...</td>\n",
       "      <td>ND Virus Culture. NDV (Roakin strain) was obta...</td>\n",
       "      <td>Experiment 1. Adult house ßies harbored Newcas...</td>\n",
       "      <td>66ecksxm</td>\n",
       "      <td>PMC</td>\n",
       "      <td>Experimental Evaluation of Musca domestica (Di...</td>\n",
       "      <td>10.1093/jmedent/44.4.666</td>\n",
       "      <td>PMC7107465</td>\n",
       "      <td>17695023</td>\n",
       "      <td>...</td>\n",
       "      <td>House flies, Musca domestica L. (Diptera: Musc...</td>\n",
       "      <td>2007-07-01</td>\n",
       "      <td>Watson, D. Wes; Niño, Elina L.; Rochon, Katery...</td>\n",
       "      <td>J Med Entomol</td>\n",
       "      <td>NaN</td>\n",
       "      <td>noncomm_use_subset</td>\n",
       "      <td>https://www.ncbi.nlm.nih.gov/pmc/articles/PMC7...</td>\n",
       "      <td>NDV (Roakin strain) was obtained from Dr. D. J...</td>\n",
       "      <td>NDV (Roakin strain) was obtained from Dr. D. J...</td>\n",
       "      <td>Adult house flies harbored Newcastle Disease v...</td>\n",
       "    </tr>\n",
       "    <tr>\n",
       "      <th>1</th>\n",
       "      <td>d99acb4e99be7852aa61a688c9fbd38d44b5a252</td>\n",
       "      <td>Live attenuated viruses have been developed an...</td>\n",
       "      <td>Viruses and cells. RSV A2 strain was obtained ...</td>\n",
       "      <td></td>\n",
       "      <td>3qdjmb2j</td>\n",
       "      <td>PMC</td>\n",
       "      <td>Evaluation of Measles Vaccine Virus as a Vecto...</td>\n",
       "      <td>10.2174/1874357901206010012</td>\n",
       "      <td>PMC3286841</td>\n",
       "      <td>22383906</td>\n",
       "      <td>...</td>\n",
       "      <td>Live attenuated recombinant measles vaccine vi...</td>\n",
       "      <td>2012-02-16</td>\n",
       "      <td>Mok, Hoyin; Cheng, Xing; Xu, Qi; Zengel, James...</td>\n",
       "      <td>Open Virol J</td>\n",
       "      <td>NaN</td>\n",
       "      <td>noncomm_use_subset</td>\n",
       "      <td>https://www.ncbi.nlm.nih.gov/pmc/articles/PMC3...</td>\n",
       "      <td>Live attenuated viruses have been developed an...</td>\n",
       "      <td>RSV A2 strain was obtained from ATCC (Manassas...</td>\n",
       "      <td>The reverse genetics system for measles Edmons...</td>\n",
       "    </tr>\n",
       "    <tr>\n",
       "      <th>2</th>\n",
       "      <td>748d4c57fe1acc8d9d97cf574f7dea5296f9386c</td>\n",
       "      <td>occurs primarily through a macropinocytosis-li...</td>\n",
       "      <td>Cells. U2OS human osteosarcoma cells were cult...</td>\n",
       "      <td></td>\n",
       "      <td>tnaizwxo</td>\n",
       "      <td>PMC</td>\n",
       "      <td>Direct Visualization of Ebola Virus Fusion Tri...</td>\n",
       "      <td>10.1128/mbio.01857-15</td>\n",
       "      <td>PMC4752599</td>\n",
       "      <td>26861015</td>\n",
       "      <td>...</td>\n",
       "      <td>Ebola virus (EBOV) makes extensive and intrica...</td>\n",
       "      <td>2016-02-09</td>\n",
       "      <td>Spence, Jennifer S.; Krause, Tyler B.; Mittler...</td>\n",
       "      <td>mBio</td>\n",
       "      <td>NaN</td>\n",
       "      <td>noncomm_use_subset</td>\n",
       "      <td>https://www.ncbi.nlm.nih.gov/pmc/articles/PMC4...</td>\n",
       "      <td>Ebola virus (EBOV) and other members of the fa...</td>\n",
       "      <td>U2OS human osteosarcoma cells were cultured in...</td>\n",
       "      <td>For evaluating EBOV GP triggering under biosaf...</td>\n",
       "    </tr>\n",
       "    <tr>\n",
       "      <th>3</th>\n",
       "      <td>b891efc6e1419713b05ff7d89b26d260478c28df</td>\n",
       "      <td>The goal of the present study was to investiga...</td>\n",
       "      <td></td>\n",
       "      <td></td>\n",
       "      <td>qxsj2zud</td>\n",
       "      <td>PMC</td>\n",
       "      <td>Tuberculosis prevention in healthcare workers ...</td>\n",
       "      <td>10.1183/23120541.00015-2015</td>\n",
       "      <td>PMC5005135</td>\n",
       "      <td>27730135</td>\n",
       "      <td>...</td>\n",
       "      <td>BSL3 and respiratory isolation wards protect h...</td>\n",
       "      <td>2015-08-21</td>\n",
       "      <td>Deng, Yunfeng; Li, Yan; Wang, Fengtian; Gao, D...</td>\n",
       "      <td>ERJ Open Res</td>\n",
       "      <td>NaN</td>\n",
       "      <td>noncomm_use_subset</td>\n",
       "      <td>https://www.ncbi.nlm.nih.gov/pmc/articles/PMC5...</td>\n",
       "      <td>To the Editor:\\nChina has the world's second l...</td>\n",
       "      <td></td>\n",
       "      <td></td>\n",
       "    </tr>\n",
       "    <tr>\n",
       "      <th>4</th>\n",
       "      <td>353852971069ad5794445e5c1ab6077ce23da75d</td>\n",
       "      <td>Coronavirus disease 2019 (COVID-19) has spread...</td>\n",
       "      <td></td>\n",
       "      <td></td>\n",
       "      <td>NaN</td>\n",
       "      <td>NaN</td>\n",
       "      <td>NaN</td>\n",
       "      <td>NaN</td>\n",
       "      <td>NaN</td>\n",
       "      <td>NaN</td>\n",
       "      <td>...</td>\n",
       "      <td>NaN</td>\n",
       "      <td>NaN</td>\n",
       "      <td>NaN</td>\n",
       "      <td>NaN</td>\n",
       "      <td>NaN</td>\n",
       "      <td>NaN</td>\n",
       "      <td>NaN</td>\n",
       "      <td>NaN</td>\n",
       "      <td>NaN</td>\n",
       "      <td>NaN</td>\n",
       "    </tr>\n",
       "  </tbody>\n",
       "</table>\n",
       "<p>5 rows × 21 columns</p>\n",
       "</div>"
      ],
      "text/plain": [
       "                                 paper_id_x  \\\n",
       "0  3cdc48bb9e40afd30a59463b7872761a726998c8   \n",
       "1  d99acb4e99be7852aa61a688c9fbd38d44b5a252   \n",
       "2  748d4c57fe1acc8d9d97cf574f7dea5296f9386c   \n",
       "3  b891efc6e1419713b05ff7d89b26d260478c28df   \n",
       "4  353852971069ad5794445e5c1ab6077ce23da75d   \n",
       "\n",
       "                                         body_text_x  \\\n",
       "0  Newcastle disease (ND) is an emerging disease ...   \n",
       "1  Live attenuated viruses have been developed an...   \n",
       "2  occurs primarily through a macropinocytosis-li...   \n",
       "3  The goal of the present study was to investiga...   \n",
       "4  Coronavirus disease 2019 (COVID-19) has spread...   \n",
       "\n",
       "                                           methods_x  \\\n",
       "0  ND Virus Culture. NDV (Roakin strain) was obta...   \n",
       "1  Viruses and cells. RSV A2 strain was obtained ...   \n",
       "2  Cells. U2OS human osteosarcoma cells were cult...   \n",
       "3                                                      \n",
       "4                                                      \n",
       "\n",
       "                                           results_x  cord_uid source_x  \\\n",
       "0  Experiment 1. Adult house ßies harbored Newcas...  66ecksxm      PMC   \n",
       "1                                                     3qdjmb2j      PMC   \n",
       "2                                                     tnaizwxo      PMC   \n",
       "3                                                     qxsj2zud      PMC   \n",
       "4                                                          NaN      NaN   \n",
       "\n",
       "                                               title  \\\n",
       "0  Experimental Evaluation of Musca domestica (Di...   \n",
       "1  Evaluation of Measles Vaccine Virus as a Vecto...   \n",
       "2  Direct Visualization of Ebola Virus Fusion Tri...   \n",
       "3  Tuberculosis prevention in healthcare workers ...   \n",
       "4                                                NaN   \n",
       "\n",
       "                           doi       pmcid pubmed_id  ...  \\\n",
       "0     10.1093/jmedent/44.4.666  PMC7107465  17695023  ...   \n",
       "1  10.2174/1874357901206010012  PMC3286841  22383906  ...   \n",
       "2        10.1128/mbio.01857-15  PMC4752599  26861015  ...   \n",
       "3  10.1183/23120541.00015-2015  PMC5005135  27730135  ...   \n",
       "4                          NaN         NaN       NaN  ...   \n",
       "\n",
       "                                            abstract publish_time  \\\n",
       "0  House flies, Musca domestica L. (Diptera: Musc...   2007-07-01   \n",
       "1  Live attenuated recombinant measles vaccine vi...   2012-02-16   \n",
       "2  Ebola virus (EBOV) makes extensive and intrica...   2016-02-09   \n",
       "3  BSL3 and respiratory isolation wards protect h...   2015-08-21   \n",
       "4                                                NaN          NaN   \n",
       "\n",
       "                                             authors        journal arxiv_id  \\\n",
       "0  Watson, D. Wes; Niño, Elina L.; Rochon, Katery...  J Med Entomol      NaN   \n",
       "1  Mok, Hoyin; Cheng, Xing; Xu, Qi; Zengel, James...   Open Virol J      NaN   \n",
       "2  Spence, Jennifer S.; Krause, Tyler B.; Mittler...           mBio      NaN   \n",
       "3  Deng, Yunfeng; Li, Yan; Wang, Fengtian; Gao, D...   ERJ Open Res      NaN   \n",
       "4                                                NaN            NaN      NaN   \n",
       "\n",
       "       full_text_file                                                url  \\\n",
       "0  noncomm_use_subset  https://www.ncbi.nlm.nih.gov/pmc/articles/PMC7...   \n",
       "1  noncomm_use_subset  https://www.ncbi.nlm.nih.gov/pmc/articles/PMC3...   \n",
       "2  noncomm_use_subset  https://www.ncbi.nlm.nih.gov/pmc/articles/PMC4...   \n",
       "3  noncomm_use_subset  https://www.ncbi.nlm.nih.gov/pmc/articles/PMC5...   \n",
       "4                 NaN                                                NaN   \n",
       "\n",
       "                                         body_text_y  \\\n",
       "0  NDV (Roakin strain) was obtained from Dr. D. J...   \n",
       "1  Live attenuated viruses have been developed an...   \n",
       "2  Ebola virus (EBOV) and other members of the fa...   \n",
       "3  To the Editor:\\nChina has the world's second l...   \n",
       "4                                                NaN   \n",
       "\n",
       "                                           methods_y  \\\n",
       "0  NDV (Roakin strain) was obtained from Dr. D. J...   \n",
       "1  RSV A2 strain was obtained from ATCC (Manassas...   \n",
       "2  U2OS human osteosarcoma cells were cultured in...   \n",
       "3                                                      \n",
       "4                                                NaN   \n",
       "\n",
       "                                           results_y  \n",
       "0  Adult house flies harbored Newcastle Disease v...  \n",
       "1  The reverse genetics system for measles Edmons...  \n",
       "2  For evaluating EBOV GP triggering under biosaf...  \n",
       "3                                                     \n",
       "4                                                NaN  \n",
       "\n",
       "[5 rows x 21 columns]"
      ]
     },
     "execution_count": 48,
     "metadata": {},
     "output_type": "execute_result"
    }
   ],
   "source": [
    "df[df.body_text_x != df.body_text_y].head()"
   ]
  },
  {
   "cell_type": "code",
   "execution_count": 49,
   "metadata": {},
   "outputs": [
    {
     "data": {
      "text/plain": [
       "'Canine infectious respiratory disease (CIRD) is a disease complex which occurs frequently in densely housed dog populations such as in re-homing, training and boarding kennels. The disease is characterised by a dry hacking cough with a recovery period of 1-3 weeks, but can progress to a severe bronchopneumonia which may be fatal (Appel and Binn, 1987) . Many microbiological agents have been associated with CIRD; including Bordetella bronchiseptica, canine parainfluenza virus; canine adenovirus-2'"
      ]
     },
     "execution_count": 49,
     "metadata": {},
     "output_type": "execute_result"
    }
   ],
   "source": [
    "df.iloc[34885].body_text_x[:500]"
   ]
  },
  {
   "cell_type": "code",
   "execution_count": 50,
   "metadata": {},
   "outputs": [
    {
     "ename": "TypeError",
     "evalue": "'float' object is not subscriptable",
     "output_type": "error",
     "traceback": [
      "\u001b[0;31m---------------------------------------------------------------------------\u001b[0m",
      "\u001b[0;31mTypeError\u001b[0m                                 Traceback (most recent call last)",
      "\u001b[0;32m<ipython-input-50-aefd1b441285>\u001b[0m in \u001b[0;36m<module>\u001b[0;34m\u001b[0m\n\u001b[0;32m----> 1\u001b[0;31m \u001b[0mdf\u001b[0m\u001b[0;34m.\u001b[0m\u001b[0miloc\u001b[0m\u001b[0;34m[\u001b[0m\u001b[0;36m34885\u001b[0m\u001b[0;34m]\u001b[0m\u001b[0;34m.\u001b[0m\u001b[0mbody_text_y\u001b[0m\u001b[0;34m[\u001b[0m\u001b[0;34m:\u001b[0m\u001b[0;36m500\u001b[0m\u001b[0;34m]\u001b[0m\u001b[0;34m\u001b[0m\u001b[0m\n\u001b[0m",
      "\u001b[0;31mTypeError\u001b[0m: 'float' object is not subscriptable"
     ]
    }
   ],
   "source": [
    "df.iloc[34885].body_text_y[:500]"
   ]
  },
  {
   "cell_type": "code",
   "execution_count": 51,
   "metadata": {},
   "outputs": [
    {
     "data": {
      "text/plain": [
       "'https://doi.org/10.1016/j.jviromet.2008.10.008'"
      ]
     },
     "execution_count": 51,
     "metadata": {},
     "output_type": "execute_result"
    }
   ],
   "source": [
    "df.iloc[34885].url"
   ]
  },
  {
   "cell_type": "code",
   "execution_count": 52,
   "metadata": {},
   "outputs": [
    {
     "data": {
      "text/plain": [
       "'The origin of genetic variations in clinical expression of viral diseases is of major biological importance but is far from being completely understood. Experimental diseases induced in mice by coronaviruses allow a convenient approach to study this question, since the induced pathologies depend upon the genetic origin of the infected mice [12, 20] . Thus, intraperitoneal injection of murine hepatitis virus type 3 (MHV 3) into adult mice results either in early death (at day 3 to 4 post infectio'"
      ]
     },
     "execution_count": 52,
     "metadata": {},
     "output_type": "execute_result"
    }
   ],
   "source": [
    "df.iloc[34888].body_text_x[:500]"
   ]
  },
  {
   "cell_type": "code",
   "execution_count": 53,
   "metadata": {},
   "outputs": [
    {
     "ename": "TypeError",
     "evalue": "'float' object is not subscriptable",
     "output_type": "error",
     "traceback": [
      "\u001b[0;31m---------------------------------------------------------------------------\u001b[0m",
      "\u001b[0;31mTypeError\u001b[0m                                 Traceback (most recent call last)",
      "\u001b[0;32m<ipython-input-53-3227db4c99a6>\u001b[0m in \u001b[0;36m<module>\u001b[0;34m\u001b[0m\n\u001b[0;32m----> 1\u001b[0;31m \u001b[0mdf\u001b[0m\u001b[0;34m.\u001b[0m\u001b[0miloc\u001b[0m\u001b[0;34m[\u001b[0m\u001b[0;36m34888\u001b[0m\u001b[0;34m]\u001b[0m\u001b[0;34m.\u001b[0m\u001b[0mbody_text_y\u001b[0m\u001b[0;34m[\u001b[0m\u001b[0;34m:\u001b[0m\u001b[0;36m500\u001b[0m\u001b[0;34m]\u001b[0m\u001b[0;34m\u001b[0m\u001b[0m\n\u001b[0m",
      "\u001b[0;31mTypeError\u001b[0m: 'float' object is not subscriptable"
     ]
    }
   ],
   "source": [
    "df.iloc[34888].body_text_y[:500]"
   ]
  },
  {
   "cell_type": "code",
   "execution_count": 54,
   "metadata": {},
   "outputs": [
    {
     "data": {
      "text/plain": [
       "'https://www.ncbi.nlm.nih.gov/pmc/articles/PMC7086966/'"
      ]
     },
     "execution_count": 54,
     "metadata": {},
     "output_type": "execute_result"
    }
   ],
   "source": [
    "df.iloc[34888].url"
   ]
  },
  {
   "cell_type": "code",
   "execution_count": 55,
   "metadata": {},
   "outputs": [
    {
     "data": {
      "text/plain": [
       "'Acute respiratory distress syndrome (ARDS) is a clinically and biologically heterogeneous syndrome with a severe lung inflammation disorder that presents as rapidly progressive hypoxemia and dyspnea. 1 ARDS is principally associated with direct injury to the lung, such as infectious pneumonia, or indirect injury to the lung resulting from systemic inflammation, such as non-pulmonary sepsis, trauma, and surgery. 2 Pneumonia remains the predominant cause of death in children under 5 years of age 3'"
      ]
     },
     "execution_count": 55,
     "metadata": {},
     "output_type": "execute_result"
    }
   ],
   "source": [
    "df.iloc[1337].body_text_x[:500]"
   ]
  },
  {
   "cell_type": "code",
   "execution_count": 56,
   "metadata": {},
   "outputs": [
    {
     "data": {
      "text/plain": [
       "'Acute respiratory distress syndrome (ARDS) is a clinically and biologically heterogeneous syndrome with a severe lung inflammation disorder that presents as rapidly progressive hypoxemia and dyspnea.1 ARDS is principally associated with direct injury to the lung, such as infectious pneumonia, or indirect injury to the lung resulting from systemic inflammation, such as non‐pulmonary sepsis, trauma, and surgery.2 Pneumonia remains the predominant cause of death in children under 5 years of age3 an'"
      ]
     },
     "execution_count": 56,
     "metadata": {},
     "output_type": "execute_result"
    }
   ],
   "source": [
    "df.iloc[1337].body_text_y[:500]"
   ]
  },
  {
   "cell_type": "code",
   "execution_count": 57,
   "metadata": {},
   "outputs": [
    {
     "data": {
      "text/plain": [
       "'https://www.ncbi.nlm.nih.gov/pmc/articles/PMC5697698/'"
      ]
     },
     "execution_count": 57,
     "metadata": {},
     "output_type": "execute_result"
    }
   ],
   "source": [
    "df.iloc[1337].url"
   ]
  },
  {
   "cell_type": "code",
   "execution_count": 58,
   "metadata": {},
   "outputs": [
    {
     "data": {
      "text/plain": [
       "'The global prevalence of the dengue virus (DENV) has grown dramatically in recent decades, and it is now endemic in .100 countries, with some 2.5 billion people at risk of infection. Dengue is an arthropod-borne flavivirus that can be subdivided into the 4 major serotypes (DEN-1-DEN-4). Most dengue infections either are asymptomatic or lead to a self-limiting febrile illness, dengue fever. In some cases the illness is more severe, leading to dengue hemorrhagic fever (DHF) with severe plasma leak'"
      ]
     },
     "execution_count": 58,
     "metadata": {},
     "output_type": "execute_result"
    }
   ],
   "source": [
    "df.iloc[1242].body_text_x[:500]"
   ]
  },
  {
   "cell_type": "code",
   "execution_count": 59,
   "metadata": {},
   "outputs": [
    {
     "data": {
      "text/plain": [
       "'The dengue-2 strain, 16681, was grown in C6/36 cells, Vero cells, and monocyte-derived dendritic cells (DCs). Cell-free supernatants were used either neat or after concentration by ultracentrifugation at 45,000 rpm for 4 h at 4°C, and the virus pellet was resuspended in 1.5% fetal bovine serum (FBS)/Leibovitz L-15. To concentrate large volumes of low-titer DENV supernatant, DENV were precipitated with 10% Polyethylene glycol 8000 (Sigma) before ultracentrifugation. U937 were maintained in 10% FB'"
      ]
     },
     "execution_count": 59,
     "metadata": {},
     "output_type": "execute_result"
    }
   ],
   "source": [
    "df.iloc[1242].body_text_y[:500]"
   ]
  },
  {
   "cell_type": "code",
   "execution_count": 60,
   "metadata": {},
   "outputs": [
    {
     "data": {
      "text/plain": [
       "'https://www.ncbi.nlm.nih.gov/pmc/articles/PMC3100511/'"
      ]
     },
     "execution_count": 60,
     "metadata": {},
     "output_type": "execute_result"
    }
   ],
   "source": [
    "df.iloc[1242].url"
   ]
  },
  {
   "cell_type": "markdown",
   "metadata": {},
   "source": [
    "Where available we use the text from the pmc file (body_text_y), trusting the statement that it is of higher quality."
   ]
  },
  {
   "cell_type": "code",
   "execution_count": 61,
   "metadata": {},
   "outputs": [
    {
     "data": {
      "text/plain": [
       "(0, 30108)"
      ]
     },
     "execution_count": 61,
     "metadata": {},
     "output_type": "execute_result"
    }
   ],
   "source": [
    "df.body_text_x.isnull().sum(), df.body_text_y.isnull().sum()"
   ]
  },
  {
   "cell_type": "code",
   "execution_count": 62,
   "metadata": {},
   "outputs": [
    {
     "data": {
      "text/plain": [
       "(0, 0)"
      ]
     },
     "execution_count": 62,
     "metadata": {},
     "output_type": "execute_result"
    }
   ],
   "source": [
    "(df.body_text_x == '').sum(), (df.body_text_y == '').sum()"
   ]
  },
  {
   "cell_type": "code",
   "execution_count": 63,
   "metadata": {},
   "outputs": [],
   "source": [
    "df.loc[df.body_text_y.notnull(), 'body_text_x'] = df.loc[df.body_text_y.notnull(), 'body_text_y']"
   ]
  },
  {
   "cell_type": "code",
   "execution_count": 64,
   "metadata": {},
   "outputs": [
    {
     "data": {
      "text/plain": [
       "0"
      ]
     },
     "execution_count": 64,
     "metadata": {},
     "output_type": "execute_result"
    }
   ],
   "source": [
    "df.body_text_x.isnull().sum()"
   ]
  },
  {
   "cell_type": "code",
   "execution_count": 65,
   "metadata": {},
   "outputs": [],
   "source": [
    "df.rename(columns = {'body_text_x': 'body_text'}, inplace=True)\n",
    "df.drop('body_text_y', axis=1, inplace=True)"
   ]
  },
  {
   "cell_type": "code",
   "execution_count": 66,
   "metadata": {},
   "outputs": [
    {
     "data": {
      "text/plain": [
       "Index(['paper_id_x', 'body_text', 'methods_x', 'results_x', 'cord_uid',\n",
       "       'source_x', 'title', 'doi', 'pmcid', 'pubmed_id', 'license', 'abstract',\n",
       "       'publish_time', 'authors', 'journal', 'arxiv_id', 'full_text_file',\n",
       "       'url', 'methods_y', 'results_y'],\n",
       "      dtype='object')"
      ]
     },
     "execution_count": 66,
     "metadata": {},
     "output_type": "execute_result"
    }
   ],
   "source": [
    "df.columns"
   ]
  },
  {
   "cell_type": "code",
   "execution_count": 67,
   "metadata": {},
   "outputs": [
    {
     "data": {
      "text/html": [
       "<div>\n",
       "<style scoped>\n",
       "    .dataframe tbody tr th:only-of-type {\n",
       "        vertical-align: middle;\n",
       "    }\n",
       "\n",
       "    .dataframe tbody tr th {\n",
       "        vertical-align: top;\n",
       "    }\n",
       "\n",
       "    .dataframe thead th {\n",
       "        text-align: right;\n",
       "    }\n",
       "</style>\n",
       "<table border=\"1\" class=\"dataframe\">\n",
       "  <thead>\n",
       "    <tr style=\"text-align: right;\">\n",
       "      <th></th>\n",
       "      <th>methods_x</th>\n",
       "      <th>methods_y</th>\n",
       "      <th>url</th>\n",
       "    </tr>\n",
       "  </thead>\n",
       "  <tbody>\n",
       "    <tr>\n",
       "      <th>0</th>\n",
       "      <td>ND Virus Culture. NDV (Roakin strain) was obta...</td>\n",
       "      <td>NDV (Roakin strain) was obtained from Dr. D. J...</td>\n",
       "      <td>https://www.ncbi.nlm.nih.gov/pmc/articles/PMC7...</td>\n",
       "    </tr>\n",
       "    <tr>\n",
       "      <th>1</th>\n",
       "      <td>Viruses and cells. RSV A2 strain was obtained ...</td>\n",
       "      <td>RSV A2 strain was obtained from ATCC (Manassas...</td>\n",
       "      <td>https://www.ncbi.nlm.nih.gov/pmc/articles/PMC3...</td>\n",
       "    </tr>\n",
       "    <tr>\n",
       "      <th>2</th>\n",
       "      <td>Cells. U2OS human osteosarcoma cells were cult...</td>\n",
       "      <td>U2OS human osteosarcoma cells were cultured in...</td>\n",
       "      <td>https://www.ncbi.nlm.nih.gov/pmc/articles/PMC4...</td>\n",
       "    </tr>\n",
       "    <tr>\n",
       "      <th>3</th>\n",
       "      <td></td>\n",
       "      <td></td>\n",
       "      <td>https://www.ncbi.nlm.nih.gov/pmc/articles/PMC5...</td>\n",
       "    </tr>\n",
       "    <tr>\n",
       "      <th>5</th>\n",
       "      <td>Microarray design. National Center for Biotech...</td>\n",
       "      <td>National Center for Biotechnology Information ...</td>\n",
       "      <td>https://www.ncbi.nlm.nih.gov/pmc/articles/PMC4...</td>\n",
       "    </tr>\n",
       "    <tr>\n",
       "      <th>...</th>\n",
       "      <td>...</td>\n",
       "      <td>...</td>\n",
       "      <td>...</td>\n",
       "    </tr>\n",
       "    <tr>\n",
       "      <th>47632</th>\n",
       "      <td>To evaluate the specificity of the utilized Re...</td>\n",
       "      <td>Enzymes including Bst2.0 DNA polymerase (8000 ...</td>\n",
       "      <td>https://www.ncbi.nlm.nih.gov/pmc/articles/PMC5...</td>\n",
       "    </tr>\n",
       "    <tr>\n",
       "      <th>47633</th>\n",
       "      <td>The sitting-drop vapor diffusion method was us...</td>\n",
       "      <td>The peptide, NP44 (CTELKLSDY) derived from the...</td>\n",
       "      <td>https://www.ncbi.nlm.nih.gov/pmc/articles/PMC6...</td>\n",
       "    </tr>\n",
       "    <tr>\n",
       "      <th>47634</th>\n",
       "      <td>Endocrine disruption, cancer, birth defects, n...</td>\n",
       "      <td></td>\n",
       "      <td>https://www.ncbi.nlm.nih.gov/pmc/articles/PMC4...</td>\n",
       "    </tr>\n",
       "    <tr>\n",
       "      <th>47635</th>\n",
       "      <td>Medical charts were reviewed for demographic c...</td>\n",
       "      <td>This retrospective study included children wit...</td>\n",
       "      <td>https://www.ncbi.nlm.nih.gov/pmc/articles/PMC6...</td>\n",
       "    </tr>\n",
       "    <tr>\n",
       "      <th>47636</th>\n",
       "      <td></td>\n",
       "      <td></td>\n",
       "      <td>https://www.ncbi.nlm.nih.gov/pmc/articles/PMC2...</td>\n",
       "    </tr>\n",
       "  </tbody>\n",
       "</table>\n",
       "<p>18316 rows × 3 columns</p>\n",
       "</div>"
      ],
      "text/plain": [
       "                                               methods_x  \\\n",
       "0      ND Virus Culture. NDV (Roakin strain) was obta...   \n",
       "1      Viruses and cells. RSV A2 strain was obtained ...   \n",
       "2      Cells. U2OS human osteosarcoma cells were cult...   \n",
       "3                                                          \n",
       "5      Microarray design. National Center for Biotech...   \n",
       "...                                                  ...   \n",
       "47632  To evaluate the specificity of the utilized Re...   \n",
       "47633  The sitting-drop vapor diffusion method was us...   \n",
       "47634  Endocrine disruption, cancer, birth defects, n...   \n",
       "47635  Medical charts were reviewed for demographic c...   \n",
       "47636                                                      \n",
       "\n",
       "                                               methods_y  \\\n",
       "0      NDV (Roakin strain) was obtained from Dr. D. J...   \n",
       "1      RSV A2 strain was obtained from ATCC (Manassas...   \n",
       "2      U2OS human osteosarcoma cells were cultured in...   \n",
       "3                                                          \n",
       "5      National Center for Biotechnology Information ...   \n",
       "...                                                  ...   \n",
       "47632  Enzymes including Bst2.0 DNA polymerase (8000 ...   \n",
       "47633  The peptide, NP44 (CTELKLSDY) derived from the...   \n",
       "47634                                                      \n",
       "47635  This retrospective study included children wit...   \n",
       "47636                                                      \n",
       "\n",
       "                                                     url  \n",
       "0      https://www.ncbi.nlm.nih.gov/pmc/articles/PMC7...  \n",
       "1      https://www.ncbi.nlm.nih.gov/pmc/articles/PMC3...  \n",
       "2      https://www.ncbi.nlm.nih.gov/pmc/articles/PMC4...  \n",
       "3      https://www.ncbi.nlm.nih.gov/pmc/articles/PMC5...  \n",
       "5      https://www.ncbi.nlm.nih.gov/pmc/articles/PMC4...  \n",
       "...                                                  ...  \n",
       "47632  https://www.ncbi.nlm.nih.gov/pmc/articles/PMC5...  \n",
       "47633  https://www.ncbi.nlm.nih.gov/pmc/articles/PMC6...  \n",
       "47634  https://www.ncbi.nlm.nih.gov/pmc/articles/PMC4...  \n",
       "47635  https://www.ncbi.nlm.nih.gov/pmc/articles/PMC6...  \n",
       "47636  https://www.ncbi.nlm.nih.gov/pmc/articles/PMC2...  \n",
       "\n",
       "[18316 rows x 3 columns]"
      ]
     },
     "execution_count": 67,
     "metadata": {},
     "output_type": "execute_result"
    }
   ],
   "source": [
    "df[['methods_x', 'methods_y', 'url']][df.methods_y.notnull()]"
   ]
  },
  {
   "cell_type": "code",
   "execution_count": 68,
   "metadata": {},
   "outputs": [
    {
     "data": {
      "text/plain": [
       "(34707, 0)"
      ]
     },
     "execution_count": 68,
     "metadata": {},
     "output_type": "execute_result"
    }
   ],
   "source": [
    "(df.methods_x == '').sum(), df.methods_x.isnull().sum()"
   ]
  },
  {
   "cell_type": "code",
   "execution_count": 69,
   "metadata": {},
   "outputs": [
    {
     "data": {
      "text/plain": [
       "(6622, 30108)"
      ]
     },
     "execution_count": 69,
     "metadata": {},
     "output_type": "execute_result"
    }
   ],
   "source": [
    "(df.methods_y == '').sum(), df.methods_y.isnull().sum()"
   ]
  },
  {
   "cell_type": "code",
   "execution_count": 70,
   "metadata": {},
   "outputs": [],
   "source": [
    "# use methods_y (from pmc) when it's available\n",
    "mask = (df.methods_y.notnull()) & (df.methods_y != '')\n",
    "df.loc[mask, 'methods_x'] = df.loc[mask, 'methods_y']\n",
    "\n",
    "# same for results\n",
    "mask = (df.results_y.notnull()) & (df.results_y != '')\n",
    "df.loc[mask, 'results_x'] = df.loc[mask, 'results_y']"
   ]
  },
  {
   "cell_type": "code",
   "execution_count": 71,
   "metadata": {},
   "outputs": [
    {
     "data": {
      "text/plain": [
       "(31384, 0)"
      ]
     },
     "execution_count": 71,
     "metadata": {},
     "output_type": "execute_result"
    }
   ],
   "source": [
    "(df.results_x == '').sum(), df.results_x.isnull().sum()"
   ]
  },
  {
   "cell_type": "code",
   "execution_count": 72,
   "metadata": {},
   "outputs": [
    {
     "data": {
      "text/plain": [
       "(7408, 30108)"
      ]
     },
     "execution_count": 72,
     "metadata": {},
     "output_type": "execute_result"
    }
   ],
   "source": [
    "(df.results_y == '').sum(), df.results_y.isnull().sum()"
   ]
  },
  {
   "cell_type": "code",
   "execution_count": 73,
   "metadata": {},
   "outputs": [],
   "source": [
    "df.rename(columns = {'methods_x': 'methods', 'results_x': 'results'}, inplace=True)\n",
    "df.drop(columns=['methods_y', 'results_y'], inplace=True)"
   ]
  },
  {
   "cell_type": "code",
   "execution_count": 74,
   "metadata": {},
   "outputs": [],
   "source": [
    "df.rename(columns = {'paper_id_x': 'paper_id', 'source_x': 'source'}, inplace=True)"
   ]
  },
  {
   "cell_type": "code",
   "execution_count": 75,
   "metadata": {},
   "outputs": [
    {
     "data": {
      "text/plain": [
       "Index(['paper_id', 'body_text', 'methods', 'results', 'cord_uid', 'source',\n",
       "       'title', 'doi', 'pmcid', 'pubmed_id', 'license', 'abstract',\n",
       "       'publish_time', 'authors', 'journal', 'arxiv_id', 'full_text_file',\n",
       "       'url'],\n",
       "      dtype='object')"
      ]
     },
     "execution_count": 75,
     "metadata": {},
     "output_type": "execute_result"
    }
   ],
   "source": [
    "df.columns"
   ]
  },
  {
   "cell_type": "code",
   "execution_count": 76,
   "metadata": {},
   "outputs": [
    {
     "data": {
      "text/html": [
       "<div>\n",
       "<style scoped>\n",
       "    .dataframe tbody tr th:only-of-type {\n",
       "        vertical-align: middle;\n",
       "    }\n",
       "\n",
       "    .dataframe tbody tr th {\n",
       "        vertical-align: top;\n",
       "    }\n",
       "\n",
       "    .dataframe thead th {\n",
       "        text-align: right;\n",
       "    }\n",
       "</style>\n",
       "<table border=\"1\" class=\"dataframe\">\n",
       "  <thead>\n",
       "    <tr style=\"text-align: right;\">\n",
       "      <th></th>\n",
       "      <th>paper_id</th>\n",
       "      <th>body_text</th>\n",
       "      <th>methods</th>\n",
       "      <th>results</th>\n",
       "      <th>cord_uid</th>\n",
       "      <th>source</th>\n",
       "      <th>title</th>\n",
       "      <th>doi</th>\n",
       "      <th>pmcid</th>\n",
       "      <th>pubmed_id</th>\n",
       "      <th>license</th>\n",
       "      <th>abstract</th>\n",
       "      <th>publish_time</th>\n",
       "      <th>authors</th>\n",
       "      <th>journal</th>\n",
       "      <th>arxiv_id</th>\n",
       "      <th>full_text_file</th>\n",
       "      <th>url</th>\n",
       "    </tr>\n",
       "  </thead>\n",
       "  <tbody>\n",
       "    <tr>\n",
       "      <th>0</th>\n",
       "      <td>3cdc48bb9e40afd30a59463b7872761a726998c8</td>\n",
       "      <td>NDV (Roakin strain) was obtained from Dr. D. J...</td>\n",
       "      <td>NDV (Roakin strain) was obtained from Dr. D. J...</td>\n",
       "      <td>Adult house flies harbored Newcastle Disease v...</td>\n",
       "      <td>66ecksxm</td>\n",
       "      <td>PMC</td>\n",
       "      <td>Experimental Evaluation of Musca domestica (Di...</td>\n",
       "      <td>10.1093/jmedent/44.4.666</td>\n",
       "      <td>PMC7107465</td>\n",
       "      <td>17695023</td>\n",
       "      <td>cc-by-nc</td>\n",
       "      <td>House flies, Musca domestica L. (Diptera: Musc...</td>\n",
       "      <td>2007-07-01</td>\n",
       "      <td>Watson, D. Wes; Niño, Elina L.; Rochon, Katery...</td>\n",
       "      <td>J Med Entomol</td>\n",
       "      <td>NaN</td>\n",
       "      <td>noncomm_use_subset</td>\n",
       "      <td>https://www.ncbi.nlm.nih.gov/pmc/articles/PMC7...</td>\n",
       "    </tr>\n",
       "    <tr>\n",
       "      <th>1</th>\n",
       "      <td>d99acb4e99be7852aa61a688c9fbd38d44b5a252</td>\n",
       "      <td>Live attenuated viruses have been developed an...</td>\n",
       "      <td>RSV A2 strain was obtained from ATCC (Manassas...</td>\n",
       "      <td>The reverse genetics system for measles Edmons...</td>\n",
       "      <td>3qdjmb2j</td>\n",
       "      <td>PMC</td>\n",
       "      <td>Evaluation of Measles Vaccine Virus as a Vecto...</td>\n",
       "      <td>10.2174/1874357901206010012</td>\n",
       "      <td>PMC3286841</td>\n",
       "      <td>22383906</td>\n",
       "      <td>cc-by-nc</td>\n",
       "      <td>Live attenuated recombinant measles vaccine vi...</td>\n",
       "      <td>2012-02-16</td>\n",
       "      <td>Mok, Hoyin; Cheng, Xing; Xu, Qi; Zengel, James...</td>\n",
       "      <td>Open Virol J</td>\n",
       "      <td>NaN</td>\n",
       "      <td>noncomm_use_subset</td>\n",
       "      <td>https://www.ncbi.nlm.nih.gov/pmc/articles/PMC3...</td>\n",
       "    </tr>\n",
       "    <tr>\n",
       "      <th>2</th>\n",
       "      <td>748d4c57fe1acc8d9d97cf574f7dea5296f9386c</td>\n",
       "      <td>Ebola virus (EBOV) and other members of the fa...</td>\n",
       "      <td>U2OS human osteosarcoma cells were cultured in...</td>\n",
       "      <td>For evaluating EBOV GP triggering under biosaf...</td>\n",
       "      <td>tnaizwxo</td>\n",
       "      <td>PMC</td>\n",
       "      <td>Direct Visualization of Ebola Virus Fusion Tri...</td>\n",
       "      <td>10.1128/mbio.01857-15</td>\n",
       "      <td>PMC4752599</td>\n",
       "      <td>26861015</td>\n",
       "      <td>cc-by-nc-sa</td>\n",
       "      <td>Ebola virus (EBOV) makes extensive and intrica...</td>\n",
       "      <td>2016-02-09</td>\n",
       "      <td>Spence, Jennifer S.; Krause, Tyler B.; Mittler...</td>\n",
       "      <td>mBio</td>\n",
       "      <td>NaN</td>\n",
       "      <td>noncomm_use_subset</td>\n",
       "      <td>https://www.ncbi.nlm.nih.gov/pmc/articles/PMC4...</td>\n",
       "    </tr>\n",
       "    <tr>\n",
       "      <th>3</th>\n",
       "      <td>b891efc6e1419713b05ff7d89b26d260478c28df</td>\n",
       "      <td>To the Editor:\\nChina has the world's second l...</td>\n",
       "      <td></td>\n",
       "      <td></td>\n",
       "      <td>qxsj2zud</td>\n",
       "      <td>PMC</td>\n",
       "      <td>Tuberculosis prevention in healthcare workers ...</td>\n",
       "      <td>10.1183/23120541.00015-2015</td>\n",
       "      <td>PMC5005135</td>\n",
       "      <td>27730135</td>\n",
       "      <td>cc-by-nc</td>\n",
       "      <td>BSL3 and respiratory isolation wards protect h...</td>\n",
       "      <td>2015-08-21</td>\n",
       "      <td>Deng, Yunfeng; Li, Yan; Wang, Fengtian; Gao, D...</td>\n",
       "      <td>ERJ Open Res</td>\n",
       "      <td>NaN</td>\n",
       "      <td>noncomm_use_subset</td>\n",
       "      <td>https://www.ncbi.nlm.nih.gov/pmc/articles/PMC5...</td>\n",
       "    </tr>\n",
       "    <tr>\n",
       "      <th>4</th>\n",
       "      <td>353852971069ad5794445e5c1ab6077ce23da75d</td>\n",
       "      <td>Coronavirus disease 2019 (COVID-19) has spread...</td>\n",
       "      <td></td>\n",
       "      <td></td>\n",
       "      <td>NaN</td>\n",
       "      <td>NaN</td>\n",
       "      <td>NaN</td>\n",
       "      <td>NaN</td>\n",
       "      <td>NaN</td>\n",
       "      <td>NaN</td>\n",
       "      <td>NaN</td>\n",
       "      <td>NaN</td>\n",
       "      <td>NaN</td>\n",
       "      <td>NaN</td>\n",
       "      <td>NaN</td>\n",
       "      <td>NaN</td>\n",
       "      <td>NaN</td>\n",
       "      <td>NaN</td>\n",
       "    </tr>\n",
       "  </tbody>\n",
       "</table>\n",
       "</div>"
      ],
      "text/plain": [
       "                                   paper_id  \\\n",
       "0  3cdc48bb9e40afd30a59463b7872761a726998c8   \n",
       "1  d99acb4e99be7852aa61a688c9fbd38d44b5a252   \n",
       "2  748d4c57fe1acc8d9d97cf574f7dea5296f9386c   \n",
       "3  b891efc6e1419713b05ff7d89b26d260478c28df   \n",
       "4  353852971069ad5794445e5c1ab6077ce23da75d   \n",
       "\n",
       "                                           body_text  \\\n",
       "0  NDV (Roakin strain) was obtained from Dr. D. J...   \n",
       "1  Live attenuated viruses have been developed an...   \n",
       "2  Ebola virus (EBOV) and other members of the fa...   \n",
       "3  To the Editor:\\nChina has the world's second l...   \n",
       "4  Coronavirus disease 2019 (COVID-19) has spread...   \n",
       "\n",
       "                                             methods  \\\n",
       "0  NDV (Roakin strain) was obtained from Dr. D. J...   \n",
       "1  RSV A2 strain was obtained from ATCC (Manassas...   \n",
       "2  U2OS human osteosarcoma cells were cultured in...   \n",
       "3                                                      \n",
       "4                                                      \n",
       "\n",
       "                                             results  cord_uid source  \\\n",
       "0  Adult house flies harbored Newcastle Disease v...  66ecksxm    PMC   \n",
       "1  The reverse genetics system for measles Edmons...  3qdjmb2j    PMC   \n",
       "2  For evaluating EBOV GP triggering under biosaf...  tnaizwxo    PMC   \n",
       "3                                                     qxsj2zud    PMC   \n",
       "4                                                          NaN    NaN   \n",
       "\n",
       "                                               title  \\\n",
       "0  Experimental Evaluation of Musca domestica (Di...   \n",
       "1  Evaluation of Measles Vaccine Virus as a Vecto...   \n",
       "2  Direct Visualization of Ebola Virus Fusion Tri...   \n",
       "3  Tuberculosis prevention in healthcare workers ...   \n",
       "4                                                NaN   \n",
       "\n",
       "                           doi       pmcid pubmed_id      license  \\\n",
       "0     10.1093/jmedent/44.4.666  PMC7107465  17695023     cc-by-nc   \n",
       "1  10.2174/1874357901206010012  PMC3286841  22383906     cc-by-nc   \n",
       "2        10.1128/mbio.01857-15  PMC4752599  26861015  cc-by-nc-sa   \n",
       "3  10.1183/23120541.00015-2015  PMC5005135  27730135     cc-by-nc   \n",
       "4                          NaN         NaN       NaN          NaN   \n",
       "\n",
       "                                            abstract publish_time  \\\n",
       "0  House flies, Musca domestica L. (Diptera: Musc...   2007-07-01   \n",
       "1  Live attenuated recombinant measles vaccine vi...   2012-02-16   \n",
       "2  Ebola virus (EBOV) makes extensive and intrica...   2016-02-09   \n",
       "3  BSL3 and respiratory isolation wards protect h...   2015-08-21   \n",
       "4                                                NaN          NaN   \n",
       "\n",
       "                                             authors        journal arxiv_id  \\\n",
       "0  Watson, D. Wes; Niño, Elina L.; Rochon, Katery...  J Med Entomol      NaN   \n",
       "1  Mok, Hoyin; Cheng, Xing; Xu, Qi; Zengel, James...   Open Virol J      NaN   \n",
       "2  Spence, Jennifer S.; Krause, Tyler B.; Mittler...           mBio      NaN   \n",
       "3  Deng, Yunfeng; Li, Yan; Wang, Fengtian; Gao, D...   ERJ Open Res      NaN   \n",
       "4                                                NaN            NaN      NaN   \n",
       "\n",
       "       full_text_file                                                url  \n",
       "0  noncomm_use_subset  https://www.ncbi.nlm.nih.gov/pmc/articles/PMC7...  \n",
       "1  noncomm_use_subset  https://www.ncbi.nlm.nih.gov/pmc/articles/PMC3...  \n",
       "2  noncomm_use_subset  https://www.ncbi.nlm.nih.gov/pmc/articles/PMC4...  \n",
       "3  noncomm_use_subset  https://www.ncbi.nlm.nih.gov/pmc/articles/PMC5...  \n",
       "4                 NaN                                                NaN  "
      ]
     },
     "execution_count": 76,
     "metadata": {},
     "output_type": "execute_result"
    }
   ],
   "source": [
    "df.head()"
   ]
  },
  {
   "cell_type": "markdown",
   "metadata": {},
   "source": [
    "# Duplicates"
   ]
  },
  {
   "cell_type": "markdown",
   "metadata": {},
   "source": [
    "Some paper ids are duplicated"
   ]
  },
  {
   "cell_type": "code",
   "execution_count": 77,
   "metadata": {},
   "outputs": [
    {
     "data": {
      "text/plain": [
       "48424"
      ]
     },
     "execution_count": 77,
     "metadata": {},
     "output_type": "execute_result"
    }
   ],
   "source": [
    "len(df)"
   ]
  },
  {
   "cell_type": "code",
   "execution_count": 78,
   "metadata": {},
   "outputs": [
    {
     "data": {
      "text/plain": [
       "48409"
      ]
     },
     "execution_count": 78,
     "metadata": {},
     "output_type": "execute_result"
    }
   ],
   "source": [
    "df.paper_id.nunique()"
   ]
  },
  {
   "cell_type": "code",
   "execution_count": 79,
   "metadata": {},
   "outputs": [
    {
     "data": {
      "text/html": [
       "<div>\n",
       "<style scoped>\n",
       "    .dataframe tbody tr th:only-of-type {\n",
       "        vertical-align: middle;\n",
       "    }\n",
       "\n",
       "    .dataframe tbody tr th {\n",
       "        vertical-align: top;\n",
       "    }\n",
       "\n",
       "    .dataframe thead th {\n",
       "        text-align: right;\n",
       "    }\n",
       "</style>\n",
       "<table border=\"1\" class=\"dataframe\">\n",
       "  <thead>\n",
       "    <tr style=\"text-align: right;\">\n",
       "      <th></th>\n",
       "      <th>paper_id</th>\n",
       "      <th>body_text</th>\n",
       "    </tr>\n",
       "  </thead>\n",
       "  <tbody>\n",
       "    <tr>\n",
       "      <th>435</th>\n",
       "      <td>58be092086c74c58e9067121a6ba4836468e7ec3</td>\n",
       "      <td>administration reduces viral load. Also, the a...</td>\n",
       "    </tr>\n",
       "    <tr>\n",
       "      <th>436</th>\n",
       "      <td>58be092086c74c58e9067121a6ba4836468e7ec3</td>\n",
       "      <td>I am grateful that Dr. Lim and his colleagues ...</td>\n",
       "    </tr>\n",
       "    <tr>\n",
       "      <th>15230</th>\n",
       "      <td>77943f83d13697f86b9d1eb3cfa86581ed9965e6</td>\n",
       "      <td>Respect for patient privacy and confidentialit...</td>\n",
       "    </tr>\n",
       "    <tr>\n",
       "      <th>15231</th>\n",
       "      <td>77943f83d13697f86b9d1eb3cfa86581ed9965e6</td>\n",
       "      <td>Respect for patient privacy and confidentialit...</td>\n",
       "    </tr>\n",
       "    <tr>\n",
       "      <th>15333</th>\n",
       "      <td>bd3945ec343cc4535650c9425aa143f71716de7c</td>\n",
       "      <td>Until the late 1970s, papillomaviruses attract...</td>\n",
       "    </tr>\n",
       "    <tr>\n",
       "      <th>15334</th>\n",
       "      <td>bd3945ec343cc4535650c9425aa143f71716de7c</td>\n",
       "      <td>Until the late 1970s, papillomaviruses attract...</td>\n",
       "    </tr>\n",
       "    <tr>\n",
       "      <th>15644</th>\n",
       "      <td>4644c32551fb23aa873a7738ecc8d777bd49877e</td>\n",
       "      <td>S15-S61 A. Carhan *, N. Albayrak, A.B. Altas, ...</td>\n",
       "    </tr>\n",
       "    <tr>\n",
       "      <th>15645</th>\n",
       "      <td>4644c32551fb23aa873a7738ecc8d777bd49877e</td>\n",
       "      <td>S15-S61 A. Carhan *, N. Albayrak, A.B. Altas, ...</td>\n",
       "    </tr>\n",
       "    <tr>\n",
       "      <th>15646</th>\n",
       "      <td>4644c32551fb23aa873a7738ecc8d777bd49877e</td>\n",
       "      <td>S15-S61 A. Carhan *, N. Albayrak, A.B. Altas, ...</td>\n",
       "    </tr>\n",
       "    <tr>\n",
       "      <th>15647</th>\n",
       "      <td>4644c32551fb23aa873a7738ecc8d777bd49877e</td>\n",
       "      <td>S15-S61 A. Carhan *, N. Albayrak, A.B. Altas, ...</td>\n",
       "    </tr>\n",
       "    <tr>\n",
       "      <th>18231</th>\n",
       "      <td>9ce0a6cfd53840cd985f7a1439708c7a48bb7f23</td>\n",
       "      <td>THE LANCET, OCTOBER 25,1975 A PAMPHLET TO ANSW...</td>\n",
       "    </tr>\n",
       "    <tr>\n",
       "      <th>18232</th>\n",
       "      <td>9ce0a6cfd53840cd985f7a1439708c7a48bb7f23</td>\n",
       "      <td>THE LANCET, OCTOBER 25,1975 A PAMPHLET TO ANSW...</td>\n",
       "    </tr>\n",
       "    <tr>\n",
       "      <th>18233</th>\n",
       "      <td>9ce0a6cfd53840cd985f7a1439708c7a48bb7f23</td>\n",
       "      <td>THE LANCET, OCTOBER 25,1975 A PAMPHLET TO ANSW...</td>\n",
       "    </tr>\n",
       "    <tr>\n",
       "      <th>20211</th>\n",
       "      <td>0ed3c6a5559cd73307184f51fc53ccc76da559bc</td>\n",
       "      <td>In this Journal, Zhu et al. recently reported ...</td>\n",
       "    </tr>\n",
       "    <tr>\n",
       "      <th>20212</th>\n",
       "      <td>0ed3c6a5559cd73307184f51fc53ccc76da559bc</td>\n",
       "      <td>In this Journal, Zhu et al. recently reported ...</td>\n",
       "    </tr>\n",
       "    <tr>\n",
       "      <th>20213</th>\n",
       "      <td>0ed3c6a5559cd73307184f51fc53ccc76da559bc</td>\n",
       "      <td>In this Journal, Zhu et al. recently reported ...</td>\n",
       "    </tr>\n",
       "    <tr>\n",
       "      <th>24025</th>\n",
       "      <td>e666b6507719561e391f4246a140695b213c8e5b</td>\n",
       "      <td>The importance of viruses in causing nosocomia...</td>\n",
       "    </tr>\n",
       "    <tr>\n",
       "      <th>24026</th>\n",
       "      <td>e666b6507719561e391f4246a140695b213c8e5b</td>\n",
       "      <td>The importance of viruses in causing nosocomia...</td>\n",
       "    </tr>\n",
       "    <tr>\n",
       "      <th>24838</th>\n",
       "      <td>ba4afe00e152de82121a4445aed52c46833d927e</td>\n",
       "      <td>hypotensive or diuretic therapy. After one wee...</td>\n",
       "    </tr>\n",
       "    <tr>\n",
       "      <th>24839</th>\n",
       "      <td>ba4afe00e152de82121a4445aed52c46833d927e</td>\n",
       "      <td>hypotensive or diuretic therapy. After one wee...</td>\n",
       "    </tr>\n",
       "    <tr>\n",
       "      <th>28642</th>\n",
       "      <td>45e40b2d7d973ed5c9798da613fb3cfa4427e2e2</td>\n",
       "      <td>A digestible vaccine sandwich VACCINE BIOTECHN...</td>\n",
       "    </tr>\n",
       "    <tr>\n",
       "      <th>28643</th>\n",
       "      <td>45e40b2d7d973ed5c9798da613fb3cfa4427e2e2</td>\n",
       "      <td>A digestible vaccine sandwich VACCINE BIOTECHN...</td>\n",
       "    </tr>\n",
       "    <tr>\n",
       "      <th>32549</th>\n",
       "      <td>f3aafdecdc43a3f57e58cf6dcea038b1834a953e</td>\n",
       "      <td>To the Editor:\\nWe appreciate the editorial by...</td>\n",
       "    </tr>\n",
       "    <tr>\n",
       "      <th>32550</th>\n",
       "      <td>f3aafdecdc43a3f57e58cf6dcea038b1834a953e</td>\n",
       "      <td>To the Editor:\\nWe appreciate the editorial by...</td>\n",
       "    </tr>\n",
       "    <tr>\n",
       "      <th>33669</th>\n",
       "      <td>70e2b820b3d2056eb90ac0e11ac230267fd0d7e8</td>\n",
       "      <td>Unlike certain types of nosocomial bacterial a...</td>\n",
       "    </tr>\n",
       "    <tr>\n",
       "      <th>33670</th>\n",
       "      <td>70e2b820b3d2056eb90ac0e11ac230267fd0d7e8</td>\n",
       "      <td>remains unknown because many hospitals, even i...</td>\n",
       "    </tr>\n",
       "  </tbody>\n",
       "</table>\n",
       "</div>"
      ],
      "text/plain": [
       "                                       paper_id  \\\n",
       "435    58be092086c74c58e9067121a6ba4836468e7ec3   \n",
       "436    58be092086c74c58e9067121a6ba4836468e7ec3   \n",
       "15230  77943f83d13697f86b9d1eb3cfa86581ed9965e6   \n",
       "15231  77943f83d13697f86b9d1eb3cfa86581ed9965e6   \n",
       "15333  bd3945ec343cc4535650c9425aa143f71716de7c   \n",
       "15334  bd3945ec343cc4535650c9425aa143f71716de7c   \n",
       "15644  4644c32551fb23aa873a7738ecc8d777bd49877e   \n",
       "15645  4644c32551fb23aa873a7738ecc8d777bd49877e   \n",
       "15646  4644c32551fb23aa873a7738ecc8d777bd49877e   \n",
       "15647  4644c32551fb23aa873a7738ecc8d777bd49877e   \n",
       "18231  9ce0a6cfd53840cd985f7a1439708c7a48bb7f23   \n",
       "18232  9ce0a6cfd53840cd985f7a1439708c7a48bb7f23   \n",
       "18233  9ce0a6cfd53840cd985f7a1439708c7a48bb7f23   \n",
       "20211  0ed3c6a5559cd73307184f51fc53ccc76da559bc   \n",
       "20212  0ed3c6a5559cd73307184f51fc53ccc76da559bc   \n",
       "20213  0ed3c6a5559cd73307184f51fc53ccc76da559bc   \n",
       "24025  e666b6507719561e391f4246a140695b213c8e5b   \n",
       "24026  e666b6507719561e391f4246a140695b213c8e5b   \n",
       "24838  ba4afe00e152de82121a4445aed52c46833d927e   \n",
       "24839  ba4afe00e152de82121a4445aed52c46833d927e   \n",
       "28642  45e40b2d7d973ed5c9798da613fb3cfa4427e2e2   \n",
       "28643  45e40b2d7d973ed5c9798da613fb3cfa4427e2e2   \n",
       "32549  f3aafdecdc43a3f57e58cf6dcea038b1834a953e   \n",
       "32550  f3aafdecdc43a3f57e58cf6dcea038b1834a953e   \n",
       "33669  70e2b820b3d2056eb90ac0e11ac230267fd0d7e8   \n",
       "33670  70e2b820b3d2056eb90ac0e11ac230267fd0d7e8   \n",
       "\n",
       "                                               body_text  \n",
       "435    administration reduces viral load. Also, the a...  \n",
       "436    I am grateful that Dr. Lim and his colleagues ...  \n",
       "15230  Respect for patient privacy and confidentialit...  \n",
       "15231  Respect for patient privacy and confidentialit...  \n",
       "15333  Until the late 1970s, papillomaviruses attract...  \n",
       "15334  Until the late 1970s, papillomaviruses attract...  \n",
       "15644  S15-S61 A. Carhan *, N. Albayrak, A.B. Altas, ...  \n",
       "15645  S15-S61 A. Carhan *, N. Albayrak, A.B. Altas, ...  \n",
       "15646  S15-S61 A. Carhan *, N. Albayrak, A.B. Altas, ...  \n",
       "15647  S15-S61 A. Carhan *, N. Albayrak, A.B. Altas, ...  \n",
       "18231  THE LANCET, OCTOBER 25,1975 A PAMPHLET TO ANSW...  \n",
       "18232  THE LANCET, OCTOBER 25,1975 A PAMPHLET TO ANSW...  \n",
       "18233  THE LANCET, OCTOBER 25,1975 A PAMPHLET TO ANSW...  \n",
       "20211  In this Journal, Zhu et al. recently reported ...  \n",
       "20212  In this Journal, Zhu et al. recently reported ...  \n",
       "20213  In this Journal, Zhu et al. recently reported ...  \n",
       "24025  The importance of viruses in causing nosocomia...  \n",
       "24026  The importance of viruses in causing nosocomia...  \n",
       "24838  hypotensive or diuretic therapy. After one wee...  \n",
       "24839  hypotensive or diuretic therapy. After one wee...  \n",
       "28642  A digestible vaccine sandwich VACCINE BIOTECHN...  \n",
       "28643  A digestible vaccine sandwich VACCINE BIOTECHN...  \n",
       "32549  To the Editor:\\nWe appreciate the editorial by...  \n",
       "32550  To the Editor:\\nWe appreciate the editorial by...  \n",
       "33669  Unlike certain types of nosocomial bacterial a...  \n",
       "33670  remains unknown because many hospitals, even i...  "
      ]
     },
     "execution_count": 79,
     "metadata": {},
     "output_type": "execute_result"
    }
   ],
   "source": [
    "df[df.duplicated(subset=['paper_id'], keep=False)][['paper_id', 'body_text']]"
   ]
  },
  {
   "cell_type": "markdown",
   "metadata": {},
   "source": [
    "But luckily they also have the same text body. So we will just keep one article per paper_id.\n",
    "Check for example [https://www.sciencedirect.com/science/article/pii/S1386653209701295?via%3Dihub](https://www.sciencedirect.com/science/article/pii/S1386653209701295?via%3Dihub) and [https://www.sciencedirect.com/science/article/pii/S1386653209701325?via%3Dihub](https://www.sciencedirect.com/science/article/pii/S1386653209701325?via%3Dihub) - they have the same content."
   ]
  },
  {
   "cell_type": "code",
   "execution_count": 80,
   "metadata": {},
   "outputs": [
    {
     "data": {
      "text/plain": [
       "(16, 18)"
      ]
     },
     "execution_count": 80,
     "metadata": {},
     "output_type": "execute_result"
    }
   ],
   "source": [
    "df[df.duplicated(subset=['paper_id', 'body_text'], keep=False)].shape"
   ]
  },
  {
   "cell_type": "code",
   "execution_count": 81,
   "metadata": {},
   "outputs": [],
   "source": [
    "df.drop_duplicates(['paper_id', 'body_text'], inplace=True)"
   ]
  },
  {
   "cell_type": "code",
   "execution_count": 82,
   "metadata": {},
   "outputs": [
    {
     "data": {
      "text/plain": [
       "48414"
      ]
     },
     "execution_count": 82,
     "metadata": {},
     "output_type": "execute_result"
    }
   ],
   "source": [
    "len(df)"
   ]
  },
  {
   "cell_type": "code",
   "execution_count": 83,
   "metadata": {},
   "outputs": [
    {
     "data": {
      "text/html": [
       "<div>\n",
       "<style scoped>\n",
       "    .dataframe tbody tr th:only-of-type {\n",
       "        vertical-align: middle;\n",
       "    }\n",
       "\n",
       "    .dataframe tbody tr th {\n",
       "        vertical-align: top;\n",
       "    }\n",
       "\n",
       "    .dataframe thead th {\n",
       "        text-align: right;\n",
       "    }\n",
       "</style>\n",
       "<table border=\"1\" class=\"dataframe\">\n",
       "  <thead>\n",
       "    <tr style=\"text-align: right;\">\n",
       "      <th></th>\n",
       "      <th>paper_id</th>\n",
       "      <th>body_text</th>\n",
       "      <th>methods</th>\n",
       "      <th>results</th>\n",
       "      <th>cord_uid</th>\n",
       "      <th>source</th>\n",
       "      <th>title</th>\n",
       "      <th>doi</th>\n",
       "      <th>pmcid</th>\n",
       "      <th>pubmed_id</th>\n",
       "      <th>license</th>\n",
       "      <th>abstract</th>\n",
       "      <th>publish_time</th>\n",
       "      <th>authors</th>\n",
       "      <th>journal</th>\n",
       "      <th>arxiv_id</th>\n",
       "      <th>full_text_file</th>\n",
       "      <th>url</th>\n",
       "    </tr>\n",
       "  </thead>\n",
       "  <tbody>\n",
       "    <tr>\n",
       "      <th>435</th>\n",
       "      <td>58be092086c74c58e9067121a6ba4836468e7ec3</td>\n",
       "      <td>administration reduces viral load. Also, the a...</td>\n",
       "      <td></td>\n",
       "      <td></td>\n",
       "      <td>fjmchbew</td>\n",
       "      <td>CZI</td>\n",
       "      <td>The Author's Response: Case of the Index Patie...</td>\n",
       "      <td>10.3346/jkms.2020.35.e89</td>\n",
       "      <td>NaN</td>\n",
       "      <td>32080993</td>\n",
       "      <td>cc-by-nc</td>\n",
       "      <td>NaN</td>\n",
       "      <td>2020</td>\n",
       "      <td>Lim, Jaegyun; Jeon, Seunghyun; Shin, Hyun Youn...</td>\n",
       "      <td>J Korean Med Sci</td>\n",
       "      <td>NaN</td>\n",
       "      <td>noncomm_use_subset</td>\n",
       "      <td>https://doi.org/10.3346/jkms.2020.35.e89</td>\n",
       "    </tr>\n",
       "    <tr>\n",
       "      <th>436</th>\n",
       "      <td>58be092086c74c58e9067121a6ba4836468e7ec3</td>\n",
       "      <td>I am grateful that Dr. Lim and his colleagues ...</td>\n",
       "      <td></td>\n",
       "      <td></td>\n",
       "      <td>u4taazr3</td>\n",
       "      <td>PMC</td>\n",
       "      <td>Letter to the Editor: Case of the Index Patien...</td>\n",
       "      <td>10.3346/jkms.2020.35.e88</td>\n",
       "      <td>PMC7036343</td>\n",
       "      <td>32080992</td>\n",
       "      <td>cc-by-nc</td>\n",
       "      <td>NaN</td>\n",
       "      <td>2020-02-20</td>\n",
       "      <td>Kim, Jin Yong</td>\n",
       "      <td>J Korean Med Sci</td>\n",
       "      <td>NaN</td>\n",
       "      <td>noncomm_use_subset</td>\n",
       "      <td>https://www.ncbi.nlm.nih.gov/pmc/articles/PMC7...</td>\n",
       "    </tr>\n",
       "  </tbody>\n",
       "</table>\n",
       "</div>"
      ],
      "text/plain": [
       "                                     paper_id  \\\n",
       "435  58be092086c74c58e9067121a6ba4836468e7ec3   \n",
       "436  58be092086c74c58e9067121a6ba4836468e7ec3   \n",
       "\n",
       "                                             body_text methods results  \\\n",
       "435  administration reduces viral load. Also, the a...                   \n",
       "436  I am grateful that Dr. Lim and his colleagues ...                   \n",
       "\n",
       "     cord_uid source                                              title  \\\n",
       "435  fjmchbew    CZI  The Author's Response: Case of the Index Patie...   \n",
       "436  u4taazr3    PMC  Letter to the Editor: Case of the Index Patien...   \n",
       "\n",
       "                          doi       pmcid pubmed_id   license abstract  \\\n",
       "435  10.3346/jkms.2020.35.e89         NaN  32080993  cc-by-nc      NaN   \n",
       "436  10.3346/jkms.2020.35.e88  PMC7036343  32080992  cc-by-nc      NaN   \n",
       "\n",
       "    publish_time                                            authors  \\\n",
       "435         2020  Lim, Jaegyun; Jeon, Seunghyun; Shin, Hyun Youn...   \n",
       "436   2020-02-20                                      Kim, Jin Yong   \n",
       "\n",
       "              journal arxiv_id      full_text_file  \\\n",
       "435  J Korean Med Sci      NaN  noncomm_use_subset   \n",
       "436  J Korean Med Sci      NaN  noncomm_use_subset   \n",
       "\n",
       "                                                   url  \n",
       "435           https://doi.org/10.3346/jkms.2020.35.e89  \n",
       "436  https://www.ncbi.nlm.nih.gov/pmc/articles/PMC7...  "
      ]
     },
     "execution_count": 83,
     "metadata": {},
     "output_type": "execute_result"
    }
   ],
   "source": [
    "df[df.duplicated(['paper_id'], keep=False)].head(2)"
   ]
  },
  {
   "cell_type": "code",
   "execution_count": 84,
   "metadata": {},
   "outputs": [],
   "source": [
    "df.drop_duplicates(['paper_id'], inplace=True)"
   ]
  },
  {
   "cell_type": "code",
   "execution_count": 85,
   "metadata": {},
   "outputs": [
    {
     "data": {
      "text/plain": [
       "48409"
      ]
     },
     "execution_count": 85,
     "metadata": {},
     "output_type": "execute_result"
    }
   ],
   "source": [
    "df.paper_id.nunique()"
   ]
  },
  {
   "cell_type": "code",
   "execution_count": 86,
   "metadata": {},
   "outputs": [
    {
     "data": {
      "text/plain": [
       "(48409, 18)"
      ]
     },
     "execution_count": 86,
     "metadata": {},
     "output_type": "execute_result"
    }
   ],
   "source": [
    "df.shape"
   ]
  },
  {
   "cell_type": "markdown",
   "metadata": {},
   "source": [
    "Now the paper_id is unique."
   ]
  },
  {
   "cell_type": "code",
   "execution_count": 87,
   "metadata": {},
   "outputs": [
    {
     "data": {
      "text/plain": [
       "paper_id              0\n",
       "body_text             0\n",
       "methods               0\n",
       "results               0\n",
       "cord_uid           5079\n",
       "source             5079\n",
       "title              5117\n",
       "doi                6143\n",
       "pmcid             13345\n",
       "pubmed_id         18358\n",
       "license            5079\n",
       "abstract           6503\n",
       "publish_time       5079\n",
       "authors            5775\n",
       "journal            8798\n",
       "arxiv_id          47780\n",
       "full_text_file     5079\n",
       "url                5199\n",
       "dtype: int64"
      ]
     },
     "execution_count": 87,
     "metadata": {},
     "output_type": "execute_result"
    }
   ],
   "source": [
    "df.isnull().sum()"
   ]
  },
  {
   "cell_type": "markdown",
   "metadata": {},
   "source": [
    "# Some new columns for convenience"
   ]
  },
  {
   "cell_type": "code",
   "execution_count": 88,
   "metadata": {},
   "outputs": [],
   "source": [
    "# some new columns for convenience\n",
    "df['publish_year'] = df.publish_time.str[:4].fillna(-1).astype(int) # 360 times None\n",
    "# df['link'] = 'http://dx.doi.org/' + df.doi #dataset now has url column"
   ]
  },
  {
   "cell_type": "code",
   "execution_count": 89,
   "metadata": {},
   "outputs": [],
   "source": [
    "df['is_covid19'] = df.body_text.str.contains('COVID-19|covid|sar cov 2|SARS-CoV-2|2019-nCov|2019 ncov|SARS Coronavirus 2|2019 Novel Coronavirus|coronavirus 2019| Wuhan coronavirus|wuhan pneumonia|wuhan virus', case=False)"
   ]
  },
  {
   "cell_type": "code",
   "execution_count": 90,
   "metadata": {},
   "outputs": [
    {
     "data": {
      "text/plain": [
       "6695"
      ]
     },
     "execution_count": 90,
     "metadata": {},
     "output_type": "execute_result"
    }
   ],
   "source": [
    "df.is_covid19.sum()"
   ]
  },
  {
   "cell_type": "markdown",
   "metadata": {},
   "source": [
    "# Language Detection to remove non-english articles and abstracts"
   ]
  },
  {
   "cell_type": "code",
   "execution_count": 91,
   "metadata": {},
   "outputs": [],
   "source": [
    "from IPython.utils import io\n",
    "\n",
    "with io.capture_output() as captured:\n",
    "    !pip install scispacy\n",
    "    !pip install https://s3-us-west-2.amazonaws.com/ai2-s2-scispacy/releases/v0.2.4/en_core_sci_lg-0.2.4.tar.gz\n",
    "    !pip install spacy-langdetect\n",
    "    !pip install spac scispacy spacy_langdetect https://s3-us-west-2.amazonaws.com/ai2-s2-scispacy/releases/v0.2.3/en_core_sci_lg-0.2.3.tar.gz"
   ]
  },
  {
   "cell_type": "code",
   "execution_count": 92,
   "metadata": {},
   "outputs": [],
   "source": [
    "import scispacy\n",
    "import spacy\n",
    "import en_core_sci_lg\n",
    "from spacy_langdetect import LanguageDetector"
   ]
  },
  {
   "cell_type": "code",
   "execution_count": 93,
   "metadata": {},
   "outputs": [],
   "source": [
    "# medium model\n",
    "nlp = en_core_sci_lg.load(disable=[\"tagger\", \"ner\"])\n",
    "nlp.max_length = 2000000\n",
    "nlp.add_pipe(LanguageDetector(), name='language_detector', last=True)"
   ]
  },
  {
   "cell_type": "code",
   "execution_count": 94,
   "metadata": {},
   "outputs": [
    {
     "data": {
      "text/plain": [
       "{'language': 'en', 'score': 0.9999965388666541}"
      ]
     },
     "execution_count": 94,
     "metadata": {},
     "output_type": "execute_result"
    }
   ],
   "source": [
    "doc = nlp('This is some English text. Das ist ein Haus. This is a house.')\n",
    "doc._.language"
   ]
  },
  {
   "cell_type": "code",
   "execution_count": 95,
   "metadata": {},
   "outputs": [
    {
     "name": "stdout",
     "output_type": "stream",
     "text": [
      "{'language': 'en', 'score': 0.9999972741074902}\n",
      "{'language': 'de', 'score': 0.9999974580281228}\n",
      "{'language': 'en', 'score': 0.9999968742655584}\n"
     ]
    }
   ],
   "source": [
    "for s in doc.sents:\n",
    "    print(s._.language)"
   ]
  },
  {
   "cell_type": "code",
   "execution_count": 96,
   "metadata": {},
   "outputs": [],
   "source": [
    "doc = nlp(df[df.paper_id == '1a8a4dbbaa94ced4ef6af69ec7a09d3fa4c0eece'].body_text.iloc[0])"
   ]
  },
  {
   "cell_type": "code",
   "execution_count": 97,
   "metadata": {},
   "outputs": [
    {
     "data": {
      "text/plain": [
       "Flu Influenza Influenza virus Infection of the respiratory tract Acute infection a b s t r a c t Virus: Influenza virus is the only human-pathogenic member of orthomyxovirus, which during evolution acquired the capability to infect the cells of various mammals and birds. Besides man common hosts are domestic animals as horse, swine, cat and poultry, among the birds especially goose and duck, and nearly all mammals living in water. The influenza virus A and B genome is segmented, when two different viruses infect one cell whole genome-segments can be exchanged (reassortment). This capability leads to a high variability of the envelope surface proteins H (haemagglutinin) and N (neuraminidase), as well as the polymerase inside the virus particle. An influenza virus equipped with epitopes on its surface that are unknown by the human and animal immune system has the potential to initiate a new epidemic. Transmission: for influenza virus main route is aerogene, especially by small droplets while coughing and sneezing and by smear infection, mostly by direct contact. Incubation time: is usually 24 to 48 hours. Early clinical symptoms are fever, all signs of inflammation in the upper respiratory tract with sore throat, nasal secretion, conjunctivitis that are associated with myalgia, chills and malaise. Prevention: important is the distance from the infected, to avoid aerosol formation, and within care units disinfection of hands and utensils as from stethoscope to door handle. Essential for prevention of disease is the annual vaccination against the seasonal strains influenza virus A-H1N1, A-H3N2 and influenza virus B. Treatment: unspecific by anti-inflammatory drugs and reduction of symptoms by therapy of bacterial superinfection with antibiotics. Specific: by application of neuraminidase inhibitors as oseltamivir (Tamiflu®) and zanamavir (Relenza®) within 48 hours after onset of the symptoms. © 2010 Published by Elsevier GmbH. Schwangere sind teils über die plazentare Immunsuppression, teils über den aktivierten Zellstoffwechsel erhöht gefährdet [5] Kinder werden häufig vermehrt befallen, nachdem sie sich in den wenigen Lebensjahren nur mit einer geringen Zahl von Influ- \n",
       "Akutes Krankheitsbild, eine chronische Infektion kommt nicht vor, auch wenn bei Alten die Regenerationsphase einige Monate dauern kann\n",
       "Klinische Zeichen (siehe oben) Sie sind das erste Leitsymptom, besonders wenn eine Epidemie abläuft. Bei typischen klinischen Zeichen der Grippe und epidemischer Ausbreitung des Influenzavirus kann sich eine weitere Labordiagnostik erübrigen.\n",
       "Influenzavirus Direktnachweis: Rachenabstrich in den ersten 2-3 Krankheitstagen mit feuchtem, speziellen Watteträger und Kulturmedium entnehmen und gekühlt bei 4 • C an Labor senden.\n",
       "Anzucht erfolgt normalerweise über MDCK-Zellen, in diesen der Nachweis über lytischen Effekt und Färbung mit markierten, monoklonalen Antikörpern Antigen-Schnelltest: verschiedene Firmen bieten Tests an, die im Prinzip"
      ]
     },
     "execution_count": 97,
     "metadata": {},
     "output_type": "execute_result"
    }
   ],
   "source": [
    "doc[:500]"
   ]
  },
  {
   "cell_type": "code",
   "execution_count": 98,
   "metadata": {},
   "outputs": [],
   "source": [
    "doc_engl = ''\n",
    "for s in doc.sents:\n",
    "    if (s._.language['language'] == 'en'):\n",
    "        doc_engl += s.text "
   ]
  },
  {
   "cell_type": "code",
   "execution_count": 99,
   "metadata": {},
   "outputs": [
    {
     "data": {
      "text/plain": [
       "'Flu Influenza Influenza virus Infection of the respiratory tract Acute infection a b s t r a c t Virus: Influenza virus is the only human-pathogenic member of orthomyxovirus, which during evolution acquired the capability to infect the cells of various mammals and birds.Besides man common hosts are domestic animals as horse, swine, cat and poultry, among the birds especially goose and duck, and nearly all mammals living in water.The influenza virus A and B genome is segmented, when two different viruses infect one cell whole genome-segments can be exchanged (reassortment).This capability leads to a high variability of the envelope surface proteins H (haemagglutinin) and N (neuraminidase), as well as the polymerase inside the virus particle.An influenza virus equipped with epitopes on its surface that are unknown by the human and animal immune system has the potential to initiate a new epidemic.Transmission: for influenza virus main route is aerogene, especially by small droplets while coughing and sneezing and by smear infection, mostly by direct contact.Incubation time: is usually 24 to 48 hours.Early clinical symptoms are fever, all signs of inflammation in the upper respiratory tract with sore throat, nasal secretion, conjunctivitis that are associated with myalgia, chills and malaise.Prevention: important is the distance from the infected, to avoid aerosol formation, and within care units disinfection of hands and utensils as from stethoscope to door handle.Essential for prevention of disease is the annual vaccination against the seasonal strains influenza virus A-H1N1, A-H3N2 and influenza virus B. Treatment: unspecific by anti-inflammatory drugs and reduction of symptoms by therapy of bacterial superinfection with antibiotics.Specific: by application of neuraminidase inhibitors as oseltamivir (Tamiflu®) and zanamavir (Relenza®) within 48 hours after onset of the symptoms.NAT (Nukleinsäure Amplifikations Test -nucleic acid testing): als PCR oder real time PCR ('"
      ]
     },
     "execution_count": 99,
     "metadata": {},
     "output_type": "execute_result"
    }
   ],
   "source": [
    "doc_engl[:2000]"
   ]
  },
  {
   "cell_type": "markdown",
   "metadata": {},
   "source": [
    "Check language of each text body (only use the first 2000 characters)."
   ]
  },
  {
   "cell_type": "code",
   "execution_count": 100,
   "metadata": {},
   "outputs": [
    {
     "data": {
      "text/plain": [
       "en         47110\n",
       "fr           432\n",
       "es           404\n",
       "nl           188\n",
       "de           167\n",
       "it            24\n",
       "pt            16\n",
       "UNKNOWN       13\n",
       "cy            12\n",
       "ca             8\n",
       "zh-cn          5\n",
       "ko             3\n",
       "ru             3\n",
       "et             3\n",
       "da             3\n",
       "id             3\n",
       "so             3\n",
       "no             2\n",
       "lt             2\n",
       "tl             2\n",
       "ro             2\n",
       "pl             2\n",
       "af             1\n",
       "sq             1\n",
       "Name: text_language, dtype: int64"
      ]
     },
     "execution_count": 100,
     "metadata": {},
     "output_type": "execute_result"
    }
   ],
   "source": [
    "df['text_language'] = df.body_text.apply(lambda x: nlp(str(x[:2000]))._.language['language'])\n",
    "\n",
    "df.text_language.value_counts()"
   ]
  },
  {
   "cell_type": "markdown",
   "metadata": {},
   "source": [
    "## Number of non-english texts to drop."
   ]
  },
  {
   "cell_type": "code",
   "execution_count": 101,
   "metadata": {},
   "outputs": [
    {
     "data": {
      "text/plain": [
       "(1299, 21)"
      ]
     },
     "execution_count": 101,
     "metadata": {},
     "output_type": "execute_result"
    }
   ],
   "source": [
    "df.loc[df[df.text_language != 'en'].index].shape"
   ]
  },
  {
   "cell_type": "code",
   "execution_count": 102,
   "metadata": {},
   "outputs": [],
   "source": [
    "df = df.drop(df[df.text_language != 'en'].index)"
   ]
  },
  {
   "cell_type": "code",
   "execution_count": 103,
   "metadata": {
    "_kg_hide-input": true
   },
   "outputs": [],
   "source": [
    "# Check language of all abstracts\n",
    "\n",
    "# df['abstract_lang'] = df.abstract.apply(lambda x: nlp(str(x))._.language['language'])\n",
    "\n",
    "#  df[df.abstract.isnull()]"
   ]
  },
  {
   "cell_type": "code",
   "execution_count": 104,
   "metadata": {
    "_kg_hide-input": true
   },
   "outputs": [],
   "source": [
    "# Number of non-english abstracts\n",
    "\n",
    "# df[(df.abstract_lang != 'en') & (df.abstract.notnull())].abstract_lang.value_counts()\n",
    "\n",
    "# Keep all english abstracts and those without abstract\n",
    "\n",
    "# df = df[(df.abstract_lang == 'en') | (df.abstract.isnull())]\n",
    "\n",
    "# df.shape\n",
    "\n",
    "# df.paper_id.nunique()\n",
    "\n",
    "# Analyze title/text body of the papers without abstract\n",
    "\n",
    "# temp = df[df.abstract.isnull()].copy()\n",
    "\n",
    "# def remove_non_english_sentences(doc):\n",
    "#     doc = nlp(doc)\n",
    "#     doc_engl = ''\n",
    "#     for s in doc.sents:\n",
    "#         if (s._.language['language'] == 'en'):\n",
    "#             doc_engl += s.text \n",
    "#     return doc_engl\n",
    "\n",
    "# remove_non_english_sentences(df[df.paper_id == '1a8a4dbbaa94ced4ef6af69ec7a09d3fa4c0eece'].body_text.iloc[0])\n",
    "\n",
    "# temp['text_length'] = temp.body_text.apply(lambda x: len(x))\n",
    "\n",
    "# temp['english_text'] = temp.body_text.apply(remove_non_english_sentences)\n",
    "\n",
    "# temp['english_length'] = temp.english_text.apply(lambda x: len(x))\n",
    "\n",
    "# temp.to_csv('df_english.csv', index=False)\n",
    "\n",
    "# (temp.english_length/temp.text_length).hist()\n",
    "\n",
    "# ((temp.english_length/temp.text_length)<0.8).sum()\n",
    "\n",
    "# temp[((temp.english_length/temp.text_length)<0.8)].head()\n",
    "\n",
    "# temp[temp.paper_id == '7925057cfe0cb75ae6079879cb2d22d23e42dfa5'].body_text.values[0][:500]\n",
    "\n",
    "# temp[temp.paper_id == '617197cc751a9208cb0af1b4e31baeddc8d2e985'].body_text.values[0]\n",
    "\n",
    "# temp[temp.paper_id == 'ca51b53fa512085e1aa166d5308602ff1666a90c'].body_text.values[0][:500]\n",
    "\n",
    "# df = df.drop(temp[((temp.english_length/temp.text_length)<0.8)].index)"
   ]
  },
  {
   "cell_type": "code",
   "execution_count": 105,
   "metadata": {
    "_kg_hide-input": true
   },
   "outputs": [],
   "source": [
    "# temp['title_lang'] = df.title.apply(lambda x: nlp(str(x))._.language['language'])\n",
    "\n",
    "# temp.title_lang.value_counts()\n",
    "\n",
    "# Too many false-positves. \n",
    "\n",
    "# temp[temp.paper_id == '6f6b7b1efffae7f3765f29fe801ab63dd35110bb'].body_text.values[0]\n",
    "\n",
    "# temp[temp.title_lang == 'de']\n",
    "\n",
    "# We check the beginning of each text body instead.\n",
    "\n",
    "# temp['text_lang'] = df.body_text.apply(lambda x: nlp(str(x[:2000]))._.language['language'])\n",
    "\n",
    "# temp.text_lang.value_counts()\n",
    "\n",
    "# Number of non-english texts to drop.\n",
    "\n",
    "# df.loc[temp[temp.text_lang != 'en'].index].shape\n",
    "\n",
    "# df = df.drop(temp[temp.text_lang != 'en'].index)"
   ]
  },
  {
   "cell_type": "markdown",
   "metadata": {},
   "source": [
    "# Extract Study Design/ Methodological Keywords"
   ]
  },
  {
   "cell_type": "code",
   "execution_count": 106,
   "metadata": {
    "_kg_hide-input": true
   },
   "outputs": [],
   "source": [
    "# filter_dict = {\n",
    "#     \"discussion\": [\"conclusions\",\"conclusion\",'| discussion', \"discussion\",  'concluding remarks',\n",
    "#                    'discussion and conclusions','conclusion:', 'discussion and conclusion',\n",
    "#                    'conclusions:', 'outcomes', 'conclusions and perspectives', \n",
    "#                    'conclusions and future perspectives', 'conclusions and future directions'],\n",
    "#     \"results\": ['executive summary', 'result', 'summary','results','results and discussion','results:',\n",
    "#                 'comment',\"findings\"],\n",
    "#     \"introduction\": ['introduction', 'background', 'i. introduction','supporting information','| introduction'],\n",
    "#     \"methods\": ['methods','method','statistical methods','materials','materials and methods',\n",
    "#                 'data collection','the study','study design','experimental design','objective',\n",
    "#                 'objectives','procedures','data collection and analysis', 'methodology',\n",
    "#                 'material and methods','the model','experimental procedures','main text',],\n",
    "#     \"statistics\": ['data analysis','statistical analysis', 'analysis','statistical analyses', \n",
    "#                    'statistics','data','measures'],\n",
    "#     \"clinical\": ['diagnosis', 'diagnostic features', \"differential diagnoses\", 'classical signs','prognosis', 'clinical signs', 'pathogenesis',\n",
    "#                  'etiology','differential diagnosis','clinical features', 'case report', 'clinical findings',\n",
    "#                  'clinical presentation'],\n",
    "#     'treatment': ['treatment', 'interventions'],\n",
    "#     \"prevention\": ['epidemiology','risk factors'],\n",
    "#     \"subjects\": ['demographics','samples','subjects', 'study population','control','patients', \n",
    "#                'participants','patient characteristics'],\n",
    "#     \"animals\": ['animals','animal models'],\n",
    "#     \"abstract\": [\"abstract\", 'a b s t r a c t','author summary'], \n",
    "#     \"review\": ['review','literature review','keywords']}"
   ]
  },
  {
   "cell_type": "code",
   "execution_count": 107,
   "metadata": {
    "_kg_hide-input": true
   },
   "outputs": [],
   "source": [
    "study_designs = {'RCT': ['RCT', 'randomized controlled trial', 'randomised controlled trial', 'randomized control trial', 'randomised control trial',\n",
    "                         'randomized clinical trial','randomised clinical trial'], \n",
    "                'time series analysis': ['time series analysis', 'time series', 'survival analysis'],\n",
    "                'retrospective cohort': ['retrospective cohort'],\n",
    "                'cross-sectional case-control': ['cross-sectional case-control', 'cross sectional case control', 'cross-sectional case control'],\n",
    "                'prospective case-control': ['prospective case-control', 'prospective case control'],\n",
    "                'matched case-control': ['matched case-control', 'matched case control'],\n",
    "                'medical records review': ['medical records review'],\n",
    "                'prevalence survey': ['prevalence survey'],\n",
    "                'syndromic surveillance': ['syndromic surveillance'],\n",
    "                'systematic review': ['systematic review'],\n",
    "                'meta-analysis': ['meta-analysis', 'meta analysis', 'meta-syntheses'],\n",
    "                'interventional study': ['interventional study'],\n",
    "                'association': ['association', 'associated with'],\n",
    "                 'p-value': ['p-value', 'p value'],\n",
    "                 'pseudo-randomized controlled trial': ['pseudo-randomized controlled trial', 'pseudo-randomised controlled trial']\n",
    "                }"
   ]
  },
  {
   "cell_type": "markdown",
   "metadata": {},
   "source": [
    "Keywords from  [https://docs.google.com/spreadsheets/d/1t2e3CHGxHJBiFgHeW0dfwtvCG4x0CDCzcTFX7yz9Z2E/edit#gid=1217643351](https://docs.google.com/spreadsheets/d/1t2e3CHGxHJBiFgHeW0dfwtvCG4x0CDCzcTFX7yz9Z2E/edit#gid=1217643351)"
   ]
  },
  {
   "cell_type": "code",
   "execution_count": 108,
   "metadata": {
    "_kg_hide-input": true
   },
   "outputs": [],
   "source": [
    "generic_keywords = ['estimation',\n",
    " 'prevalence survey',\n",
    " 'response rate',\n",
    " 'incidence',\n",
    " 'psychometric evaluation of instrument',\n",
    " 'median time to event',\n",
    " 'pooled OR',\n",
    " 'd-pooled',\n",
    " 'randomized controlled trial',\n",
    " 'non-randomized',\n",
    " 'allocation method',\n",
    " 'Cochrane review',\n",
    " 'Cox proportional hazards',\n",
    " 'gamma',\n",
    " 'Weibull',\n",
    " 'pseudo-randomised',\n",
    " 'chart review',\n",
    " 'log odds',\n",
    " 'surveillance',\n",
    " 'time-to-event analysis',\n",
    " 'pooled adjusted odds ratio',\n",
    " 'pooled relative risk',\n",
    " 'data abstraction forms',\n",
    " 'frequency',\n",
    " 'etiology logistic regression',\n",
    " 'exclusion criteria',\n",
    " 'eligibility criteria',\n",
    " 'right-censored',\n",
    " 'pooled odds ratio',\n",
    " 'non-comparative study',\n",
    " 'medical records review',\n",
    " 'CONSORT',\n",
    " 'number of controls per case',\n",
    " 'quasi-randomised',\n",
    " 'risk of bias',\n",
    " 'publication bias',\n",
    " 'syndromic surveillance',\n",
    " 'truncated',\n",
    " 'longitudinal',\n",
    " 'matching criteria',\n",
    " 'double-blind',\n",
    " \"Cohen's d\",\n",
    " 'registry data',\n",
    " 'Adjusted Odds Ratio',\n",
    " 'questionnaire development',\n",
    " 'Kaplan-Meier',\n",
    " 'heterogeneity',\n",
    " 'recruitment',\n",
    " 'randomization method',\n",
    " 'censoring',\n",
    " 'meta-analysis',\n",
    " 'non-randomised',\n",
    " 'β',\n",
    " 'electronic medical records',\n",
    " 'eligibility',\n",
    " 'cross-sectional survey',\n",
    " 'PRISMA',\n",
    " 'prevalence',\n",
    " 'inclusion criteria',\n",
    " 'control arm',\n",
    " 'protocol',\n",
    " 'pooled risk ratio',\n",
    " 'non-response bias',\n",
    " 'baseline',\n",
    " 'retrospective chart review',\n",
    " 'survival analysis',\n",
    " 'logistic regression',\n",
    " 'blind',\n",
    " 'exposure status',\n",
    " 'randomized',\n",
    " 'associated with',\n",
    " 'lognormal',\n",
    " 'systematic review',\n",
    " 'RCT',\n",
    " 'randomised',\n",
    " 'survey instrument',\n",
    " 'interrater reliability',\n",
    " 'randomisation',\n",
    " 'pooled RR',\n",
    " 'hazard ratio',\n",
    " 'AOR',\n",
    " 'potential confounders',\n",
    " 'treatment effect',\n",
    " 'randomized clinical trial',\n",
    " 'data collection instrument',\n",
    " 'pooled AOR',\n",
    " 'association',\n",
    " 'power',\n",
    " \"cohen's kappa\",\n",
    " 'pseudo-randomized',\n",
    " 'treatment arm',\n",
    " 'search string',\n",
    " 'quasi-randomized',\n",
    " 'cohort',\n",
    " 'risk factors',\n",
    " 'difference between means',\n",
    " 'registry',\n",
    " 'inter-rater reliability',\n",
    " 'Odds Ratio',\n",
    " 'placebo',\n",
    " 'databases searched',\n",
    " 'risk factor analysis',\n",
    " 'difference in means',\n",
    " 'random sample',\n",
    " 'etiology',\n",
    " 'i2']"
   ]
  },
  {
   "cell_type": "code",
   "execution_count": 109,
   "metadata": {},
   "outputs": [],
   "source": [
    "for a in generic_keywords:\n",
    "    if a not in [x for v in study_designs.values() for x in v]:\n",
    "        study_designs[a] = [a]"
   ]
  },
  {
   "cell_type": "code",
   "execution_count": 110,
   "metadata": {},
   "outputs": [
    {
     "data": {
      "text/plain": [
       "127"
      ]
     },
     "execution_count": 110,
     "metadata": {},
     "output_type": "execute_result"
    }
   ],
   "source": [
    "len([x for v in study_designs.values() for x in v])"
   ]
  },
  {
   "cell_type": "code",
   "execution_count": 111,
   "metadata": {
    "_kg_hide-input": true
   },
   "outputs": [],
   "source": [
    "# def tag_study_design(study_designs):\n",
    "#     df['study_design'] = [set() for _ in range(len(df))]\n",
    "#     for tag in study_designs.keys():\n",
    "#         for synonym in study_designs[tag]:\n",
    "#             df[df.abstract.str.contains(synonym, case=False, na=False)].study_design.apply(lambda x: x.add(tag))"
   ]
  },
  {
   "cell_type": "code",
   "execution_count": 112,
   "metadata": {},
   "outputs": [],
   "source": [
    "def tag_study_design(study_designs):\n",
    "    df['study_abstract'] = [set() for _ in range(len(df))]\n",
    "    df['study_methods'] = [set() for _ in range(len(df))]\n",
    "    df['study_results'] = [set() for _ in range(len(df))]\n",
    "\n",
    "    for tag in study_designs.keys():\n",
    "        for synonym in study_designs[tag]:\n",
    "            df[df.abstract.str.contains(synonym, case=False, na=False) | df.title.str.contains(synonym, case=False, na=False)].study_abstract.apply(lambda x: x.add(tag))\n",
    "            df[df.methods.str.contains(synonym, case=False, na=False)].study_methods.apply(lambda x: x.add(tag))\n",
    "            df[df.results.str.contains(synonym, case=False, na=False)].study_results.apply(lambda x: x.add(tag))\n",
    "    \n",
    "    df['study_design'] = df.apply(lambda x: list(x.study_abstract.union(x.study_methods).union(x.study_results)), axis=1)\n",
    "    df.study_abstract = df.study_abstract.apply(lambda x: list(x))\n",
    "    df.study_methods = df.study_abstract.apply(lambda x: list(x))\n",
    "    df.study_results = df.study_results.apply(lambda x: list(x))"
   ]
  },
  {
   "cell_type": "code",
   "execution_count": 113,
   "metadata": {},
   "outputs": [],
   "source": [
    "tag_study_design(study_designs)"
   ]
  },
  {
   "cell_type": "code",
   "execution_count": 114,
   "metadata": {},
   "outputs": [
    {
     "data": {
      "text/plain": [
       "48366                           [association, protocol]\n",
       "48371                       [estimation, heterogeneity]\n",
       "48375                              [exclusion criteria]\n",
       "48378                          [prevalence, estimation]\n",
       "48381                                        [protocol]\n",
       "48382                         [estimation, association]\n",
       "48386                                             [AOR]\n",
       "48387    [random sample, power, association, frequency]\n",
       "48388                                           [power]\n",
       "48391                 [time series analysis, incidence]\n",
       "48393                                    [surveillance]\n",
       "48399                     [estimation, power, protocol]\n",
       "48402                 [truncated, gamma, heterogeneity]\n",
       "48404                   [power, p-value, heterogeneity]\n",
       "48405                                   [heterogeneity]\n",
       "48407                                     [association]\n",
       "48412                         [time series analysis, β]\n",
       "48416                                      [prevalence]\n",
       "48417         [time series analysis, estimation, power]\n",
       "48422                                     [β, baseline]\n",
       "Name: study_design, dtype: object"
      ]
     },
     "execution_count": 114,
     "metadata": {},
     "output_type": "execute_result"
    }
   ],
   "source": [
    "df[df.study_design.str.len() != 0].tail(20).study_design"
   ]
  },
  {
   "cell_type": "code",
   "execution_count": 115,
   "metadata": {},
   "outputs": [
    {
     "data": {
      "text/plain": [
       "17023"
      ]
     },
     "execution_count": 115,
     "metadata": {},
     "output_type": "execute_result"
    }
   ],
   "source": [
    "len(df.study_abstract[df.study_abstract.str.len() != 0])"
   ]
  },
  {
   "cell_type": "code",
   "execution_count": 116,
   "metadata": {},
   "outputs": [
    {
     "data": {
      "text/plain": [
       "17023"
      ]
     },
     "execution_count": 116,
     "metadata": {},
     "output_type": "execute_result"
    }
   ],
   "source": [
    "len(df.study_methods[df.study_methods.str.len() != 0])"
   ]
  },
  {
   "cell_type": "code",
   "execution_count": 117,
   "metadata": {},
   "outputs": [
    {
     "data": {
      "text/plain": [
       "10879"
      ]
     },
     "execution_count": 117,
     "metadata": {},
     "output_type": "execute_result"
    }
   ],
   "source": [
    "len(df.study_results[df.study_results.str.len() != 0])"
   ]
  },
  {
   "cell_type": "code",
   "execution_count": 118,
   "metadata": {},
   "outputs": [
    {
     "data": {
      "text/plain": [
       "24603"
      ]
     },
     "execution_count": 118,
     "metadata": {},
     "output_type": "execute_result"
    }
   ],
   "source": [
    "len(df.study_design[df.study_design.str.len() != 0])"
   ]
  },
  {
   "cell_type": "code",
   "execution_count": 119,
   "metadata": {},
   "outputs": [
    {
     "data": {
      "text/plain": [
       "2651"
      ]
     },
     "execution_count": 119,
     "metadata": {},
     "output_type": "execute_result"
    }
   ],
   "source": [
    "len(df.study_design[(df.study_design.str.len() != 0) & df.is_covid19])"
   ]
  },
  {
   "cell_type": "code",
   "execution_count": 120,
   "metadata": {},
   "outputs": [],
   "source": [
    "df.drop(columns=['cord_uid', 'pmcid', 'pubmed_id', 'full_text_file', 'license', 'text_language',\n",
    "                 'study_abstract', 'study_methods', 'study_results'], inplace=True)"
   ]
  },
  {
   "cell_type": "markdown",
   "metadata": {},
   "source": [
    "# Export as .csv"
   ]
  },
  {
   "cell_type": "code",
   "execution_count": 121,
   "metadata": {},
   "outputs": [
    {
     "data": {
      "text/html": [
       "<div>\n",
       "<style scoped>\n",
       "    .dataframe tbody tr th:only-of-type {\n",
       "        vertical-align: middle;\n",
       "    }\n",
       "\n",
       "    .dataframe tbody tr th {\n",
       "        vertical-align: top;\n",
       "    }\n",
       "\n",
       "    .dataframe thead th {\n",
       "        text-align: right;\n",
       "    }\n",
       "</style>\n",
       "<table border=\"1\" class=\"dataframe\">\n",
       "  <thead>\n",
       "    <tr style=\"text-align: right;\">\n",
       "      <th></th>\n",
       "      <th>paper_id</th>\n",
       "      <th>body_text</th>\n",
       "      <th>methods</th>\n",
       "      <th>results</th>\n",
       "      <th>source</th>\n",
       "      <th>title</th>\n",
       "      <th>doi</th>\n",
       "      <th>abstract</th>\n",
       "      <th>publish_time</th>\n",
       "      <th>authors</th>\n",
       "      <th>journal</th>\n",
       "      <th>arxiv_id</th>\n",
       "      <th>url</th>\n",
       "      <th>publish_year</th>\n",
       "      <th>is_covid19</th>\n",
       "      <th>study_design</th>\n",
       "    </tr>\n",
       "  </thead>\n",
       "  <tbody>\n",
       "    <tr>\n",
       "      <th>0</th>\n",
       "      <td>3cdc48bb9e40afd30a59463b7872761a726998c8</td>\n",
       "      <td>NDV (Roakin strain) was obtained from Dr. D. J...</td>\n",
       "      <td>NDV (Roakin strain) was obtained from Dr. D. J...</td>\n",
       "      <td>Adult house flies harbored Newcastle Disease v...</td>\n",
       "      <td>PMC</td>\n",
       "      <td>Experimental Evaluation of Musca domestica (Di...</td>\n",
       "      <td>10.1093/jmedent/44.4.666</td>\n",
       "      <td>House flies, Musca domestica L. (Diptera: Musc...</td>\n",
       "      <td>2007-07-01</td>\n",
       "      <td>Watson, D. Wes; Niño, Elina L.; Rochon, Katery...</td>\n",
       "      <td>J Med Entomol</td>\n",
       "      <td>NaN</td>\n",
       "      <td>https://www.ncbi.nlm.nih.gov/pmc/articles/PMC7...</td>\n",
       "      <td>2007</td>\n",
       "      <td>False</td>\n",
       "      <td>[]</td>\n",
       "    </tr>\n",
       "    <tr>\n",
       "      <th>1</th>\n",
       "      <td>d99acb4e99be7852aa61a688c9fbd38d44b5a252</td>\n",
       "      <td>Live attenuated viruses have been developed an...</td>\n",
       "      <td>RSV A2 strain was obtained from ATCC (Manassas...</td>\n",
       "      <td>The reverse genetics system for measles Edmons...</td>\n",
       "      <td>PMC</td>\n",
       "      <td>Evaluation of Measles Vaccine Virus as a Vecto...</td>\n",
       "      <td>10.2174/1874357901206010012</td>\n",
       "      <td>Live attenuated recombinant measles vaccine vi...</td>\n",
       "      <td>2012-02-16</td>\n",
       "      <td>Mok, Hoyin; Cheng, Xing; Xu, Qi; Zengel, James...</td>\n",
       "      <td>Open Virol J</td>\n",
       "      <td>NaN</td>\n",
       "      <td>https://www.ncbi.nlm.nih.gov/pmc/articles/PMC3...</td>\n",
       "      <td>2012</td>\n",
       "      <td>False</td>\n",
       "      <td>[truncated, gamma, protocol]</td>\n",
       "    </tr>\n",
       "    <tr>\n",
       "      <th>2</th>\n",
       "      <td>748d4c57fe1acc8d9d97cf574f7dea5296f9386c</td>\n",
       "      <td>Ebola virus (EBOV) and other members of the fa...</td>\n",
       "      <td>U2OS human osteosarcoma cells were cultured in...</td>\n",
       "      <td>For evaluating EBOV GP triggering under biosaf...</td>\n",
       "      <td>PMC</td>\n",
       "      <td>Direct Visualization of Ebola Virus Fusion Tri...</td>\n",
       "      <td>10.1128/mbio.01857-15</td>\n",
       "      <td>Ebola virus (EBOV) makes extensive and intrica...</td>\n",
       "      <td>2016-02-09</td>\n",
       "      <td>Spence, Jennifer S.; Krause, Tyler B.; Mittler...</td>\n",
       "      <td>mBio</td>\n",
       "      <td>NaN</td>\n",
       "      <td>https://www.ncbi.nlm.nih.gov/pmc/articles/PMC4...</td>\n",
       "      <td>2016</td>\n",
       "      <td>False</td>\n",
       "      <td>[truncated, heterogeneity]</td>\n",
       "    </tr>\n",
       "    <tr>\n",
       "      <th>3</th>\n",
       "      <td>b891efc6e1419713b05ff7d89b26d260478c28df</td>\n",
       "      <td>To the Editor:\\nChina has the world's second l...</td>\n",
       "      <td></td>\n",
       "      <td></td>\n",
       "      <td>PMC</td>\n",
       "      <td>Tuberculosis prevention in healthcare workers ...</td>\n",
       "      <td>10.1183/23120541.00015-2015</td>\n",
       "      <td>BSL3 and respiratory isolation wards protect h...</td>\n",
       "      <td>2015-08-21</td>\n",
       "      <td>Deng, Yunfeng; Li, Yan; Wang, Fengtian; Gao, D...</td>\n",
       "      <td>ERJ Open Res</td>\n",
       "      <td>NaN</td>\n",
       "      <td>https://www.ncbi.nlm.nih.gov/pmc/articles/PMC5...</td>\n",
       "      <td>2015</td>\n",
       "      <td>False</td>\n",
       "      <td>[]</td>\n",
       "    </tr>\n",
       "    <tr>\n",
       "      <th>4</th>\n",
       "      <td>353852971069ad5794445e5c1ab6077ce23da75d</td>\n",
       "      <td>Coronavirus disease 2019 (COVID-19) has spread...</td>\n",
       "      <td></td>\n",
       "      <td></td>\n",
       "      <td>NaN</td>\n",
       "      <td>NaN</td>\n",
       "      <td>NaN</td>\n",
       "      <td>NaN</td>\n",
       "      <td>NaN</td>\n",
       "      <td>NaN</td>\n",
       "      <td>NaN</td>\n",
       "      <td>NaN</td>\n",
       "      <td>NaN</td>\n",
       "      <td>-1</td>\n",
       "      <td>True</td>\n",
       "      <td>[]</td>\n",
       "    </tr>\n",
       "  </tbody>\n",
       "</table>\n",
       "</div>"
      ],
      "text/plain": [
       "                                   paper_id  \\\n",
       "0  3cdc48bb9e40afd30a59463b7872761a726998c8   \n",
       "1  d99acb4e99be7852aa61a688c9fbd38d44b5a252   \n",
       "2  748d4c57fe1acc8d9d97cf574f7dea5296f9386c   \n",
       "3  b891efc6e1419713b05ff7d89b26d260478c28df   \n",
       "4  353852971069ad5794445e5c1ab6077ce23da75d   \n",
       "\n",
       "                                           body_text  \\\n",
       "0  NDV (Roakin strain) was obtained from Dr. D. J...   \n",
       "1  Live attenuated viruses have been developed an...   \n",
       "2  Ebola virus (EBOV) and other members of the fa...   \n",
       "3  To the Editor:\\nChina has the world's second l...   \n",
       "4  Coronavirus disease 2019 (COVID-19) has spread...   \n",
       "\n",
       "                                             methods  \\\n",
       "0  NDV (Roakin strain) was obtained from Dr. D. J...   \n",
       "1  RSV A2 strain was obtained from ATCC (Manassas...   \n",
       "2  U2OS human osteosarcoma cells were cultured in...   \n",
       "3                                                      \n",
       "4                                                      \n",
       "\n",
       "                                             results source  \\\n",
       "0  Adult house flies harbored Newcastle Disease v...    PMC   \n",
       "1  The reverse genetics system for measles Edmons...    PMC   \n",
       "2  For evaluating EBOV GP triggering under biosaf...    PMC   \n",
       "3                                                       PMC   \n",
       "4                                                       NaN   \n",
       "\n",
       "                                               title  \\\n",
       "0  Experimental Evaluation of Musca domestica (Di...   \n",
       "1  Evaluation of Measles Vaccine Virus as a Vecto...   \n",
       "2  Direct Visualization of Ebola Virus Fusion Tri...   \n",
       "3  Tuberculosis prevention in healthcare workers ...   \n",
       "4                                                NaN   \n",
       "\n",
       "                           doi  \\\n",
       "0     10.1093/jmedent/44.4.666   \n",
       "1  10.2174/1874357901206010012   \n",
       "2        10.1128/mbio.01857-15   \n",
       "3  10.1183/23120541.00015-2015   \n",
       "4                          NaN   \n",
       "\n",
       "                                            abstract publish_time  \\\n",
       "0  House flies, Musca domestica L. (Diptera: Musc...   2007-07-01   \n",
       "1  Live attenuated recombinant measles vaccine vi...   2012-02-16   \n",
       "2  Ebola virus (EBOV) makes extensive and intrica...   2016-02-09   \n",
       "3  BSL3 and respiratory isolation wards protect h...   2015-08-21   \n",
       "4                                                NaN          NaN   \n",
       "\n",
       "                                             authors        journal arxiv_id  \\\n",
       "0  Watson, D. Wes; Niño, Elina L.; Rochon, Katery...  J Med Entomol      NaN   \n",
       "1  Mok, Hoyin; Cheng, Xing; Xu, Qi; Zengel, James...   Open Virol J      NaN   \n",
       "2  Spence, Jennifer S.; Krause, Tyler B.; Mittler...           mBio      NaN   \n",
       "3  Deng, Yunfeng; Li, Yan; Wang, Fengtian; Gao, D...   ERJ Open Res      NaN   \n",
       "4                                                NaN            NaN      NaN   \n",
       "\n",
       "                                                 url  publish_year  \\\n",
       "0  https://www.ncbi.nlm.nih.gov/pmc/articles/PMC7...          2007   \n",
       "1  https://www.ncbi.nlm.nih.gov/pmc/articles/PMC3...          2012   \n",
       "2  https://www.ncbi.nlm.nih.gov/pmc/articles/PMC4...          2016   \n",
       "3  https://www.ncbi.nlm.nih.gov/pmc/articles/PMC5...          2015   \n",
       "4                                                NaN            -1   \n",
       "\n",
       "   is_covid19                  study_design  \n",
       "0       False                            []  \n",
       "1       False  [truncated, gamma, protocol]  \n",
       "2       False    [truncated, heterogeneity]  \n",
       "3       False                            []  \n",
       "4        True                            []  "
      ]
     },
     "execution_count": 121,
     "metadata": {},
     "output_type": "execute_result"
    }
   ],
   "source": [
    "df.head()"
   ]
  },
  {
   "cell_type": "code",
   "execution_count": 122,
   "metadata": {},
   "outputs": [
    {
     "data": {
      "text/plain": [
       "(47110, 16)"
      ]
     },
     "execution_count": 122,
     "metadata": {},
     "output_type": "execute_result"
    }
   ],
   "source": [
    "df.shape"
   ]
  },
  {
   "cell_type": "code",
   "execution_count": 123,
   "metadata": {},
   "outputs": [],
   "source": [
    "df.to_csv('cord19_df.csv', index=False)"
   ]
  }
 ],
 "metadata": {
  "kernelspec": {
   "display_name": "Python 3",
   "language": "python",
   "name": "python3"
  },
  "language_info": {
   "codemirror_mode": {
    "name": "ipython",
    "version": 3
   },
   "file_extension": ".py",
   "mimetype": "text/x-python",
   "name": "python",
   "nbconvert_exporter": "python",
   "pygments_lexer": "ipython3",
   "version": "3.6.6"
  }
 },
 "nbformat": 4,
 "nbformat_minor": 4
}
